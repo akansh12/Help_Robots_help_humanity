{
 "cells": [
  {
   "cell_type": "markdown",
   "metadata": {},
   "source": [
    "# Deep Time Series Classification\n",
    "\n",
    "The time series classification problem seems to be a great choice to apply Deep Learning models. However, even deep models cannot magically give you good results if the data wasn't propertly prepared. \n",
    "\n",
    "The [CareerCon 2019 competition](https://www.kaggle.com/c/career-con-2019) was all about time series classification. In [one of my previous kernels](https://www.kaggle.com/purplejester/a-simple-lstm-based-time-series-classifier), I've tried to apply LSTM model to the dataset and didn't get too impressive accuracy. Also, I was experimenting with 1-d convolutions but again without any luck. So finally, I decided to go with [a more simple apporach](https://www.kaggle.com/purplejester/the-best-friend-of-an-alchemist). Nevertheless, when the competition was ended, [one of the best solutions](https://www.kaggle.com/prith189/starter-code-for-3rd-place-solution) implemented by [prith189](https://www.kaggle.com/prith189) uses Deep Learning to achieve a decent result on both public and private leaderboard.\n",
    "\n",
    "In this notebook, we're going to use PyTorch to create a clone of the mentioned solution and see if we can improve it a bit using modern training techniques.\n",
    "\n",
    "<img src=\"https://i.imgur.com/XWrG9ys.png\" width=\"500\"></img>\n",
    "\n",
    "## Imports\n",
    "\n",
    "In addition to PyTorch, we use \"standard\" Python's data science stack. Also, there are couple of additional functions from the standard library used in utils and snippets."
   ]
  },
  {
   "cell_type": "code",
   "execution_count": 1,
   "metadata": {},
   "outputs": [],
   "source": [
    "from collections import defaultdict\n",
    "from functools import partial\n",
    "from multiprocessing import cpu_count\n",
    "from pathlib import Path\n",
    "from textwrap import dedent"
   ]
  },
  {
   "cell_type": "code",
   "execution_count": 2,
   "metadata": {
    "_cell_guid": "b1076dfc-b9ad-4769-8c92-a6c4dae69d19",
    "_uuid": "8f2839f25d086af736a60e9eeb907d3b93b6e0e5"
   },
   "outputs": [],
   "source": [
    "import matplotlib.pyplot as plt\n",
    "import numpy as np\n",
    "import pandas as pd\n",
    "from sklearn.externals import joblib\n",
    "from sklearn.model_selection import train_test_split\n",
    "from sklearn.preprocessing import LabelEncoder, StandardScaler\n",
    "import torch\n",
    "from torch import nn\n",
    "from torch import optim\n",
    "from torch.nn import functional as F\n",
    "from torch.optim.lr_scheduler import _LRScheduler\n",
    "from torch.utils.data import TensorDataset, DataLoader"
   ]
  },
  {
   "cell_type": "code",
   "execution_count": 3,
   "metadata": {},
   "outputs": [],
   "source": [
    "seed = 1\n",
    "np.random.seed(seed)"
   ]
  },
  {
   "cell_type": "code",
   "execution_count": 4,
   "metadata": {},
   "outputs": [],
   "source": [
    "# path to sample submission\n",
    "sample = Path.cwd().parent/'input'/'career-con-2019'/'sample_submission.csv'"
   ]
  },
  {
   "cell_type": "markdown",
   "metadata": {},
   "source": [
    "## Reading The Preprocessed Dataset\n",
    "\n",
    "As it was already mentioned above, we use a preprocessed data from [this kernel](https://www.kaggle.com/prith189/starter-code-for-3rd-place-solution) to train our models. The preprocessed data was added as a custom dataset. The major differences from the \"raw\" data:\n",
    "1. the `orientaion_[XYZW]` columns were converted into Euler angles (original columns were dropped);\n",
    "2. each measurment sequence was shifted to have zero mean;\n",
    "3. the whole dataset was normalized into `[-1, +1]` range;\n",
    "4. the linear and angular accelerations and velocities were processed with `np.fft.rfft` call and saved as an _additional_ dataset to extend the original data."
   ]
  },
  {
   "cell_type": "code",
   "execution_count": 5,
   "metadata": {
    "_cell_guid": "79c7e3d0-c299-4dcb-8224-4455121ee9b0",
    "_uuid": "d629ff2d2480ee46fbb7e2d37f6b5fab8052498a"
   },
   "outputs": [
    {
     "name": "stdout",
     "output_type": "stream",
     "text": [
      "\n",
      "Dataset shapes:\n",
      "    raw: (7626, 9, 128)\n",
      "    fft: (7626, 6, 65)\n",
      "    target: (7626,)\n",
      "\n"
     ]
    }
   ],
   "source": [
    "ROOT = Path.cwd().parent/'input'/'career-con-2019-preprocessed-data'\n",
    "enc = joblib.load(ROOT/'encoder.model')\n",
    "raw_arr = np.load(ROOT/'feat.npy').transpose(0, 2, 1)\n",
    "fft_arr = np.load(ROOT/'feat_fft.npy').transpose(0, 2, 1)\n",
    "target = np.load(ROOT/'target.npy')\n",
    "print(dedent(f'''\n",
    "Dataset shapes:\n",
    "    raw: {raw_arr.shape}\n",
    "    fft: {fft_arr.shape}\n",
    "    target: {target.shape}\n",
    "'''))"
   ]
  },
  {
   "cell_type": "markdown",
   "metadata": {},
   "source": [
    "Please note that the testing and training data are concatenated into a single Numpy array. The first `3810` rows are the training samples. The rest of rows represent the testing data with dummy labels.\n",
    "\n",
    "## PyTorch Datasets and Data Loaders\n",
    "\n",
    "We create three datasets and data loaders for them to make the data ready for model's training. The process is straightforward. We split the labelled data into two subsets, and keep testing data as is. Also, we convert Numpy arrays into `torch.tensor` objects of proper type (float for samples, and long - for targets)."
   ]
  },
  {
   "cell_type": "code",
   "execution_count": 6,
   "metadata": {},
   "outputs": [],
   "source": [
    "def create_datasets(data, target, train_size, valid_pct=0.1, seed=None):\n",
    "    \"\"\"Converts NumPy arrays into PyTorch datsets.\n",
    "    \n",
    "    Three datasets are created in total:\n",
    "        * training dataset\n",
    "        * validation dataset\n",
    "        * testing (un-labelled) dataset\n",
    "\n",
    "    \"\"\"\n",
    "    raw, fft = data\n",
    "    assert len(raw) == len(fft)\n",
    "    sz = train_size\n",
    "    idx = np.arange(sz)\n",
    "    trn_idx, val_idx = train_test_split(\n",
    "        idx, test_size=valid_pct, random_state=seed)\n",
    "    trn_ds = TensorDataset(\n",
    "        torch.tensor(raw[:sz][trn_idx]).float(), \n",
    "        torch.tensor(fft[:sz][trn_idx]).float(), \n",
    "        torch.tensor(target[:sz][trn_idx]).long())\n",
    "    val_ds = TensorDataset(\n",
    "        torch.tensor(raw[:sz][val_idx]).float(), \n",
    "        torch.tensor(fft[:sz][val_idx]).float(), \n",
    "        torch.tensor(target[:sz][val_idx]).long())\n",
    "    tst_ds = TensorDataset(\n",
    "        torch.tensor(raw[sz:]).float(), \n",
    "        torch.tensor(fft[sz:]).float(), \n",
    "        torch.tensor(target[sz:]).long())\n",
    "    return trn_ds, val_ds, tst_ds"
   ]
  },
  {
   "cell_type": "code",
   "execution_count": 7,
   "metadata": {},
   "outputs": [],
   "source": [
    "def create_loaders(data, bs=128, jobs=0):\n",
    "    \"\"\"Wraps the datasets returned by create_datasets function with data loaders.\"\"\"\n",
    "    \n",
    "    trn_ds, val_ds, tst_ds = data\n",
    "    trn_dl = DataLoader(trn_ds, batch_size=bs, shuffle=True, num_workers=jobs)\n",
    "    val_dl = DataLoader(val_ds, batch_size=bs, shuffle=False, num_workers=jobs)\n",
    "    tst_dl = DataLoader(tst_ds, batch_size=bs, shuffle=False, num_workers=jobs)\n",
    "    return trn_dl, val_dl, tst_dl"
   ]
  },
  {
   "cell_type": "markdown",
   "metadata": {},
   "source": [
    "Next, we're going to create a couple of helper classes to build a classifier. The `torch` framework doesn't have a dedicated `SeparableConv` layers. But we easily can replicate them with the following class. (Which was taken from one of the PyTorch forum's threads). As the code below shows, the separable convolution is a pretty simple thing: two convolutions following one another. The major purpose of this type of layer is to [reduce the number of model's parameters](https://arxiv.org/pdf/1704.04861.pdf)."
   ]
  },
  {
   "cell_type": "code",
   "execution_count": 8,
   "metadata": {},
   "outputs": [],
   "source": [
    "class _SepConv1d(nn.Module):\n",
    "    \"\"\"A simple separable convolution implementation.\n",
    "    \n",
    "    The separable convlution is a method to reduce number of the parameters \n",
    "    in the deep learning network for slight decrease in predictions quality.\n",
    "    \"\"\"\n",
    "    def __init__(self, ni, no, kernel, stride, pad):\n",
    "        super().__init__()\n",
    "        self.depthwise = nn.Conv1d(ni, ni, kernel, stride, padding=pad, groups=ni)\n",
    "        self.pointwise = nn.Conv1d(ni, no, kernel_size=1)\n",
    "\n",
    "    def forward(self, x):\n",
    "        return self.pointwise(self.depthwise(x))"
   ]
  },
  {
   "cell_type": "markdown",
   "metadata": {},
   "source": [
    "Also, we extend a bit the separable convolution layer with activation layer and dropout to simplify the layers initialization process and reduce the number of code lines in the model."
   ]
  },
  {
   "cell_type": "code",
   "execution_count": 9,
   "metadata": {},
   "outputs": [],
   "source": [
    "class SepConv1d(nn.Module):\n",
    "    \"\"\"Implementes a 1-d convolution with 'batteries included'.\n",
    "    \n",
    "    The module adds (optionally) activation function and dropout layers right after\n",
    "    a separable convolution layer.\n",
    "    \"\"\"\n",
    "    def __init__(self, ni, no, kernel, stride, pad, drop=None,\n",
    "                 activ=lambda: nn.ReLU(inplace=True)):\n",
    "    \n",
    "        super().__init__()\n",
    "        assert drop is None or (0.0 < drop < 1.0)\n",
    "        layers = [_SepConv1d(ni, no, kernel, stride, pad)]\n",
    "        if activ:\n",
    "            layers.append(activ())\n",
    "        if drop is not None:\n",
    "            layers.append(nn.Dropout(drop))\n",
    "        self.layers = nn.Sequential(*layers)\n",
    "        \n",
    "    def forward(self, x): \n",
    "        return self.layers(x)"
   ]
  },
  {
   "cell_type": "markdown",
   "metadata": {},
   "source": [
    "The `Flatten` layer replicates `Reshape` layer from `Keras` and makes the convolution layer output ready to pass them into `nn.Linear` layers."
   ]
  },
  {
   "cell_type": "code",
   "execution_count": 10,
   "metadata": {},
   "outputs": [],
   "source": [
    "class Flatten(nn.Module):\n",
    "    \"\"\"Converts N-dimensional tensor into 'flat' one.\"\"\"\n",
    "\n",
    "    def __init__(self, keep_batch_dim=True):\n",
    "        super().__init__()\n",
    "        self.keep_batch_dim = keep_batch_dim\n",
    "\n",
    "    def forward(self, x):\n",
    "        if self.keep_batch_dim:\n",
    "            return x.view(x.size(0), -1)\n",
    "        return x.view(-1)"
   ]
  },
  {
   "cell_type": "markdown",
   "metadata": {},
   "source": [
    "Finally, we create our classifier using the layers created above. As you see, the model consists of two separate \"paths\" which output is concatenated and then passed into the top layers. One path uses the \"raw\" data, and the second one - the data processed with FFT. Therefore, we don't drop the original data but use it in addition to the processed observations."
   ]
  },
  {
   "cell_type": "code",
   "execution_count": 11,
   "metadata": {},
   "outputs": [],
   "source": [
    "class Classifier(nn.Module):\n",
    "    def __init__(self, raw_ni, fft_ni, no, drop=.5):\n",
    "        super().__init__()\n",
    "        \n",
    "        self.raw = nn.Sequential(\n",
    "            SepConv1d(raw_ni,  32, 8, 2, 3, drop=drop),\n",
    "            SepConv1d(    32,  64, 8, 4, 2, drop=drop),\n",
    "            SepConv1d(    64, 128, 8, 4, 2, drop=drop),\n",
    "            SepConv1d(   128, 256, 8, 4, 2),\n",
    "            Flatten(),\n",
    "            nn.Dropout(drop), nn.Linear(256, 64), nn.ReLU(inplace=True),\n",
    "            nn.Dropout(drop), nn.Linear( 64, 64), nn.ReLU(inplace=True))\n",
    "        \n",
    "        self.fft = nn.Sequential(\n",
    "            SepConv1d(fft_ni,  32, 8, 2, 4, drop=drop),\n",
    "            SepConv1d(    32,  64, 8, 2, 4, drop=drop),\n",
    "            SepConv1d(    64, 128, 8, 4, 4, drop=drop),\n",
    "            SepConv1d(   128, 128, 8, 4, 4, drop=drop),\n",
    "            SepConv1d(   128, 256, 8, 2, 3),\n",
    "            Flatten(),\n",
    "            nn.Dropout(drop), nn.Linear(256, 64), nn.ReLU(inplace=True),\n",
    "            nn.Dropout(drop), nn.Linear( 64, 64), nn.ReLU(inplace=True))\n",
    "        \n",
    "        self.out = nn.Sequential(\n",
    "            nn.Linear(128, 64), nn.ReLU(inplace=True), nn.Linear(64, no))\n",
    "        \n",
    "    def forward(self, t_raw, t_fft):\n",
    "        raw_out = self.raw(t_raw)\n",
    "        fft_out = self.fft(t_fft)\n",
    "        t_in = torch.cat([raw_out, fft_out], dim=1)\n",
    "        out = self.out(t_in)\n",
    "        return out"
   ]
  },
  {
   "cell_type": "code",
   "execution_count": 12,
   "metadata": {},
   "outputs": [],
   "source": [
    "trn_sz = 3810  # only the first `trn_sz` rows in each array include labelled data"
   ]
  },
  {
   "cell_type": "code",
   "execution_count": 13,
   "metadata": {},
   "outputs": [],
   "source": [
    "datasets = create_datasets((raw_arr, fft_arr), target, trn_sz, seed=seed)"
   ]
  },
  {
   "cell_type": "code",
   "execution_count": 14,
   "metadata": {},
   "outputs": [],
   "source": [
    "# make sure that we run on a proper device (not relevant for Kaggle kernels but helpful in Jupyter sessions)\n",
    "device = torch.device('cuda:0' if torch.cuda.is_available() else 'cpu')"
   ]
  },
  {
   "cell_type": "markdown",
   "metadata": {},
   "source": [
    "Now everything is ready to create a training loop and see if our model works. For each training epoch, the loop performs the following actions:\n",
    "1. train model on the `trn_ds` dataset;\n",
    "2. verify quality on the `val_ds` dataset;\n",
    "3. check if the quality improved since previous epoch, and if so, save the model's weights onto disk;\n",
    "4. in case if the model's quality isn't impoving for `patience` epochs, the training is stopped.\n",
    "\n",
    "Also, the code tracks loss and accuracy history, and prints current scores with exponentially increasing logging frequency, i.e., only at 1, 2, 4, 8... epochs."
   ]
  },
  {
   "cell_type": "code",
   "execution_count": 15,
   "metadata": {},
   "outputs": [
    {
     "name": "stdout",
     "output_type": "stream",
     "text": [
      "Start model training\n",
      "Epoch:   1. Loss: 1.9356. Acc.: 16.54%\n",
      "Epoch 1 best model saved with accuracy: 16.54%\n",
      "Epoch:   2. Loss: 1.8422. Acc.: 19.69%\n",
      "Epoch 2 best model saved with accuracy: 19.69%\n",
      "Epoch:   4. Loss: 1.8087. Acc.: 19.69%\n",
      "Epoch:   8. Loss: 1.8107. Acc.: 19.69%\n",
      "Epoch 12 best model saved with accuracy: 30.18%\n",
      "Epoch:  16. Loss: 1.5643. Acc.: 30.97%\n",
      "Epoch 16 best model saved with accuracy: 30.97%\n",
      "Epoch 18 best model saved with accuracy: 33.33%\n",
      "Epoch 20 best model saved with accuracy: 34.12%\n",
      "Epoch 21 best model saved with accuracy: 36.48%\n",
      "Epoch 23 best model saved with accuracy: 38.85%\n",
      "Epoch 25 best model saved with accuracy: 40.94%\n",
      "Epoch 29 best model saved with accuracy: 41.99%\n",
      "Epoch:  32. Loss: 1.3294. Acc.: 41.21%\n",
      "Epoch 35 best model saved with accuracy: 43.57%\n",
      "Epoch 40 best model saved with accuracy: 43.83%\n",
      "Epoch 41 best model saved with accuracy: 44.88%\n",
      "Epoch 42 best model saved with accuracy: 45.67%\n",
      "Epoch 43 best model saved with accuracy: 46.46%\n",
      "Epoch 46 best model saved with accuracy: 46.98%\n",
      "Epoch 49 best model saved with accuracy: 47.24%\n",
      "Epoch 51 best model saved with accuracy: 48.03%\n",
      "Epoch 53 best model saved with accuracy: 51.44%\n",
      "Epoch 54 best model saved with accuracy: 53.28%\n",
      "Epoch 55 best model saved with accuracy: 55.64%\n",
      "Epoch 58 best model saved with accuracy: 57.22%\n",
      "Epoch 63 best model saved with accuracy: 57.74%\n",
      "Epoch:  64. Loss: 1.0199. Acc.: 58.27%\n",
      "Epoch 64 best model saved with accuracy: 58.27%\n",
      "Epoch 65 best model saved with accuracy: 59.84%\n",
      "Epoch 67 best model saved with accuracy: 61.15%\n",
      "Epoch 68 best model saved with accuracy: 61.94%\n",
      "Epoch 72 best model saved with accuracy: 62.20%\n",
      "Epoch 74 best model saved with accuracy: 63.25%\n",
      "Epoch 75 best model saved with accuracy: 65.09%\n",
      "Epoch 76 best model saved with accuracy: 65.62%\n",
      "Epoch 79 best model saved with accuracy: 66.14%\n",
      "Epoch 82 best model saved with accuracy: 66.40%\n",
      "Epoch 83 best model saved with accuracy: 67.19%\n",
      "Epoch 87 best model saved with accuracy: 69.29%\n",
      "Epoch 109 best model saved with accuracy: 69.82%\n",
      "Epoch 114 best model saved with accuracy: 70.08%\n",
      "Epoch 116 best model saved with accuracy: 71.13%\n",
      "Epoch 125 best model saved with accuracy: 71.39%\n",
      "Epoch: 128. Loss: 0.7259. Acc.: 69.29%\n",
      "Epoch 129 best model saved with accuracy: 71.65%\n",
      "Epoch 136 best model saved with accuracy: 72.18%\n",
      "Epoch 144 best model saved with accuracy: 73.49%\n",
      "Epoch 153 best model saved with accuracy: 74.02%\n",
      "Epoch 180 best model saved with accuracy: 75.85%\n",
      "Epoch 236 best model saved with accuracy: 77.43%\n",
      "Epoch: 256. Loss: 0.5782. Acc.: 73.75%\n",
      "Epoch 309 best model saved with accuracy: 78.48%\n",
      "Epoch 359 best model saved with accuracy: 78.74%\n",
      "Epoch 391 best model saved with accuracy: 79.27%\n",
      "Epoch 465 best model saved with accuracy: 79.53%\n",
      "Epoch: 512. Loss: 0.4906. Acc.: 77.17%\n",
      "Epoch 545 best model saved with accuracy: 79.79%\n",
      "Epoch 977 best model saved with accuracy: 80.58%\n",
      "Epoch: 1024. Loss: 0.4161. Acc.: 79.00%\n",
      "Epoch 1344 best model saved with accuracy: 80.84%\n",
      "Epoch 1447 best model saved with accuracy: 81.36%\n",
      "Epoch 1537 best model saved with accuracy: 81.63%\n",
      "Epoch 1869 best model saved with accuracy: 81.89%\n",
      "Epoch 1875 best model saved with accuracy: 82.15%\n",
      "Epoch 1989 best model saved with accuracy: 82.94%\n",
      "Epoch: 2048. Loss: 0.3376. Acc.: 80.84%\n",
      "Early stopping on epoch 2489\n",
      "Done!\n"
     ]
    }
   ],
   "source": [
    "raw_feat = raw_arr.shape[1]\n",
    "fft_feat = fft_arr.shape[1]\n",
    "\n",
    "trn_dl, val_dl, tst_dl = create_loaders(datasets, bs=256)\n",
    "\n",
    "lr = 0.001\n",
    "n_epochs = 3000\n",
    "iterations_per_epoch = len(trn_dl)\n",
    "num_classes = 9\n",
    "best_acc = 0\n",
    "patience, trials = 500, 0\n",
    "base = 1\n",
    "step = 2\n",
    "loss_history = []\n",
    "acc_history = []\n",
    "\n",
    "model = Classifier(raw_feat, fft_feat, num_classes).to(device)\n",
    "criterion = nn.CrossEntropyLoss(reduction='sum')\n",
    "opt = optim.Adam(model.parameters(), lr=lr)\n",
    "\n",
    "print('Start model training')\n",
    "\n",
    "for epoch in range(1, n_epochs + 1):\n",
    "    \n",
    "    model.train()\n",
    "    epoch_loss = 0\n",
    "    for i, batch in enumerate(trn_dl):\n",
    "        x_raw, x_fft, y_batch = [t.to(device) for t in batch]\n",
    "        opt.zero_grad()\n",
    "        out = model(x_raw, x_fft)\n",
    "        loss = criterion(out, y_batch)\n",
    "        epoch_loss += loss.item()\n",
    "        loss.backward()\n",
    "        opt.step()\n",
    "        \n",
    "    epoch_loss /= trn_sz\n",
    "    loss_history.append(epoch_loss)\n",
    "    \n",
    "    model.eval()\n",
    "    correct, total = 0, 0\n",
    "    for batch in val_dl:\n",
    "        x_raw, x_fft, y_batch = [t.to(device) for t in batch]\n",
    "        out = model(x_raw, x_fft)\n",
    "        preds = F.log_softmax(out, dim=1).argmax(dim=1)\n",
    "        total += y_batch.size(0)\n",
    "        correct += (preds == y_batch).sum().item()\n",
    "    \n",
    "    acc = correct / total\n",
    "    acc_history.append(acc)\n",
    "\n",
    "    if epoch % base == 0:\n",
    "        print(f'Epoch: {epoch:3d}. Loss: {epoch_loss:.4f}. Acc.: {acc:2.2%}')\n",
    "        base *= step\n",
    "\n",
    "    if acc > best_acc:\n",
    "        trials = 0\n",
    "        best_acc = acc\n",
    "        torch.save(model.state_dict(), 'best.pth')\n",
    "        print(f'Epoch {epoch} best model saved with accuracy: {best_acc:2.2%}')\n",
    "    else:\n",
    "        trials += 1\n",
    "        if trials >= patience:\n",
    "            print(f'Early stopping on epoch {epoch}')\n",
    "            break\n",
    "            \n",
    "print('Done!')"
   ]
  },
  {
   "cell_type": "markdown",
   "metadata": {},
   "source": [
    "Now we can plot the training history and run the model on the testing dataset."
   ]
  },
  {
   "cell_type": "code",
   "execution_count": 16,
   "metadata": {},
   "outputs": [],
   "source": [
    "def smooth(y, box_pts):\n",
    "    box = np.ones(box_pts)/box_pts\n",
    "    y_smooth = np.convolve(y, box, mode='same')\n",
    "    return y_smooth"
   ]
  },
  {
   "cell_type": "code",
   "execution_count": 17,
   "metadata": {},
   "outputs": [
    {
     "data": {
      "image/png": "[encoded data removed]",
      "text/plain": [
       "<Figure size 864x288 with 2 Axes>"
      ]
     },
     "metadata": {},
     "output_type": "display_data"
    }
   ],
   "source": [
    "f, ax = plt.subplots(1, 2, figsize=(12, 4))\n",
    "\n",
    "ax[0].plot(loss_history, label='loss')\n",
    "ax[0].set_title('Validation Loss History')\n",
    "ax[0].set_xlabel('Epoch no.')\n",
    "ax[0].set_ylabel('Loss')\n",
    "\n",
    "ax[1].plot(smooth(acc_history, 5)[:-2], label='acc')\n",
    "ax[1].set_title('Validation Accuracy History')\n",
    "ax[1].set_xlabel('Epoch no.')\n",
    "ax[1].set_ylabel('Accuracy');"
   ]
  },
  {
   "cell_type": "code",
   "execution_count": 18,
   "metadata": {},
   "outputs": [],
   "source": [
    "test_results = []\n",
    "model.load_state_dict(torch.load('best.pth'))\n",
    "model.eval()\n",
    "for x_raw, x_fft, _ in tst_dl:\n",
    "    batches = [t.to(device) for t in (x_raw, x_fft)]\n",
    "    out = model(*batches)\n",
    "    y_hat = F.log_softmax(out, dim=1).argmax(dim=1)\n",
    "    test_results.extend(y_hat.tolist())"
   ]
  },
  {
   "cell_type": "code",
   "execution_count": 19,
   "metadata": {},
   "outputs": [],
   "source": [
    "submit = pd.read_csv(sample)\n",
    "submit['surface'] = enc.inverse_transform(test_results)\n",
    "submit.to_csv('submit_base.csv', index=None)"
   ]
  },
  {
   "cell_type": "markdown",
   "metadata": {},
   "source": [
    "## Is It Possible to Improve?\n",
    "\n",
    "The model shown above shows pretty good quality of predictions, especially when compared to the naïve solutions. But can we do better? Let's see if we can improve the quality of predictions using a couple of additional tricks.\n",
    "\n",
    "First of all, we can try to use dynamic learning rate scheduling. Let's use the [One-Cycle Policy schedule](https://docs.fast.ai/training.html) inspired by L. Smith's papers."
   ]
  },
  {
   "cell_type": "code",
   "execution_count": 20,
   "metadata": {},
   "outputs": [],
   "source": [
    "def cosine(epoch, t_max, ampl):\n",
    "    \"\"\"Shifted and scaled cosine function.\"\"\"\n",
    "    \n",
    "    t = epoch % t_max\n",
    "    return (1 + np.cos(np.pi*t/t_max))*ampl/2"
   ]
  },
  {
   "cell_type": "code",
   "execution_count": 21,
   "metadata": {},
   "outputs": [],
   "source": [
    "def inv_cosine(epoch, t_max, ampl):\n",
    "    \"\"\"A cosine function reflected on X-axis.\"\"\"\n",
    "    \n",
    "    return 1 - cosine(epoch, t_max, ampl)"
   ]
  },
  {
   "cell_type": "code",
   "execution_count": 22,
   "metadata": {},
   "outputs": [],
   "source": [
    "def one_cycle(epoch, t_max, a1=0.6, a2=1.0, pivot=0.3):\n",
    "    \"\"\"A combined schedule with two cosine half-waves.\"\"\"\n",
    "    \n",
    "    pct = epoch / t_max\n",
    "    if pct < pivot:\n",
    "        return inv_cosine(epoch, pivot*t_max, a1)\n",
    "    return cosine(epoch - pivot*t_max, (1-pivot)*t_max, a2)"
   ]
  },
  {
   "cell_type": "code",
   "execution_count": 23,
   "metadata": {},
   "outputs": [
    {
     "data": {
      "image/png": "[encoded data removed]",
      "text/plain": [
       "<Figure size 432x288 with 1 Axes>"
      ]
     },
     "metadata": {},
     "output_type": "display_data"
    }
   ],
   "source": [
    "n = 1000\n",
    "sched = partial(one_cycle, t_max=n, pivot=0.2)\n",
    "items = [sched(t) for t in range(n)]\n",
    "plt.plot(items);"
   ]
  },
  {
   "cell_type": "markdown",
   "metadata": {},
   "source": [
    "As the picture above shows, the learning rate slowly increases up to some point, and then starts to decrese down to zero. Also note that our scheduling function returns values in range `[0, 1]`. Then we'll multiply the base learning rate set in the optimizer by these values returned from the scheduling function. Therefore, our function instead of returning absolute learning rates works as a _scaler_ that modifies the base value as training iterations increase."
   ]
  },
  {
   "cell_type": "code",
   "execution_count": 24,
   "metadata": {},
   "outputs": [],
   "source": [
    "class Scheduler:\n",
    "    \"\"\"Updates optimizer's learning rates using provided scheduling function.\"\"\"\n",
    "    \n",
    "    def __init__(self, opt, schedule):\n",
    "        self.opt = opt\n",
    "        self.schedule = schedule\n",
    "        self.history = defaultdict(list)\n",
    "    \n",
    "    def step(self, t):\n",
    "        for i, group in enumerate(self.opt.param_groups):\n",
    "            lr = opt.defaults['lr'] * self.schedule(t)\n",
    "            group['lr'] = lr\n",
    "            self.history[i].append(lr)"
   ]
  },
  {
   "cell_type": "markdown",
   "metadata": {},
   "source": [
    "In addition, we can try to add `nn.BatchNorm1d` layers to our convolutions and use a different activation function that is [less prone to the problem of \"dead neurons\" which could be very prominent in case of `ReLU`](http://cs231n.github.io/neural-networks-1/#actfun). (See the section on activation functions)."
   ]
  },
  {
   "cell_type": "code",
   "execution_count": 25,
   "metadata": {},
   "outputs": [],
   "source": [
    "class SepConv1d(nn.Module):\n",
    "    \"\"\"Implementes a 1-d convolution with 'batteries included'.\n",
    "    \n",
    "    The module adds (optionally) activation function and dropout \n",
    "    layers right after a separable convolution layer.\n",
    "    \"\"\"\n",
    "    def __init__(self, ni, no, kernel, stride, pad, \n",
    "                 drop=None, bn=True,\n",
    "                 activ=lambda: nn.PReLU()):\n",
    "    \n",
    "        super().__init__()\n",
    "        assert drop is None or (0.0 < drop < 1.0)\n",
    "        layers = [_SepConv1d(ni, no, kernel, stride, pad)]\n",
    "        if activ:\n",
    "            layers.append(activ())\n",
    "        if bn:\n",
    "            layers.append(nn.BatchNorm1d(no))\n",
    "        if drop is not None:\n",
    "            layers.append(nn.Dropout(drop))\n",
    "        self.layers = nn.Sequential(*layers)\n",
    "        \n",
    "    def forward(self, x): \n",
    "        return self.layers(x)"
   ]
  },
  {
   "cell_type": "markdown",
   "metadata": {},
   "source": [
    "Finally, we could try to increase the depth of network as soon as we included batch normalization layers and `PReLU` activations which could reduce the negative effects of increased depth."
   ]
  },
  {
   "cell_type": "code",
   "execution_count": 26,
   "metadata": {},
   "outputs": [],
   "source": [
    "class Classifier(nn.Module):\n",
    "    def __init__(self, raw_ni, fft_ni, no, drop=.5):\n",
    "        super().__init__()\n",
    "        \n",
    "        self.raw = nn.Sequential(\n",
    "            SepConv1d(raw_ni,  32, 8, 2, 3, drop=drop),\n",
    "            SepConv1d(    32,  32, 3, 1, 1, drop=drop),\n",
    "            SepConv1d(    32,  64, 8, 4, 2, drop=drop),\n",
    "            SepConv1d(    64,  64, 3, 1, 1, drop=drop),\n",
    "            SepConv1d(    64, 128, 8, 4, 2, drop=drop),\n",
    "            SepConv1d(   128, 128, 3, 1, 1, drop=drop),\n",
    "            SepConv1d(   128, 256, 8, 4, 2),\n",
    "            Flatten(),\n",
    "            nn.Dropout(drop), nn.Linear(256, 64), nn.PReLU(), nn.BatchNorm1d(64),\n",
    "            nn.Dropout(drop), nn.Linear( 64, 64), nn.PReLU(), nn.BatchNorm1d(64))\n",
    "        \n",
    "        self.fft = nn.Sequential(\n",
    "            SepConv1d(fft_ni,  32, 8, 2, 4, drop=drop),\n",
    "            SepConv1d(    32,  32, 3, 1, 1, drop=drop),\n",
    "            SepConv1d(    32,  64, 8, 2, 4, drop=drop),\n",
    "            SepConv1d(    64,  64, 3, 1, 1, drop=drop),\n",
    "            SepConv1d(    64, 128, 8, 4, 4, drop=drop),\n",
    "            SepConv1d(   128, 128, 8, 4, 4, drop=drop),\n",
    "            SepConv1d(   128, 256, 8, 2, 3),\n",
    "            Flatten(),\n",
    "            nn.Dropout(drop), nn.Linear(256, 64), nn.PReLU(), nn.BatchNorm1d(64),\n",
    "            nn.Dropout(drop), nn.Linear( 64, 64), nn.PReLU(), nn.BatchNorm1d(64))\n",
    "        \n",
    "        self.out = nn.Sequential(\n",
    "            nn.Linear(128, 64), nn.ReLU(inplace=True), nn.Linear(64, no))\n",
    "        \n",
    "        self.init_weights(nn.init.kaiming_normal_)\n",
    "        \n",
    "    def init_weights(self, init_fn):\n",
    "        def init(m): \n",
    "            for child in m.children():\n",
    "                if isinstance(child, nn.Conv1d):\n",
    "                    init_fn(child.weights)\n",
    "        init(self)\n",
    "        \n",
    "    def forward(self, t_raw, t_fft):\n",
    "        raw_out = self.raw(t_raw)\n",
    "        fft_out = self.fft(t_fft)\n",
    "        t_in = torch.cat([raw_out, fft_out], dim=1)\n",
    "        out = self.out(t_in)\n",
    "        return out"
   ]
  },
  {
   "cell_type": "markdown",
   "metadata": {},
   "source": [
    "The training loop is almost exactly copied-and-pasted from the previous cell. The only change is one-cycle scheduler and learning rate updates."
   ]
  },
  {
   "cell_type": "code",
   "execution_count": 27,
   "metadata": {},
   "outputs": [
    {
     "name": "stdout",
     "output_type": "stream",
     "text": [
      "Start model training\n",
      "Epoch:   1. Loss: 1.9626. Acc.: 12.60%\n",
      "Epoch 1 best model saved with accuracy: 12.60%\n",
      "Epoch:   2. Loss: 1.9263. Acc.: 16.54%\n",
      "Epoch 2 best model saved with accuracy: 16.54%\n",
      "Epoch:   4. Loss: 1.8455. Acc.: 16.54%\n",
      "Epoch 7 best model saved with accuracy: 16.80%\n",
      "Epoch:   8. Loss: 1.6747. Acc.: 16.80%\n",
      "Epoch 9 best model saved with accuracy: 17.06%\n",
      "Epoch 12 best model saved with accuracy: 17.59%\n",
      "Epoch 13 best model saved with accuracy: 18.11%\n",
      "Epoch 15 best model saved with accuracy: 18.37%\n",
      "Epoch:  16. Loss: 1.5411. Acc.: 18.64%\n",
      "Epoch 16 best model saved with accuracy: 18.64%\n",
      "Epoch 17 best model saved with accuracy: 19.16%\n",
      "Epoch 18 best model saved with accuracy: 19.69%\n",
      "Epoch 19 best model saved with accuracy: 20.47%\n",
      "Epoch 20 best model saved with accuracy: 21.00%\n",
      "Epoch 21 best model saved with accuracy: 23.36%\n",
      "Epoch 23 best model saved with accuracy: 24.41%\n",
      "Epoch 26 best model saved with accuracy: 26.51%\n",
      "Epoch 30 best model saved with accuracy: 28.87%\n",
      "Epoch:  32. Loss: 1.4547. Acc.: 29.92%\n",
      "Epoch 32 best model saved with accuracy: 29.92%\n",
      "Epoch 34 best model saved with accuracy: 33.33%\n",
      "Epoch 38 best model saved with accuracy: 34.38%\n",
      "Epoch 42 best model saved with accuracy: 35.70%\n",
      "Epoch 48 best model saved with accuracy: 35.96%\n",
      "Epoch 49 best model saved with accuracy: 36.75%\n",
      "Epoch 61 best model saved with accuracy: 38.06%\n",
      "Epoch:  64. Loss: 1.3657. Acc.: 37.01%\n",
      "Epoch 68 best model saved with accuracy: 38.32%\n",
      "Epoch 80 best model saved with accuracy: 38.58%\n",
      "Epoch 86 best model saved with accuracy: 40.42%\n",
      "Epoch 87 best model saved with accuracy: 40.68%\n",
      "Epoch 88 best model saved with accuracy: 41.73%\n",
      "Epoch 90 best model saved with accuracy: 41.99%\n",
      "Epoch 91 best model saved with accuracy: 43.04%\n",
      "Epoch 92 best model saved with accuracy: 43.83%\n",
      "Epoch 95 best model saved with accuracy: 44.62%\n",
      "Epoch 96 best model saved with accuracy: 45.93%\n",
      "Epoch 98 best model saved with accuracy: 47.24%\n",
      "Epoch 100 best model saved with accuracy: 49.34%\n",
      "Epoch 101 best model saved with accuracy: 49.87%\n",
      "Epoch 102 best model saved with accuracy: 51.71%\n",
      "Epoch 103 best model saved with accuracy: 54.07%\n",
      "Epoch 104 best model saved with accuracy: 55.12%\n",
      "Epoch 106 best model saved with accuracy: 58.53%\n",
      "Epoch 108 best model saved with accuracy: 60.10%\n",
      "Epoch 109 best model saved with accuracy: 60.37%\n",
      "Epoch 110 best model saved with accuracy: 61.94%\n",
      "Epoch 111 best model saved with accuracy: 64.30%\n",
      "Epoch 115 best model saved with accuracy: 64.83%\n",
      "Epoch: 128. Loss: 0.8877. Acc.: 63.25%\n",
      "Epoch 130 best model saved with accuracy: 65.09%\n",
      "Epoch 132 best model saved with accuracy: 65.62%\n",
      "Epoch 134 best model saved with accuracy: 67.45%\n",
      "Epoch 137 best model saved with accuracy: 68.24%\n",
      "Epoch 138 best model saved with accuracy: 68.50%\n",
      "Epoch 140 best model saved with accuracy: 68.77%\n",
      "Epoch 143 best model saved with accuracy: 70.08%\n",
      "Epoch 154 best model saved with accuracy: 72.44%\n",
      "Epoch 167 best model saved with accuracy: 73.23%\n",
      "Epoch 178 best model saved with accuracy: 74.02%\n",
      "Epoch 186 best model saved with accuracy: 75.59%\n",
      "Epoch 211 best model saved with accuracy: 76.90%\n",
      "Epoch 232 best model saved with accuracy: 77.95%\n",
      "Epoch 252 best model saved with accuracy: 78.22%\n",
      "Epoch: 256. Loss: 0.6272. Acc.: 77.95%\n",
      "Epoch 265 best model saved with accuracy: 79.27%\n",
      "Epoch 301 best model saved with accuracy: 79.53%\n",
      "Epoch 329 best model saved with accuracy: 80.58%\n",
      "Epoch 371 best model saved with accuracy: 80.84%\n",
      "Epoch 415 best model saved with accuracy: 81.63%\n",
      "Epoch 444 best model saved with accuracy: 81.89%\n",
      "Epoch 465 best model saved with accuracy: 82.15%\n",
      "Epoch 488 best model saved with accuracy: 82.41%\n",
      "Epoch 501 best model saved with accuracy: 83.73%\n",
      "Epoch: 512. Loss: 0.4800. Acc.: 81.89%\n",
      "Epoch 555 best model saved with accuracy: 84.25%\n",
      "Epoch 574 best model saved with accuracy: 84.78%\n",
      "Epoch 599 best model saved with accuracy: 85.04%\n",
      "Epoch 637 best model saved with accuracy: 85.30%\n",
      "Epoch 715 best model saved with accuracy: 85.56%\n",
      "Epoch 722 best model saved with accuracy: 86.09%\n",
      "Epoch 839 best model saved with accuracy: 86.61%\n",
      "Epoch 894 best model saved with accuracy: 86.88%\n",
      "Epoch 898 best model saved with accuracy: 87.66%\n",
      "Epoch 933 best model saved with accuracy: 88.19%\n",
      "Epoch: 1024. Loss: 0.3513. Acc.: 86.61%\n",
      "Epoch 1026 best model saved with accuracy: 88.45%\n",
      "Epoch 1125 best model saved with accuracy: 88.98%\n",
      "Epoch 1128 best model saved with accuracy: 89.24%\n",
      "Early stopping on epoch 1628\n",
      "Done!\n"
     ]
    }
   ],
   "source": [
    "raw_feat = raw_arr.shape[1]\n",
    "fft_feat = fft_arr.shape[1]\n",
    "\n",
    "trn_dl, val_dl, tst_dl = create_loaders(datasets, bs=256)\n",
    "\n",
    "lr = 0.001\n",
    "n_epochs = 3000\n",
    "iterations_per_epoch = len(trn_dl)\n",
    "period = n_epochs*iterations_per_epoch\n",
    "num_classes = 9\n",
    "best_acc = 0\n",
    "patience, trials = 500, 0\n",
    "base = 1\n",
    "step = 2\n",
    "iteration = 0\n",
    "loss_history = []\n",
    "acc_history = []\n",
    "\n",
    "model = Classifier(raw_feat, fft_feat, num_classes).to(device)\n",
    "criterion = nn.CrossEntropyLoss(reduction='sum')\n",
    "opt = optim.Adam(model.parameters(), lr=lr)\n",
    "\n",
    "# one-cycle learning rate scheduling\n",
    "sched = Scheduler(opt, partial(one_cycle, t_max=period, pivot=0.3))\n",
    "\n",
    "print('Start model training')\n",
    "\n",
    "for epoch in range(1, n_epochs + 1):\n",
    "    \n",
    "    model.train()\n",
    "    epoch_loss = 0\n",
    "    for i, batch in enumerate(trn_dl):\n",
    "        iteration += 1\n",
    "        x_raw, x_fft, y_batch = [t.to(device) for t in batch]\n",
    "        sched.step(iteration)  # update the learning rate\n",
    "        opt.zero_grad()\n",
    "        out = model(x_raw, x_fft)\n",
    "        loss = criterion(out, y_batch)\n",
    "        epoch_loss += loss.item()\n",
    "        loss.backward()\n",
    "        opt.step()\n",
    "        \n",
    "    epoch_loss /= trn_sz\n",
    "    loss_history.append(epoch_loss)\n",
    "    \n",
    "    model.eval()\n",
    "    correct, total = 0, 0\n",
    "    for batch in val_dl:\n",
    "        x_raw, x_fft, y_batch = [t.to(device) for t in batch]\n",
    "        out = model(x_raw, x_fft)\n",
    "        preds = F.log_softmax(out, dim=1).argmax(dim=1)\n",
    "        total += y_batch.size(0)\n",
    "        correct += (preds == y_batch).sum().item()\n",
    "    \n",
    "    acc = correct / total\n",
    "    acc_history.append(acc)\n",
    "\n",
    "    if epoch % base == 0:\n",
    "        print(f'Epoch: {epoch:3d}. Loss: {epoch_loss:.4f}. Acc.: {acc:2.2%}')\n",
    "        base *= step\n",
    "\n",
    "    if acc > best_acc:\n",
    "        trials = 0\n",
    "        best_acc = acc\n",
    "        torch.save(model.state_dict(), 'best.pth')\n",
    "        print(f'Epoch {epoch} best model saved with accuracy: {best_acc:2.2%}')\n",
    "    else:\n",
    "        trials += 1\n",
    "        if trials >= patience:\n",
    "            print(f'Early stopping on epoch {epoch}')\n",
    "            break\n",
    "            \n",
    "print('Done!')"
   ]
  },
  {
   "cell_type": "markdown",
   "metadata": {},
   "source": [
    "Finally, let's plot the training history and run the new model on the testing dataset."
   ]
  },
  {
   "cell_type": "code",
   "execution_count": 28,
   "metadata": {},
   "outputs": [
    {
     "data": {
      "image/png": "[encoded data removed]",
      "text/plain": [
       "<Figure size 864x288 with 2 Axes>"
      ]
     },
     "metadata": {},
     "output_type": "display_data"
    }
   ],
   "source": [
    "f, ax = plt.subplots(1, 2, figsize=(12, 4))\n",
    "\n",
    "ax[0].plot(loss_history, label='loss')\n",
    "ax[0].set_title('Validation Loss History')\n",
    "ax[0].set_xlabel('Epoch no.')\n",
    "ax[0].set_ylabel('Loss')\n",
    "\n",
    "ax[1].plot(smooth(acc_history, 5)[:-2], label='acc')\n",
    "ax[1].set_title('Validation Accuracy History')\n",
    "ax[1].set_xlabel('Epoch no.')\n",
    "ax[1].set_ylabel('Accuracy');"
   ]
  },
  {
   "cell_type": "code",
   "execution_count": 29,
   "metadata": {},
   "outputs": [],
   "source": [
    "test_results = []\n",
    "model.load_state_dict(torch.load('best.pth'))\n",
    "model.eval()\n",
    "for x_raw, x_fft, _ in tst_dl:\n",
    "    batches = [t.to(device) for t in (x_raw, x_fft)]\n",
    "    out = model(*batches)\n",
    "    y_hat = F.log_softmax(out, dim=1).argmax(dim=1)\n",
    "    test_results.extend(y_hat.tolist())"
   ]
  },
  {
   "cell_type": "code",
   "execution_count": 30,
   "metadata": {},
   "outputs": [],
   "source": [
    "submit = pd.read_csv(sample)\n",
    "submit['surface'] = enc.inverse_transform(test_results)\n",
    "submit.to_csv('submit_one_cycle.csv', index=None)"
   ]
  },
  {
   "cell_type": "markdown",
   "metadata": {},
   "source": [
    "The new model usually performs a bit better on validation subset than the original one but the result is not too stable. It has changed a couple of times from one kernel run to another. If you try to submit two files to the leaderboard, you usually should see a better score for the later model as a screenshot below shows. So probably it is a good idea to train several models and average their predictions. (As the author of the original kernel did).\n",
    "\n",
    "![](https://i.imgur.com/94AuMAO.png)"
   ]
  },
  {
   "cell_type": "markdown",
   "metadata": {},
   "source": [
    "## Conclusion\n",
    "\n",
    "The Deep Learning models are very powerful solutions to a wide range of Data Science projects. However, even these powerful solutions can't show good results if used naively and without additional efforts to make a proper preparation of the data. The more work we spend to help our models, the better results they will show."
   ]
  }
 ],
 "metadata": {
  "kernelspec": {
   "display_name": "Python 3",
   "language": "python",
   "name": "python3"
  },
  "language_info": {
   "codemirror_mode": {
    "name": "ipython",
    "version": 3
   },
   "file_extension": ".py",
   "mimetype": "text/x-python",
   "name": "python",
   "nbconvert_exporter": "python",
   "pygments_lexer": "ipython3",
   "version": "3.7.3"
  }
 },
 "nbformat": 4,
 "nbformat_minor": 1
}
