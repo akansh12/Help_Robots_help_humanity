{
 "cells": [
  {
   "cell_type": "code",
   "execution_count": 1,
   "metadata": {
    "execution": {
     "iopub.execute_input": "2021-05-29T17:17:14.006337Z",
     "iopub.status.busy": "2021-05-29T17:17:14.005933Z",
     "iopub.status.idle": "2021-05-29T17:17:15.238238Z",
     "shell.execute_reply": "2021-05-29T17:17:15.237188Z",
     "shell.execute_reply.started": "2021-05-29T17:17:14.006255Z"
    }
   },
   "outputs": [],
   "source": [
    "import pandas as pd\n",
    "import numpy as np\n",
    "import torch\n",
    "import matplotlib.pyplot as plt\n",
    "\n",
    "import pywt"
   ]
  },
  {
   "cell_type": "code",
   "execution_count": 2,
   "metadata": {
    "execution": {
     "iopub.execute_input": "2021-05-29T17:17:15.240505Z",
     "iopub.status.busy": "2021-05-29T17:17:15.239944Z",
     "iopub.status.idle": "2021-05-29T17:17:16.596752Z",
     "shell.execute_reply": "2021-05-29T17:17:16.595884Z",
     "shell.execute_reply.started": "2021-05-29T17:17:15.240467Z"
    }
   },
   "outputs": [],
   "source": [
    "X_train = pd.read_csv(\"../input/career-con-2019/X_train.csv\")\n",
    "y_train = pd.read_csv(\"../input/career-con-2019/y_train.csv\")"
   ]
  },
  {
   "cell_type": "code",
   "execution_count": 3,
   "metadata": {
    "execution": {
     "iopub.execute_input": "2021-05-29T17:17:16.600986Z",
     "iopub.status.busy": "2021-05-29T17:17:16.600731Z",
     "iopub.status.idle": "2021-05-29T17:17:16.627218Z",
     "shell.execute_reply": "2021-05-29T17:17:16.626127Z",
     "shell.execute_reply.started": "2021-05-29T17:17:16.600961Z"
    }
   },
   "outputs": [
    {
     "data": {
      "text/html": [
       "<div>\n",
       "<style scoped>\n",
       "    .dataframe tbody tr th:only-of-type {\n",
       "        vertical-align: middle;\n",
       "    }\n",
       "\n",
       "    .dataframe tbody tr th {\n",
       "        vertical-align: top;\n",
       "    }\n",
       "\n",
       "    .dataframe thead th {\n",
       "        text-align: right;\n",
       "    }\n",
       "</style>\n",
       "<table border=\"1\" class=\"dataframe\">\n",
       "  <thead>\n",
       "    <tr style=\"text-align: right;\">\n",
       "      <th></th>\n",
       "      <th>row_id</th>\n",
       "      <th>series_id</th>\n",
       "      <th>measurement_number</th>\n",
       "      <th>orientation_X</th>\n",
       "      <th>orientation_Y</th>\n",
       "      <th>orientation_Z</th>\n",
       "      <th>orientation_W</th>\n",
       "      <th>angular_velocity_X</th>\n",
       "      <th>angular_velocity_Y</th>\n",
       "      <th>angular_velocity_Z</th>\n",
       "      <th>linear_acceleration_X</th>\n",
       "      <th>linear_acceleration_Y</th>\n",
       "      <th>linear_acceleration_Z</th>\n",
       "    </tr>\n",
       "  </thead>\n",
       "  <tbody>\n",
       "    <tr>\n",
       "      <th>0</th>\n",
       "      <td>0_0</td>\n",
       "      <td>0</td>\n",
       "      <td>0</td>\n",
       "      <td>-0.75853</td>\n",
       "      <td>-0.63435</td>\n",
       "      <td>-0.10488</td>\n",
       "      <td>-0.10597</td>\n",
       "      <td>0.107650</td>\n",
       "      <td>0.017561</td>\n",
       "      <td>0.000767</td>\n",
       "      <td>-0.74857</td>\n",
       "      <td>2.1030</td>\n",
       "      <td>-9.7532</td>\n",
       "    </tr>\n",
       "    <tr>\n",
       "      <th>1</th>\n",
       "      <td>0_1</td>\n",
       "      <td>0</td>\n",
       "      <td>1</td>\n",
       "      <td>-0.75853</td>\n",
       "      <td>-0.63434</td>\n",
       "      <td>-0.10490</td>\n",
       "      <td>-0.10600</td>\n",
       "      <td>0.067851</td>\n",
       "      <td>0.029939</td>\n",
       "      <td>0.003385</td>\n",
       "      <td>0.33995</td>\n",
       "      <td>1.5064</td>\n",
       "      <td>-9.4128</td>\n",
       "    </tr>\n",
       "    <tr>\n",
       "      <th>2</th>\n",
       "      <td>0_2</td>\n",
       "      <td>0</td>\n",
       "      <td>2</td>\n",
       "      <td>-0.75853</td>\n",
       "      <td>-0.63435</td>\n",
       "      <td>-0.10492</td>\n",
       "      <td>-0.10597</td>\n",
       "      <td>0.007275</td>\n",
       "      <td>0.028934</td>\n",
       "      <td>-0.005978</td>\n",
       "      <td>-0.26429</td>\n",
       "      <td>1.5922</td>\n",
       "      <td>-8.7267</td>\n",
       "    </tr>\n",
       "    <tr>\n",
       "      <th>3</th>\n",
       "      <td>0_3</td>\n",
       "      <td>0</td>\n",
       "      <td>3</td>\n",
       "      <td>-0.75852</td>\n",
       "      <td>-0.63436</td>\n",
       "      <td>-0.10495</td>\n",
       "      <td>-0.10597</td>\n",
       "      <td>-0.013053</td>\n",
       "      <td>0.019448</td>\n",
       "      <td>-0.008974</td>\n",
       "      <td>0.42684</td>\n",
       "      <td>1.0993</td>\n",
       "      <td>-10.0960</td>\n",
       "    </tr>\n",
       "    <tr>\n",
       "      <th>4</th>\n",
       "      <td>0_4</td>\n",
       "      <td>0</td>\n",
       "      <td>4</td>\n",
       "      <td>-0.75852</td>\n",
       "      <td>-0.63435</td>\n",
       "      <td>-0.10495</td>\n",
       "      <td>-0.10596</td>\n",
       "      <td>0.005135</td>\n",
       "      <td>0.007652</td>\n",
       "      <td>0.005245</td>\n",
       "      <td>-0.50969</td>\n",
       "      <td>1.4689</td>\n",
       "      <td>-10.4410</td>\n",
       "    </tr>\n",
       "  </tbody>\n",
       "</table>\n",
       "</div>"
      ],
      "text/plain": [
       "  row_id  series_id  measurement_number  orientation_X  orientation_Y  \\\n",
       "0    0_0          0                   0       -0.75853       -0.63435   \n",
       "1    0_1          0                   1       -0.75853       -0.63434   \n",
       "2    0_2          0                   2       -0.75853       -0.63435   \n",
       "3    0_3          0                   3       -0.75852       -0.63436   \n",
       "4    0_4          0                   4       -0.75852       -0.63435   \n",
       "\n",
       "   orientation_Z  orientation_W  angular_velocity_X  angular_velocity_Y  \\\n",
       "0       -0.10488       -0.10597            0.107650            0.017561   \n",
       "1       -0.10490       -0.10600            0.067851            0.029939   \n",
       "2       -0.10492       -0.10597            0.007275            0.028934   \n",
       "3       -0.10495       -0.10597           -0.013053            0.019448   \n",
       "4       -0.10495       -0.10596            0.005135            0.007652   \n",
       "\n",
       "   angular_velocity_Z  linear_acceleration_X  linear_acceleration_Y  \\\n",
       "0            0.000767               -0.74857                 2.1030   \n",
       "1            0.003385                0.33995                 1.5064   \n",
       "2           -0.005978               -0.26429                 1.5922   \n",
       "3           -0.008974                0.42684                 1.0993   \n",
       "4            0.005245               -0.50969                 1.4689   \n",
       "\n",
       "   linear_acceleration_Z  \n",
       "0                -9.7532  \n",
       "1                -9.4128  \n",
       "2                -8.7267  \n",
       "3               -10.0960  \n",
       "4               -10.4410  "
      ]
     },
     "execution_count": 3,
     "metadata": {},
     "output_type": "execute_result"
    }
   ],
   "source": [
    "X_train.head()"
   ]
  },
  {
   "cell_type": "code",
   "execution_count": 4,
   "metadata": {
    "execution": {
     "iopub.execute_input": "2021-05-29T17:17:16.629240Z",
     "iopub.status.busy": "2021-05-29T17:17:16.628867Z",
     "iopub.status.idle": "2021-05-29T17:17:16.638203Z",
     "shell.execute_reply": "2021-05-29T17:17:16.637133Z",
     "shell.execute_reply.started": "2021-05-29T17:17:16.629205Z"
    }
   },
   "outputs": [
    {
     "data": {
      "text/html": [
       "<div>\n",
       "<style scoped>\n",
       "    .dataframe tbody tr th:only-of-type {\n",
       "        vertical-align: middle;\n",
       "    }\n",
       "\n",
       "    .dataframe tbody tr th {\n",
       "        vertical-align: top;\n",
       "    }\n",
       "\n",
       "    .dataframe thead th {\n",
       "        text-align: right;\n",
       "    }\n",
       "</style>\n",
       "<table border=\"1\" class=\"dataframe\">\n",
       "  <thead>\n",
       "    <tr style=\"text-align: right;\">\n",
       "      <th></th>\n",
       "      <th>series_id</th>\n",
       "      <th>group_id</th>\n",
       "      <th>surface</th>\n",
       "    </tr>\n",
       "  </thead>\n",
       "  <tbody>\n",
       "    <tr>\n",
       "      <th>0</th>\n",
       "      <td>0</td>\n",
       "      <td>13</td>\n",
       "      <td>fine_concrete</td>\n",
       "    </tr>\n",
       "    <tr>\n",
       "      <th>1</th>\n",
       "      <td>1</td>\n",
       "      <td>31</td>\n",
       "      <td>concrete</td>\n",
       "    </tr>\n",
       "    <tr>\n",
       "      <th>2</th>\n",
       "      <td>2</td>\n",
       "      <td>20</td>\n",
       "      <td>concrete</td>\n",
       "    </tr>\n",
       "    <tr>\n",
       "      <th>3</th>\n",
       "      <td>3</td>\n",
       "      <td>31</td>\n",
       "      <td>concrete</td>\n",
       "    </tr>\n",
       "    <tr>\n",
       "      <th>4</th>\n",
       "      <td>4</td>\n",
       "      <td>22</td>\n",
       "      <td>soft_tiles</td>\n",
       "    </tr>\n",
       "  </tbody>\n",
       "</table>\n",
       "</div>"
      ],
      "text/plain": [
       "   series_id  group_id        surface\n",
       "0          0        13  fine_concrete\n",
       "1          1        31       concrete\n",
       "2          2        20       concrete\n",
       "3          3        31       concrete\n",
       "4          4        22     soft_tiles"
      ]
     },
     "execution_count": 4,
     "metadata": {},
     "output_type": "execute_result"
    }
   ],
   "source": [
    "y_train.head()"
   ]
  },
  {
   "cell_type": "code",
   "execution_count": 5,
   "metadata": {
    "execution": {
     "iopub.execute_input": "2021-05-29T17:17:16.640514Z",
     "iopub.status.busy": "2021-05-29T17:17:16.640061Z",
     "iopub.status.idle": "2021-05-29T17:17:16.665248Z",
     "shell.execute_reply": "2021-05-29T17:17:16.664393Z",
     "shell.execute_reply.started": "2021-05-29T17:17:16.640469Z"
    }
   },
   "outputs": [],
   "source": [
    "X_train_wo = X_train.drop(['orientation_X', 'orientation_Y', 'orientation_Z', 'orientation_W'], axis = 1)"
   ]
  },
  {
   "cell_type": "code",
   "execution_count": 6,
   "metadata": {
    "execution": {
     "iopub.execute_input": "2021-05-29T17:17:16.667072Z",
     "iopub.status.busy": "2021-05-29T17:17:16.666690Z",
     "iopub.status.idle": "2021-05-29T17:17:16.679999Z",
     "shell.execute_reply": "2021-05-29T17:17:16.679100Z",
     "shell.execute_reply.started": "2021-05-29T17:17:16.667029Z"
    }
   },
   "outputs": [
    {
     "data": {
      "text/html": [
       "<div>\n",
       "<style scoped>\n",
       "    .dataframe tbody tr th:only-of-type {\n",
       "        vertical-align: middle;\n",
       "    }\n",
       "\n",
       "    .dataframe tbody tr th {\n",
       "        vertical-align: top;\n",
       "    }\n",
       "\n",
       "    .dataframe thead th {\n",
       "        text-align: right;\n",
       "    }\n",
       "</style>\n",
       "<table border=\"1\" class=\"dataframe\">\n",
       "  <thead>\n",
       "    <tr style=\"text-align: right;\">\n",
       "      <th></th>\n",
       "      <th>row_id</th>\n",
       "      <th>series_id</th>\n",
       "      <th>measurement_number</th>\n",
       "      <th>angular_velocity_X</th>\n",
       "      <th>angular_velocity_Y</th>\n",
       "      <th>angular_velocity_Z</th>\n",
       "      <th>linear_acceleration_X</th>\n",
       "      <th>linear_acceleration_Y</th>\n",
       "      <th>linear_acceleration_Z</th>\n",
       "    </tr>\n",
       "  </thead>\n",
       "  <tbody>\n",
       "    <tr>\n",
       "      <th>0</th>\n",
       "      <td>0_0</td>\n",
       "      <td>0</td>\n",
       "      <td>0</td>\n",
       "      <td>0.107650</td>\n",
       "      <td>0.017561</td>\n",
       "      <td>0.000767</td>\n",
       "      <td>-0.74857</td>\n",
       "      <td>2.1030</td>\n",
       "      <td>-9.7532</td>\n",
       "    </tr>\n",
       "    <tr>\n",
       "      <th>1</th>\n",
       "      <td>0_1</td>\n",
       "      <td>0</td>\n",
       "      <td>1</td>\n",
       "      <td>0.067851</td>\n",
       "      <td>0.029939</td>\n",
       "      <td>0.003385</td>\n",
       "      <td>0.33995</td>\n",
       "      <td>1.5064</td>\n",
       "      <td>-9.4128</td>\n",
       "    </tr>\n",
       "    <tr>\n",
       "      <th>2</th>\n",
       "      <td>0_2</td>\n",
       "      <td>0</td>\n",
       "      <td>2</td>\n",
       "      <td>0.007275</td>\n",
       "      <td>0.028934</td>\n",
       "      <td>-0.005978</td>\n",
       "      <td>-0.26429</td>\n",
       "      <td>1.5922</td>\n",
       "      <td>-8.7267</td>\n",
       "    </tr>\n",
       "    <tr>\n",
       "      <th>3</th>\n",
       "      <td>0_3</td>\n",
       "      <td>0</td>\n",
       "      <td>3</td>\n",
       "      <td>-0.013053</td>\n",
       "      <td>0.019448</td>\n",
       "      <td>-0.008974</td>\n",
       "      <td>0.42684</td>\n",
       "      <td>1.0993</td>\n",
       "      <td>-10.0960</td>\n",
       "    </tr>\n",
       "    <tr>\n",
       "      <th>4</th>\n",
       "      <td>0_4</td>\n",
       "      <td>0</td>\n",
       "      <td>4</td>\n",
       "      <td>0.005135</td>\n",
       "      <td>0.007652</td>\n",
       "      <td>0.005245</td>\n",
       "      <td>-0.50969</td>\n",
       "      <td>1.4689</td>\n",
       "      <td>-10.4410</td>\n",
       "    </tr>\n",
       "  </tbody>\n",
       "</table>\n",
       "</div>"
      ],
      "text/plain": [
       "  row_id  series_id  measurement_number  angular_velocity_X  \\\n",
       "0    0_0          0                   0            0.107650   \n",
       "1    0_1          0                   1            0.067851   \n",
       "2    0_2          0                   2            0.007275   \n",
       "3    0_3          0                   3           -0.013053   \n",
       "4    0_4          0                   4            0.005135   \n",
       "\n",
       "   angular_velocity_Y  angular_velocity_Z  linear_acceleration_X  \\\n",
       "0            0.017561            0.000767               -0.74857   \n",
       "1            0.029939            0.003385                0.33995   \n",
       "2            0.028934           -0.005978               -0.26429   \n",
       "3            0.019448           -0.008974                0.42684   \n",
       "4            0.007652            0.005245               -0.50969   \n",
       "\n",
       "   linear_acceleration_Y  linear_acceleration_Z  \n",
       "0                 2.1030                -9.7532  \n",
       "1                 1.5064                -9.4128  \n",
       "2                 1.5922                -8.7267  \n",
       "3                 1.0993               -10.0960  \n",
       "4                 1.4689               -10.4410  "
      ]
     },
     "execution_count": 6,
     "metadata": {},
     "output_type": "execute_result"
    }
   ],
   "source": [
    "X_train_wo.head()"
   ]
  },
  {
   "cell_type": "markdown",
   "metadata": {},
   "source": [
    "### Scalograms"
   ]
  },
  {
   "cell_type": "code",
   "execution_count": 7,
   "metadata": {
    "execution": {
     "iopub.execute_input": "2021-05-29T17:17:16.682103Z",
     "iopub.status.busy": "2021-05-29T17:17:16.681443Z",
     "iopub.status.idle": "2021-05-29T17:17:16.873031Z",
     "shell.execute_reply": "2021-05-29T17:17:16.872175Z",
     "shell.execute_reply.started": "2021-05-29T17:17:16.682061Z"
    }
   },
   "outputs": [
    {
     "data": {
      "text/plain": [
       "<matplotlib.image.AxesImage at 0x7ff79e5a7550>"
      ]
     },
     "execution_count": 7,
     "metadata": {},
     "output_type": "execute_result"
    },
    {
     "data": {
      "image/png": "[encoded data removed]",
      "text/plain": [
       "<Figure size 432x288 with 1 Axes>"
      ]
     },
     "metadata": {
      "needs_background": "light"
     },
     "output_type": "display_data"
    }
   ],
   "source": [
    "scales = np.arange(1,129)\n",
    "coef , freq = pywt.cwt(np.array(X_train.angular_velocity_Y.values)[0:128], scales, wavelet='gaus1')\n",
    "plt.imshow(abs(coef))"
   ]
  },
  {
   "cell_type": "code",
   "execution_count": 8,
   "metadata": {
    "execution": {
     "iopub.execute_input": "2021-05-29T17:17:16.875754Z",
     "iopub.status.busy": "2021-05-29T17:17:16.875377Z",
     "iopub.status.idle": "2021-05-29T17:17:16.880741Z",
     "shell.execute_reply": "2021-05-29T17:17:16.879952Z",
     "shell.execute_reply.started": "2021-05-29T17:17:16.875713Z"
    }
   },
   "outputs": [
    {
     "data": {
      "text/plain": [
       "(128, 128)"
      ]
     },
     "execution_count": 8,
     "metadata": {},
     "output_type": "execute_result"
    }
   ],
   "source": [
    "coef.shape"
   ]
  },
  {
   "cell_type": "code",
   "execution_count": 9,
   "metadata": {
    "execution": {
     "iopub.execute_input": "2021-05-29T17:17:16.883269Z",
     "iopub.status.busy": "2021-05-29T17:17:16.882778Z",
     "iopub.status.idle": "2021-05-29T17:17:17.044622Z",
     "shell.execute_reply": "2021-05-29T17:17:17.043693Z",
     "shell.execute_reply.started": "2021-05-29T17:17:16.883233Z"
    }
   },
   "outputs": [
    {
     "data": {
      "text/plain": [
       "<matplotlib.image.AxesImage at 0x7ff79e456dd0>"
      ]
     },
     "execution_count": 9,
     "metadata": {},
     "output_type": "execute_result"
    },
    {
     "data": {
      "image/png": "[encoded data removed]",
      "text/plain": [
       "<Figure size 432x288 with 1 Axes>"
      ]
     },
     "metadata": {
      "needs_background": "light"
     },
     "output_type": "display_data"
    }
   ],
   "source": [
    "scales = np.arange(1,101)\n",
    "coef , freq = pywt.cwt(np.array(X_train.angular_velocity_Z.values)[0:128], scales, wavelet='gaus1')\n",
    "plt.imshow(abs(coef))"
   ]
  },
  {
   "cell_type": "code",
   "execution_count": 10,
   "metadata": {
    "execution": {
     "iopub.execute_input": "2021-05-29T17:17:17.046311Z",
     "iopub.status.busy": "2021-05-29T17:17:17.045977Z",
     "iopub.status.idle": "2021-05-29T17:17:17.206762Z",
     "shell.execute_reply": "2021-05-29T17:17:17.205827Z",
     "shell.execute_reply.started": "2021-05-29T17:17:17.046275Z"
    }
   },
   "outputs": [
    {
     "data": {
      "text/plain": [
       "<matplotlib.image.AxesImage at 0x7ff79e3e8650>"
      ]
     },
     "execution_count": 10,
     "metadata": {},
     "output_type": "execute_result"
    },
    {
     "data": {
      "image/png": "[encoded data removed]",
      "text/plain": [
       "<Figure size 432x288 with 1 Axes>"
      ]
     },
     "metadata": {
      "needs_background": "light"
     },
     "output_type": "display_data"
    }
   ],
   "source": [
    "scales = np.arange(1,129)\n",
    "coef , freq = pywt.cwt(np.array(X_train.angular_velocity_X.values)[0:128], scales, wavelet='gaus1')\n",
    "plt.imshow(abs(coef))"
   ]
  },
  {
   "cell_type": "code",
   "execution_count": 11,
   "metadata": {
    "execution": {
     "iopub.execute_input": "2021-05-29T17:17:17.208503Z",
     "iopub.status.busy": "2021-05-29T17:17:17.208166Z",
     "iopub.status.idle": "2021-05-29T17:17:17.212973Z",
     "shell.execute_reply": "2021-05-29T17:17:17.211870Z",
     "shell.execute_reply.started": "2021-05-29T17:17:17.208467Z"
    }
   },
   "outputs": [],
   "source": [
    "from tqdm.auto import tqdm"
   ]
  },
  {
   "cell_type": "code",
   "execution_count": 12,
   "metadata": {
    "execution": {
     "iopub.execute_input": "2021-05-29T17:17:17.214805Z",
     "iopub.status.busy": "2021-05-29T17:17:17.214380Z",
     "iopub.status.idle": "2021-05-29T17:21:14.486178Z",
     "shell.execute_reply": "2021-05-29T17:21:14.485363Z",
     "shell.execute_reply.started": "2021-05-29T17:17:17.214766Z"
    }
   },
   "outputs": [
    {
     "data": {
      "application/vnd.jupyter.widget-view+json": {
       "model_id": "cebda9f8d25b46779e83423bc3814573",
       "version_major": 2,
       "version_minor": 0
      },
      "text/plain": [
       "  0%|          | 0/3810 [00:00<?, ?it/s]"
      ]
     },
     "metadata": {},
     "output_type": "display_data"
    }
   ],
   "source": [
    "scales = np.arange(1,129)\n",
    "dataset = np.zeros((X_train_wo.shape[0]//128,6,128,128))\n",
    "for i in tqdm(range(0,  X_train_wo.shape[0],128)):\n",
    "    \n",
    "    coef_x , freq = pywt.cwt(np.array(X_train.angular_velocity_X.values)[i:i+128], scales, wavelet='gaus1')\n",
    "    coef_y , freq = pywt.cwt(np.array(X_train.angular_velocity_Y.values)[i:i+128], scales, wavelet='gaus1')\n",
    "    coef_z , freq = pywt.cwt(np.array(X_train.angular_velocity_Z.values)[i:i+128], scales, wavelet='gaus1')\n",
    "    coef_lx , freq = pywt.cwt(np.array(X_train.linear_acceleration_X.values)[i:i+128], scales, wavelet='gaus1')\n",
    "    coef_ly , freq = pywt.cwt(np.array(X_train.linear_acceleration_Y.values)[i:i+128], scales, wavelet='gaus1')\n",
    "    coef_lz , freq = pywt.cwt(np.array(X_train.linear_acceleration_Z.values)[i:i+128], scales, wavelet='gaus1')\n",
    "    \n",
    "    \n",
    "    img = np.concatenate((abs(coef_x).reshape((128,128,1)),\n",
    "                    abs(coef_y).reshape((128,128,1)), \n",
    "                    abs(coef_z).reshape((128,128,1)),\n",
    "                    abs(coef_lx).reshape((128,128,1)),\n",
    "                    abs(coef_ly).reshape((128,128,1)),\n",
    "                    abs(coef_lz).reshape((128,128,1))),                   \n",
    "                    axis = 2 )\n",
    "    \n",
    "    img = img.reshape(6,128,128)\n",
    "    \n",
    "    dataset[int(i//128)] = img\n",
    "    \n",
    "    "
   ]
  },
  {
   "cell_type": "code",
   "execution_count": 13,
   "metadata": {
    "execution": {
     "iopub.execute_input": "2021-05-29T17:21:14.487918Z",
     "iopub.status.busy": "2021-05-29T17:21:14.487432Z",
     "iopub.status.idle": "2021-05-29T17:21:14.632454Z",
     "shell.execute_reply": "2021-05-29T17:21:14.631674Z",
     "shell.execute_reply.started": "2021-05-29T17:21:14.487879Z"
    }
   },
   "outputs": [],
   "source": [
    "from torch.utils.data import Dataset\n",
    "import torchvision.transforms as transforms"
   ]
  },
  {
   "cell_type": "code",
   "execution_count": 14,
   "metadata": {
    "execution": {
     "iopub.execute_input": "2021-05-29T17:21:14.634028Z",
     "iopub.status.busy": "2021-05-29T17:21:14.633694Z",
     "iopub.status.idle": "2021-05-29T17:21:14.647220Z",
     "shell.execute_reply": "2021-05-29T17:21:14.646472Z",
     "shell.execute_reply.started": "2021-05-29T17:21:14.633992Z"
    }
   },
   "outputs": [],
   "source": [
    "dataset_tensor = torch.from_numpy(dataset)"
   ]
  },
  {
   "cell_type": "code",
   "execution_count": 15,
   "metadata": {
    "execution": {
     "iopub.execute_input": "2021-05-29T17:21:14.648887Z",
     "iopub.status.busy": "2021-05-29T17:21:14.648539Z",
     "iopub.status.idle": "2021-05-29T17:21:14.657689Z",
     "shell.execute_reply": "2021-05-29T17:21:14.656940Z",
     "shell.execute_reply.started": "2021-05-29T17:21:14.648852Z"
    }
   },
   "outputs": [
    {
     "data": {
      "text/plain": [
       "torch.Size([3810, 6, 128, 128])"
      ]
     },
     "execution_count": 15,
     "metadata": {},
     "output_type": "execute_result"
    }
   ],
   "source": [
    "dataset_tensor.shape"
   ]
  },
  {
   "cell_type": "code",
   "execution_count": 16,
   "metadata": {
    "execution": {
     "iopub.execute_input": "2021-05-29T17:21:14.659237Z",
     "iopub.status.busy": "2021-05-29T17:21:14.658908Z",
     "iopub.status.idle": "2021-05-29T17:21:15.401964Z",
     "shell.execute_reply": "2021-05-29T17:21:15.401179Z",
     "shell.execute_reply.started": "2021-05-29T17:21:14.659198Z"
    }
   },
   "outputs": [],
   "source": [
    "from sklearn.preprocessing import LabelEncoder\n",
    "le = LabelEncoder()\n",
    "target = le.fit_transform(y_train['surface'])\n",
    "# target = torch.nn.functional.one_hot(torch.from_numpy(target))\n"
   ]
  },
  {
   "cell_type": "code",
   "execution_count": 17,
   "metadata": {
    "execution": {
     "iopub.execute_input": "2021-05-29T17:21:15.403475Z",
     "iopub.status.busy": "2021-05-29T17:21:15.403123Z",
     "iopub.status.idle": "2021-05-29T17:21:15.410365Z",
     "shell.execute_reply": "2021-05-29T17:21:15.409550Z",
     "shell.execute_reply.started": "2021-05-29T17:21:15.403441Z"
    }
   },
   "outputs": [],
   "source": [
    "target =torch.from_numpy(target)"
   ]
  },
  {
   "cell_type": "code",
   "execution_count": 18,
   "metadata": {
    "execution": {
     "iopub.execute_input": "2021-05-29T17:21:15.412028Z",
     "iopub.status.busy": "2021-05-29T17:21:15.411552Z",
     "iopub.status.idle": "2021-05-29T17:21:15.419974Z",
     "shell.execute_reply": "2021-05-29T17:21:15.419009Z",
     "shell.execute_reply.started": "2021-05-29T17:21:15.411987Z"
    }
   },
   "outputs": [
    {
     "data": {
      "text/plain": [
       "array(['carpet', 'concrete', 'fine_concrete', 'hard_tiles',\n",
       "       'hard_tiles_large_space', 'soft_pvc', 'soft_tiles', 'tiled',\n",
       "       'wood'], dtype=object)"
      ]
     },
     "execution_count": 18,
     "metadata": {},
     "output_type": "execute_result"
    }
   ],
   "source": [
    "le.classes_"
   ]
  },
  {
   "cell_type": "code",
   "execution_count": 19,
   "metadata": {
    "execution": {
     "iopub.execute_input": "2021-05-29T17:21:15.421829Z",
     "iopub.status.busy": "2021-05-29T17:21:15.421425Z",
     "iopub.status.idle": "2021-05-29T17:21:15.429563Z",
     "shell.execute_reply": "2021-05-29T17:21:15.428688Z",
     "shell.execute_reply.started": "2021-05-29T17:21:15.421792Z"
    }
   },
   "outputs": [],
   "source": [
    "class WaveletDataset(Dataset):\n",
    "    def __init__(self, data, y):\n",
    "        self.images = data\n",
    "        self.labels = y\n",
    "        \n",
    "        \n",
    "    def __len__(self):\n",
    "        return len(self.images)\n",
    "\n",
    "    def __getitem__(self, idx):\n",
    "        image = self.images[idx]\n",
    "\n",
    "        return image, self.labels[idx]\n",
    "    \n",
    "    \n",
    "        \n",
    "        \n",
    "        "
   ]
  },
  {
   "cell_type": "code",
   "execution_count": 20,
   "metadata": {
    "execution": {
     "iopub.execute_input": "2021-05-29T17:21:15.431223Z",
     "iopub.status.busy": "2021-05-29T17:21:15.430893Z",
     "iopub.status.idle": "2021-05-29T17:21:15.440215Z",
     "shell.execute_reply": "2021-05-29T17:21:15.439371Z",
     "shell.execute_reply.started": "2021-05-29T17:21:15.431188Z"
    }
   },
   "outputs": [],
   "source": [
    "wavelet_data = WaveletDataset(dataset_tensor, target)"
   ]
  },
  {
   "cell_type": "code",
   "execution_count": 21,
   "metadata": {
    "execution": {
     "iopub.execute_input": "2021-05-29T17:21:15.441912Z",
     "iopub.status.busy": "2021-05-29T17:21:15.441558Z",
     "iopub.status.idle": "2021-05-29T17:21:15.472859Z",
     "shell.execute_reply": "2021-05-29T17:21:15.471995Z",
     "shell.execute_reply.started": "2021-05-29T17:21:15.441875Z"
    }
   },
   "outputs": [
    {
     "name": "stdout",
     "output_type": "stream",
     "text": [
      "torch.Size([6, 128, 128])\n",
      "tensor(2)\n"
     ]
    }
   ],
   "source": [
    "for x, y in wavelet_data:\n",
    "    print(x.shape)\n",
    "    print(y)\n",
    "    break"
   ]
  },
  {
   "cell_type": "code",
   "execution_count": 22,
   "metadata": {
    "execution": {
     "iopub.execute_input": "2021-05-29T17:21:15.474382Z",
     "iopub.status.busy": "2021-05-29T17:21:15.474031Z",
     "iopub.status.idle": "2021-05-29T17:21:15.478748Z",
     "shell.execute_reply": "2021-05-29T17:21:15.477643Z",
     "shell.execute_reply.started": "2021-05-29T17:21:15.474348Z"
    }
   },
   "outputs": [],
   "source": [
    "from torch.utils.data import random_split\n",
    "\n",
    "len_histo = len(wavelet_data)\n",
    "len_train = int(0.8 * len_histo)\n",
    "len_val = len_histo - len_train"
   ]
  },
  {
   "cell_type": "code",
   "execution_count": 23,
   "metadata": {
    "execution": {
     "iopub.execute_input": "2021-05-29T17:21:15.483697Z",
     "iopub.status.busy": "2021-05-29T17:21:15.483371Z",
     "iopub.status.idle": "2021-05-29T17:21:15.493164Z",
     "shell.execute_reply": "2021-05-29T17:21:15.492375Z",
     "shell.execute_reply.started": "2021-05-29T17:21:15.483672Z"
    }
   },
   "outputs": [],
   "source": [
    "train_ds, val_ds = random_split(wavelet_data, [len_train, len_val])"
   ]
  },
  {
   "cell_type": "code",
   "execution_count": 24,
   "metadata": {
    "execution": {
     "iopub.execute_input": "2021-05-29T17:21:15.495521Z",
     "iopub.status.busy": "2021-05-29T17:21:15.495082Z",
     "iopub.status.idle": "2021-05-29T17:21:15.501839Z",
     "shell.execute_reply": "2021-05-29T17:21:15.500959Z",
     "shell.execute_reply.started": "2021-05-29T17:21:15.495484Z"
    }
   },
   "outputs": [
    {
     "name": "stdout",
     "output_type": "stream",
     "text": [
      "Train Dataset Length: 3048\n",
      "Validation Dataset Length: 762\n"
     ]
    }
   ],
   "source": [
    "print(f\"Train Dataset Length: {len(train_ds)}\")\n",
    "print(f\"Validation Dataset Length: {len(val_ds)}\")"
   ]
  },
  {
   "cell_type": "code",
   "execution_count": 25,
   "metadata": {
    "execution": {
     "iopub.execute_input": "2021-05-29T17:21:15.503653Z",
     "iopub.status.busy": "2021-05-29T17:21:15.503117Z",
     "iopub.status.idle": "2021-05-29T17:21:15.511137Z",
     "shell.execute_reply": "2021-05-29T17:21:15.510178Z",
     "shell.execute_reply.started": "2021-05-29T17:21:15.503616Z"
    }
   },
   "outputs": [],
   "source": [
    "#Data Loader\n",
    "\n",
    "from torch.utils.data import DataLoader\n",
    "train_dl = DataLoader(train_ds, batch_size = 256, shuffle = True)\n",
    "val_dl = DataLoader(val_ds, batch_size = 256, shuffle = False)"
   ]
  },
  {
   "cell_type": "code",
   "execution_count": 26,
   "metadata": {
    "execution": {
     "iopub.execute_input": "2021-05-29T17:21:15.513061Z",
     "iopub.status.busy": "2021-05-29T17:21:15.512514Z",
     "iopub.status.idle": "2021-05-29T17:21:15.651352Z",
     "shell.execute_reply": "2021-05-29T17:21:15.650580Z",
     "shell.execute_reply.started": "2021-05-29T17:21:15.513021Z"
    }
   },
   "outputs": [
    {
     "name": "stdout",
     "output_type": "stream",
     "text": [
      "torch.Size([256, 6, 128, 128])\n",
      "tensor([5, 5, 7, 4, 8, 6, 1, 6, 5, 1, 1, 7, 2, 1, 2, 8, 2, 2, 0, 5, 5, 5, 4, 1,\n",
      "        7, 8, 0, 7, 7, 8, 5, 1, 2, 7, 8, 6, 8, 6, 2, 5, 1, 1, 5, 6, 1, 7, 2, 8,\n",
      "        5, 8, 7, 1, 5, 7, 4, 7, 1, 6, 2, 5, 6, 8, 7, 7, 5, 0, 2, 7, 5, 8, 5, 7,\n",
      "        8, 2, 5, 2, 8, 6, 1, 2, 8, 7, 6, 7, 5, 7, 1, 5, 7, 4, 5, 7, 1, 8, 0, 0,\n",
      "        5, 5, 4, 8, 2, 8, 8, 1, 1, 1, 4, 0, 6, 5, 0, 4, 8, 7, 6, 8, 5, 5, 7, 7,\n",
      "        2, 6, 1, 7, 6, 1, 5, 2, 5, 1, 7, 6, 1, 1, 1, 4, 1, 1, 5, 7, 5, 2, 2, 7,\n",
      "        1, 5, 8, 1, 8, 5, 2, 5, 5, 7, 5, 8, 5, 1, 6, 2, 2, 5, 5, 7, 1, 2, 5, 1,\n",
      "        4, 1, 1, 1, 2, 7, 0, 8, 5, 5, 5, 5, 2, 8, 5, 6, 4, 7, 8, 5, 0, 7, 6, 0,\n",
      "        2, 3, 5, 7, 8, 0, 5, 7, 7, 1, 5, 1, 2, 8, 2, 1, 5, 4, 1, 7, 7, 2, 1, 7,\n",
      "        0, 5, 4, 8, 8, 7, 6, 1, 5, 0, 5, 8, 1, 2, 5, 0, 1, 7, 7, 5, 0, 1, 8, 1,\n",
      "        8, 6, 1, 8, 5, 1, 4, 7, 5, 7, 5, 8, 8, 8, 8, 5])\n"
     ]
    }
   ],
   "source": [
    "for x,y in train_dl:\n",
    "    print(x.shape)\n",
    "    print(y)\n",
    "    break\n",
    "    "
   ]
  },
  {
   "cell_type": "code",
   "execution_count": null,
   "metadata": {},
   "outputs": [],
   "source": []
  },
  {
   "cell_type": "code",
   "execution_count": 27,
   "metadata": {
    "execution": {
     "iopub.execute_input": "2021-05-29T17:21:15.652860Z",
     "iopub.status.busy": "2021-05-29T17:21:15.652537Z",
     "iopub.status.idle": "2021-05-29T17:21:15.657315Z",
     "shell.execute_reply": "2021-05-29T17:21:15.656493Z",
     "shell.execute_reply.started": "2021-05-29T17:21:15.652832Z"
    }
   },
   "outputs": [],
   "source": [
    "import torch.nn as nn\n",
    "import torch.nn.functional as F"
   ]
  },
  {
   "cell_type": "code",
   "execution_count": 28,
   "metadata": {
    "execution": {
     "iopub.execute_input": "2021-05-29T17:21:15.659323Z",
     "iopub.status.busy": "2021-05-29T17:21:15.658754Z",
     "iopub.status.idle": "2021-05-29T17:21:15.667416Z",
     "shell.execute_reply": "2021-05-29T17:21:15.666661Z",
     "shell.execute_reply.started": "2021-05-29T17:21:15.659285Z"
    }
   },
   "outputs": [],
   "source": [
    "# Implementing a helper function to calculate the output size of a CNN layer.\n",
    "\n",
    "def findConv2OutShape(H_in, W_in, conv, pool = 2):\n",
    "    #get conv parameter\n",
    "    kernel_size = conv.kernel_size\n",
    "    stride = conv.stride\n",
    "    padding = conv.padding\n",
    "    dilation = conv.dilation\n",
    "    \n",
    "    H_out=np.floor((H_in+2*padding[0]- dilation[0]*(kernel_size[0]-1)-1)/stride[0]+1)\n",
    "    W_out=np.floor((W_in+2*padding[1]- dilation[1]*(kernel_size[1]-1)-1)/stride[1]+1)\n",
    "    \n",
    "    if pool:\n",
    "        H_out/=pool\n",
    "        W_out/=pool\n",
    "        \n",
    "    return int(H_out),int(W_out)\n",
    "    "
   ]
  },
  {
   "cell_type": "code",
   "execution_count": 29,
   "metadata": {
    "execution": {
     "iopub.execute_input": "2021-05-29T17:21:15.669057Z",
     "iopub.status.busy": "2021-05-29T17:21:15.668661Z",
     "iopub.status.idle": "2021-05-29T17:21:15.682816Z",
     "shell.execute_reply": "2021-05-29T17:21:15.681778Z",
     "shell.execute_reply.started": "2021-05-29T17:21:15.669020Z"
    }
   },
   "outputs": [],
   "source": [
    "class Net(nn.Module):\n",
    "    def __init__(self, params):\n",
    "        super(Net, self).__init__()\n",
    "        C_in, H_in, W_in = params[\"input_shape\"]\n",
    "        init_f = params['initial_filters']\n",
    "        num_fc1 = params[\"num_fc1\"]\n",
    "        num_fc2 = params[\"num_fc2\"]\n",
    "        num_classes = params[\"num_classes\"]\n",
    "        self.dropout_rate = params[\"dropout_rate\"]\n",
    "        \n",
    "        self.conv1 = nn.Conv2d(C_in, init_f, kernel_size = 3)\n",
    "        h,w = findConv2OutShape(H_in, W_in, self.conv1)\n",
    "        self.conv2 = nn.Conv2d(init_f, 2*init_f, kernel_size=3)\n",
    "        h,w = findConv2OutShape(h, w, self.conv2)\n",
    "        self.conv3 = nn.Conv2d(2*init_f, 4*init_f, kernel_size=3)\n",
    "        h,w = findConv2OutShape(h, w, self.conv3)\n",
    "        \n",
    "        self.conv4 = nn.Conv2d(4*init_f, 8*init_f, kernel_size=3)\n",
    "        h,w = findConv2OutShape(h, w, self.conv4)\n",
    "        \n",
    "        self.num_flatten = h*w*8*init_f\n",
    "        \n",
    "        self.fc1 = nn.Linear(self.num_flatten, num_fc1)\n",
    "        self.fc2 = nn.Linear(num_fc1, num_fc2)\n",
    "        self.fc3 = nn.Linear(num_fc2,num_classes)\n",
    "        \n",
    "    def forward(self, x):\n",
    "        x = F.relu(self.conv1(x))\n",
    "        x = F.max_pool2d(x,2,2)\n",
    "        x = F.relu(self.conv2(x))\n",
    "        x = F.max_pool2d(x,2,2)\n",
    "        x = F.relu(self.conv3(x))\n",
    "        x = F.max_pool2d(x,2,2)\n",
    "        x = F.relu(self.conv4(x))\n",
    "        x = F.max_pool2d(x,2,2)\n",
    "        x = x.view(-1, self.num_flatten)\n",
    "        x = F.relu(self.fc1(x))\n",
    "        x = F.dropout(x, self.dropout_rate, training = self.training)\n",
    "        x = F.relu(self.fc2(x))\n",
    "        x = F.dropout(x, self.dropout_rate, training = self.training)\n",
    "        x = self.fc3(x)\n",
    "        \n",
    "        return F.log_softmax(x, dim = 1)\n"
   ]
  },
  {
   "cell_type": "code",
   "execution_count": 30,
   "metadata": {
    "execution": {
     "iopub.execute_input": "2021-05-29T17:21:15.684539Z",
     "iopub.status.busy": "2021-05-29T17:21:15.684182Z",
     "iopub.status.idle": "2021-05-29T17:21:15.696262Z",
     "shell.execute_reply": "2021-05-29T17:21:15.695449Z",
     "shell.execute_reply.started": "2021-05-29T17:21:15.684504Z"
    }
   },
   "outputs": [],
   "source": [
    "params = {\"input_shape\": (6,128,128), \n",
    "         \"initial_filters\" : 8,\n",
    "         \"num_fc1\": 1028,\n",
    "          \"num_fc2\":100,\n",
    "         \"dropout_rate\": 0.25,\n",
    "         \"num_classes\": 10\n",
    "         }"
   ]
  },
  {
   "cell_type": "code",
   "execution_count": 31,
   "metadata": {
    "execution": {
     "iopub.execute_input": "2021-05-29T17:21:15.697946Z",
     "iopub.status.busy": "2021-05-29T17:21:15.697513Z",
     "iopub.status.idle": "2021-05-29T17:21:15.729297Z",
     "shell.execute_reply": "2021-05-29T17:21:15.728523Z",
     "shell.execute_reply.started": "2021-05-29T17:21:15.697909Z"
    }
   },
   "outputs": [],
   "source": [
    "cnn_model = Net(params)"
   ]
  },
  {
   "cell_type": "code",
   "execution_count": 32,
   "metadata": {
    "execution": {
     "iopub.execute_input": "2021-05-29T17:21:15.731635Z",
     "iopub.status.busy": "2021-05-29T17:21:15.731166Z",
     "iopub.status.idle": "2021-05-29T17:21:15.736860Z",
     "shell.execute_reply": "2021-05-29T17:21:15.735902Z",
     "shell.execute_reply.started": "2021-05-29T17:21:15.731600Z"
    }
   },
   "outputs": [
    {
     "name": "stdout",
     "output_type": "stream",
     "text": [
      "Net(\n",
      "  (conv1): Conv2d(6, 8, kernel_size=(3, 3), stride=(1, 1))\n",
      "  (conv2): Conv2d(8, 16, kernel_size=(3, 3), stride=(1, 1))\n",
      "  (conv3): Conv2d(16, 32, kernel_size=(3, 3), stride=(1, 1))\n",
      "  (conv4): Conv2d(32, 64, kernel_size=(3, 3), stride=(1, 1))\n",
      "  (fc1): Linear(in_features=2304, out_features=1028, bias=True)\n",
      "  (fc2): Linear(in_features=1028, out_features=100, bias=True)\n",
      "  (fc3): Linear(in_features=100, out_features=10, bias=True)\n",
      ")\n"
     ]
    }
   ],
   "source": [
    "print(cnn_model)"
   ]
  },
  {
   "cell_type": "code",
   "execution_count": 33,
   "metadata": {
    "execution": {
     "iopub.execute_input": "2021-05-29T17:21:15.738527Z",
     "iopub.status.busy": "2021-05-29T17:21:15.738178Z",
     "iopub.status.idle": "2021-05-29T17:21:20.253145Z",
     "shell.execute_reply": "2021-05-29T17:21:20.252305Z",
     "shell.execute_reply.started": "2021-05-29T17:21:15.738493Z"
    }
   },
   "outputs": [],
   "source": [
    "if torch.cuda.is_available():\n",
    "    device = torch.device(\"cuda\")\n",
    "    cnn_model = cnn_model.to(device)\n",
    "    cnn_model = cnn_model.float()\n",
    "else:\n",
    "    device = 'cpu'\n",
    "    cnn_model = cnn_model.float()"
   ]
  },
  {
   "cell_type": "code",
   "execution_count": 34,
   "metadata": {
    "execution": {
     "iopub.execute_input": "2021-05-29T17:21:20.254771Z",
     "iopub.status.busy": "2021-05-29T17:21:20.254392Z",
     "iopub.status.idle": "2021-05-29T17:21:20.259702Z",
     "shell.execute_reply": "2021-05-29T17:21:20.258727Z",
     "shell.execute_reply.started": "2021-05-29T17:21:20.254735Z"
    }
   },
   "outputs": [],
   "source": [
    "# loss_func = nn.NLLLoss(reduction = 'sum')\n",
    "\n",
    "from torch import optim\n",
    "opt = optim.Adam(cnn_model.parameters(), lr = 3e-4)"
   ]
  },
  {
   "cell_type": "code",
   "execution_count": 35,
   "metadata": {
    "execution": {
     "iopub.execute_input": "2021-05-29T17:21:20.261176Z",
     "iopub.status.busy": "2021-05-29T17:21:20.260870Z",
     "iopub.status.idle": "2021-05-29T17:21:20.272033Z",
     "shell.execute_reply": "2021-05-29T17:21:20.271101Z",
     "shell.execute_reply.started": "2021-05-29T17:21:20.261144Z"
    }
   },
   "outputs": [],
   "source": [
    "def get_lr(opt):\n",
    "    for A in opt.param_groups:\n",
    "        return A['lr']\n",
    "current_lr = get_lr(opt)"
   ]
  },
  {
   "cell_type": "code",
   "execution_count": 36,
   "metadata": {
    "execution": {
     "iopub.execute_input": "2021-05-29T17:21:20.273505Z",
     "iopub.status.busy": "2021-05-29T17:21:20.273148Z",
     "iopub.status.idle": "2021-05-29T17:21:20.282541Z",
     "shell.execute_reply": "2021-05-29T17:21:20.281754Z",
     "shell.execute_reply.started": "2021-05-29T17:21:20.273469Z"
    }
   },
   "outputs": [],
   "source": [
    "from torch.optim.lr_scheduler import ReduceLROnPlateau\n",
    "\n",
    "lr_scheduler = ReduceLROnPlateau(opt, mode='min',factor=0.5,\n",
    "patience=20,verbose=1)"
   ]
  },
  {
   "cell_type": "code",
   "execution_count": 37,
   "metadata": {
    "execution": {
     "iopub.execute_input": "2021-05-29T17:21:20.283907Z",
     "iopub.status.busy": "2021-05-29T17:21:20.283524Z",
     "iopub.status.idle": "2021-05-29T17:21:20.293365Z",
     "shell.execute_reply": "2021-05-29T17:21:20.292489Z",
     "shell.execute_reply.started": "2021-05-29T17:21:20.283873Z"
    }
   },
   "outputs": [],
   "source": [
    "def metrics_batch(output, target):\n",
    "    #get output class\n",
    "    pred = output.argmax(dim = 1, keepdim = True)\n",
    "    corrects = pred.eq(target.view_as(pred)).sum().item()\n",
    "    \n",
    "    return corrects\n",
    "\n",
    "\n",
    "def loss_batch(loss_func, output, target, opt=None):\n",
    "    loss = loss_func(output, target)\n",
    "    metric_b = metrics_batch(output,target)\n",
    "    if opt is not None:\n",
    "        opt.zero_grad()\n",
    "        loss.backward()\n",
    "        opt.step()\n",
    "    return loss.item(), metric_b"
   ]
  },
  {
   "cell_type": "code",
   "execution_count": 38,
   "metadata": {
    "execution": {
     "iopub.execute_input": "2021-05-29T17:21:20.295149Z",
     "iopub.status.busy": "2021-05-29T17:21:20.294765Z",
     "iopub.status.idle": "2021-05-29T17:21:20.305364Z",
     "shell.execute_reply": "2021-05-29T17:21:20.304656Z",
     "shell.execute_reply.started": "2021-05-29T17:21:20.295113Z"
    }
   },
   "outputs": [],
   "source": [
    "def loss_epoch(model, loss_func, dataset_dl, sanity_check = False, opt = None):\n",
    "    running_loss = 0.0\n",
    "    running_metric = 0.0\n",
    "    len_data = len(dataset_dl.dataset)\n",
    "    for xb, yb in tqdm(dataset_dl):\n",
    "        xb = xb.to(device).float()\n",
    "        yb = yb.to(device)\n",
    "        output = model(xb)\n",
    "        loss_b, metric_b = loss_batch(loss_func,output, yb, opt)\n",
    "        running_loss+=loss_b \n",
    "        running_metric+= metric_b\n",
    "        \n",
    "        if sanity_check is True:\n",
    "            break\n",
    "            \n",
    "    loss = running_loss/float(len_data)\n",
    "    metric = running_metric/float(len_data)\n",
    "    \n",
    "    return loss, metric\n",
    "            \n",
    "    "
   ]
  },
  {
   "cell_type": "code",
   "execution_count": 39,
   "metadata": {
    "execution": {
     "iopub.execute_input": "2021-05-29T17:21:20.307290Z",
     "iopub.status.busy": "2021-05-29T17:21:20.306828Z",
     "iopub.status.idle": "2021-05-29T17:21:20.318981Z",
     "shell.execute_reply": "2021-05-29T17:21:20.317827Z",
     "shell.execute_reply.started": "2021-05-29T17:21:20.307248Z"
    }
   },
   "outputs": [],
   "source": [
    "def train_val(model, param):\n",
    "    num_epochs = param['num_epochs']\n",
    "    loss_func = param[\"loss_func\"]\n",
    "    opt = param[\"optimizer\"]\n",
    "    train_dl = param[\"train_dl\"]\n",
    "    val_dl = param[\"val_dl\"]\n",
    "    sanity_check = param[\"sanity_check\"]\n",
    "    lr_scheduler = param[\"lr_scheduler\"]\n",
    "    path2weights = param['path2weights']\n",
    "    loss_history = {\n",
    "        \"train\": [],\n",
    "        \"val\": []\n",
    "    }\n",
    "    \n",
    "    metric_history = {\n",
    "        \"train\": [],\n",
    "        \"val\": []\n",
    "    }\n",
    "    best_model_wts = copy.deepcopy(model.state_dict())\n",
    "    best_loss = float('inf')\n",
    "    \n",
    "    for epoch in range(num_epochs):\n",
    "        current_lr = get_lr(opt)\n",
    "        print(f'Epochs{epoch+1}/{num_epochs}, current lr: {current_lr}')\n",
    "        model.train()\n",
    "        train_loss, train_metric = loss_epoch(model, loss_func, train_dl, sanity_check, opt)\n",
    "        \n",
    "        loss_history['train'].append(train_loss)\n",
    "        metric_history['train'].append(train_metric)\n",
    "        \n",
    "        model.eval()\n",
    "        val_loss, val_metric = loss_epoch(model, loss_func, val_dl, sanity_check, opt =None)\n",
    "        \n",
    "        loss_history['val'].append(val_loss)\n",
    "        metric_history['val'].append(val_metric)\n",
    "        \n",
    "        if val_loss < best_loss:\n",
    "            best_loss = val_loss\n",
    "            best_model_wts = copy.deepcopy(model.state_dict())\n",
    "            torch.save(model.state_dict(), path2weights)\n",
    "            print(\"Saved new Weights\")\n",
    "            \n",
    "        lr_scheduler.step()\n",
    "        \n",
    "        print(\"train loss: %.6f, train accuracy: %.6f, dev loss: %.6f, accuracy: %.2f\"%(train_loss,train_metric*100, val_loss,100*val_metric))\n",
    "        print(\"-\"*10)\n",
    "    model.load_state_dict(best_model_wts)\n",
    "    return model, loss_history, metric_history\n",
    "        \n",
    "    "
   ]
  },
  {
   "cell_type": "code",
   "execution_count": 40,
   "metadata": {
    "execution": {
     "iopub.execute_input": "2021-05-29T17:21:20.320861Z",
     "iopub.status.busy": "2021-05-29T17:21:20.320395Z",
     "iopub.status.idle": "2021-05-29T17:21:20.332243Z",
     "shell.execute_reply": "2021-05-29T17:21:20.331335Z",
     "shell.execute_reply.started": "2021-05-29T17:21:20.320826Z"
    }
   },
   "outputs": [],
   "source": [
    "from torch.optim.lr_scheduler import CosineAnnealingLR\n"
   ]
  },
  {
   "cell_type": "code",
   "execution_count": 41,
   "metadata": {
    "execution": {
     "iopub.execute_input": "2021-05-29T17:21:20.334187Z",
     "iopub.status.busy": "2021-05-29T17:21:20.333946Z",
     "iopub.status.idle": "2021-05-29T17:21:20.343032Z",
     "shell.execute_reply": "2021-05-29T17:21:20.342193Z",
     "shell.execute_reply.started": "2021-05-29T17:21:20.334164Z"
    }
   },
   "outputs": [],
   "source": [
    "import copy\n",
    "import os\n",
    "\n",
    "loss_func = nn.CrossEntropyLoss(reduction='sum')\n",
    "# opt = optim.Adam(model_resnet.parameters(), lr = 1e-4)\n",
    "lr_scheduler = CosineAnnealingLR(opt,T_max=5,eta_min=1e-6)\n",
    "\n",
    "\n",
    "os.makedirs(\"./models\", exist_ok=True)\n",
    "params_train={\n",
    "\"num_epochs\": 2000,\n",
    "\"optimizer\": opt,\n",
    "\"loss_func\": loss_func,\n",
    "\"train_dl\": train_dl,\n",
    "\"val_dl\": val_dl,\n",
    "\"sanity_check\": False,\n",
    "\"lr_scheduler\": lr_scheduler,\n",
    "\"path2weights\": \"./models/resnet18.pt\",\n",
    "}"
   ]
  },
  {
   "cell_type": "code",
   "execution_count": 42,
   "metadata": {
    "execution": {
     "iopub.execute_input": "2021-05-29T17:21:20.345931Z",
     "iopub.status.busy": "2021-05-29T17:21:20.345517Z",
     "iopub.status.idle": "2021-05-29T17:26:41.407543Z",
     "shell.execute_reply": "2021-05-29T17:26:41.406617Z",
     "shell.execute_reply.started": "2021-05-29T17:21:20.345880Z"
    }
   },
   "outputs": [
    {
     "name": "stdout",
     "output_type": "stream",
     "text": [
      "Epochs1/100, current lr: 0.0003\n"
     ]
    },
    {
     "data": {
      "application/vnd.jupyter.widget-view+json": {
       "model_id": "554f48d93b0540d699394763a1840f42",
       "version_major": 2,
       "version_minor": 0
      },
      "text/plain": [
       "  0%|          | 0/12 [00:00<?, ?it/s]"
      ]
     },
     "metadata": {},
     "output_type": "display_data"
    },
    {
     "data": {
      "application/vnd.jupyter.widget-view+json": {
       "model_id": "8b0c43dc0ba44da29d73955a24e28f41",
       "version_major": 2,
       "version_minor": 0
      },
      "text/plain": [
       "  0%|          | 0/3 [00:00<?, ?it/s]"
      ]
     },
     "metadata": {},
     "output_type": "display_data"
    },
    {
     "name": "stdout",
     "output_type": "stream",
     "text": [
      "Saved new Weights\n",
      "train loss: 2.131700, train accuracy: 17.847769, dev loss: 2.057552, accuracy: 19.42\n",
      "----------\n",
      "Epochs2/100, current lr: 0.0002714480406590546\n"
     ]
    },
    {
     "data": {
      "application/vnd.jupyter.widget-view+json": {
       "model_id": "281247b7a7054a7c8ad213c548704220",
       "version_major": 2,
       "version_minor": 0
      },
      "text/plain": [
       "  0%|          | 0/12 [00:00<?, ?it/s]"
      ]
     },
     "metadata": {},
     "output_type": "display_data"
    },
    {
     "data": {
      "application/vnd.jupyter.widget-view+json": {
       "model_id": "0bec13e3602143ecb106df45155878ff",
       "version_major": 2,
       "version_minor": 0
      },
      "text/plain": [
       "  0%|          | 0/3 [00:00<?, ?it/s]"
      ]
     },
     "metadata": {},
     "output_type": "display_data"
    },
    {
     "name": "stdout",
     "output_type": "stream",
     "text": [
      "Saved new Weights\n",
      "train loss: 2.067374, train accuracy: 20.472441, dev loss: 2.036786, accuracy: 24.80\n",
      "----------\n",
      "Epochs3/100, current lr: 0.00019669804065905458\n"
     ]
    },
    {
     "data": {
      "application/vnd.jupyter.widget-view+json": {
       "model_id": "0037ac7d29eb4385a59a33224da6b47c",
       "version_major": 2,
       "version_minor": 0
      },
      "text/plain": [
       "  0%|          | 0/12 [00:00<?, ?it/s]"
      ]
     },
     "metadata": {},
     "output_type": "display_data"
    },
    {
     "data": {
      "application/vnd.jupyter.widget-view+json": {
       "model_id": "ada20618087a486aa053aac9442e25bc",
       "version_major": 2,
       "version_minor": 0
      },
      "text/plain": [
       "  0%|          | 0/3 [00:00<?, ?it/s]"
      ]
     },
     "metadata": {},
     "output_type": "display_data"
    },
    {
     "name": "stdout",
     "output_type": "stream",
     "text": [
      "Saved new Weights\n",
      "train loss: 2.060070, train accuracy: 19.455381, dev loss: 2.035711, accuracy: 21.52\n",
      "----------\n",
      "Epochs4/100, current lr: 0.00010430195934094532\n"
     ]
    },
    {
     "data": {
      "application/vnd.jupyter.widget-view+json": {
       "model_id": "cc742f69417444f6be6d53b1dfeda273",
       "version_major": 2,
       "version_minor": 0
      },
      "text/plain": [
       "  0%|          | 0/12 [00:00<?, ?it/s]"
      ]
     },
     "metadata": {},
     "output_type": "display_data"
    },
    {
     "data": {
      "application/vnd.jupyter.widget-view+json": {
       "model_id": "32f47c23b70346c5a65f112ed103e578",
       "version_major": 2,
       "version_minor": 0
      },
      "text/plain": [
       "  0%|          | 0/3 [00:00<?, ?it/s]"
      ]
     },
     "metadata": {},
     "output_type": "display_data"
    },
    {
     "name": "stdout",
     "output_type": "stream",
     "text": [
      "Saved new Weights\n",
      "train loss: 2.036512, train accuracy: 20.964567, dev loss: 2.018897, accuracy: 19.42\n",
      "----------\n",
      "Epochs5/100, current lr: 2.955195934094536e-05\n"
     ]
    },
    {
     "data": {
      "application/vnd.jupyter.widget-view+json": {
       "model_id": "033546be13944c98a66aa200ebdade11",
       "version_major": 2,
       "version_minor": 0
      },
      "text/plain": [
       "  0%|          | 0/12 [00:00<?, ?it/s]"
      ]
     },
     "metadata": {},
     "output_type": "display_data"
    },
    {
     "data": {
      "application/vnd.jupyter.widget-view+json": {
       "model_id": "5abf116d8e22458dbdf7400f9dde6101",
       "version_major": 2,
       "version_minor": 0
      },
      "text/plain": [
       "  0%|          | 0/3 [00:00<?, ?it/s]"
      ]
     },
     "metadata": {},
     "output_type": "display_data"
    },
    {
     "name": "stdout",
     "output_type": "stream",
     "text": [
      "Saved new Weights\n",
      "train loss: 2.033425, train accuracy: 21.751969, dev loss: 2.015466, accuracy: 31.10\n",
      "----------\n",
      "Epochs6/100, current lr: 1e-06\n"
     ]
    },
    {
     "data": {
      "application/vnd.jupyter.widget-view+json": {
       "model_id": "e0c4ef333e334f2dbc93b9863c76c9b7",
       "version_major": 2,
       "version_minor": 0
      },
      "text/plain": [
       "  0%|          | 0/12 [00:00<?, ?it/s]"
      ]
     },
     "metadata": {},
     "output_type": "display_data"
    },
    {
     "data": {
      "application/vnd.jupyter.widget-view+json": {
       "model_id": "ae47a3340a3b441a846546cfe324eb6b",
       "version_major": 2,
       "version_minor": 0
      },
      "text/plain": [
       "  0%|          | 0/3 [00:00<?, ?it/s]"
      ]
     },
     "metadata": {},
     "output_type": "display_data"
    },
    {
     "name": "stdout",
     "output_type": "stream",
     "text": [
      "Saved new Weights\n",
      "train loss: 2.033850, train accuracy: 21.817585, dev loss: 2.015295, accuracy: 30.97\n",
      "----------\n",
      "Epochs7/100, current lr: 2.9551959340945353e-05\n"
     ]
    },
    {
     "data": {
      "application/vnd.jupyter.widget-view+json": {
       "model_id": "23771d6899954bf9a9b5a288b9c73612",
       "version_major": 2,
       "version_minor": 0
      },
      "text/plain": [
       "  0%|          | 0/12 [00:00<?, ?it/s]"
      ]
     },
     "metadata": {},
     "output_type": "display_data"
    },
    {
     "data": {
      "application/vnd.jupyter.widget-view+json": {
       "model_id": "731aee12e5df44e28fa932951d5bc807",
       "version_major": 2,
       "version_minor": 0
      },
      "text/plain": [
       "  0%|          | 0/3 [00:00<?, ?it/s]"
      ]
     },
     "metadata": {},
     "output_type": "display_data"
    },
    {
     "name": "stdout",
     "output_type": "stream",
     "text": [
      "Saved new Weights\n",
      "train loss: 2.024410, train accuracy: 21.948819, dev loss: 2.009234, accuracy: 29.40\n",
      "----------\n",
      "Epochs8/100, current lr: 0.00010430195934094538\n"
     ]
    },
    {
     "data": {
      "application/vnd.jupyter.widget-view+json": {
       "model_id": "889bfd9c7732475d93efc87388ddf5fb",
       "version_major": 2,
       "version_minor": 0
      },
      "text/plain": [
       "  0%|          | 0/12 [00:00<?, ?it/s]"
      ]
     },
     "metadata": {},
     "output_type": "display_data"
    },
    {
     "data": {
      "application/vnd.jupyter.widget-view+json": {
       "model_id": "cee42ae872a4432c830b050fca51d805",
       "version_major": 2,
       "version_minor": 0
      },
      "text/plain": [
       "  0%|          | 0/3 [00:00<?, ?it/s]"
      ]
     },
     "metadata": {},
     "output_type": "display_data"
    },
    {
     "name": "stdout",
     "output_type": "stream",
     "text": [
      "Saved new Weights\n",
      "train loss: 2.010000, train accuracy: 24.573491, dev loss: 1.981540, accuracy: 30.05\n",
      "----------\n",
      "Epochs9/100, current lr: 0.0001966980406590547\n"
     ]
    },
    {
     "data": {
      "application/vnd.jupyter.widget-view+json": {
       "model_id": "0abbeeb8db1144adb68d42d1f808752f",
       "version_major": 2,
       "version_minor": 0
      },
      "text/plain": [
       "  0%|          | 0/12 [00:00<?, ?it/s]"
      ]
     },
     "metadata": {},
     "output_type": "display_data"
    },
    {
     "data": {
      "application/vnd.jupyter.widget-view+json": {
       "model_id": "49b64b47a883422a98c4b046ab5c82b8",
       "version_major": 2,
       "version_minor": 0
      },
      "text/plain": [
       "  0%|          | 0/3 [00:00<?, ?it/s]"
      ]
     },
     "metadata": {},
     "output_type": "display_data"
    },
    {
     "name": "stdout",
     "output_type": "stream",
     "text": [
      "Saved new Weights\n",
      "train loss: 1.981574, train accuracy: 26.181102, dev loss: 1.922534, accuracy: 28.48\n",
      "----------\n",
      "Epochs10/100, current lr: 0.00027144804065905477\n"
     ]
    },
    {
     "data": {
      "application/vnd.jupyter.widget-view+json": {
       "model_id": "feafb3de67e7411696e4955babb07821",
       "version_major": 2,
       "version_minor": 0
      },
      "text/plain": [
       "  0%|          | 0/12 [00:00<?, ?it/s]"
      ]
     },
     "metadata": {},
     "output_type": "display_data"
    },
    {
     "data": {
      "application/vnd.jupyter.widget-view+json": {
       "model_id": "8732051bdce74edabbfbac99b2ff2af0",
       "version_major": 2,
       "version_minor": 0
      },
      "text/plain": [
       "  0%|          | 0/3 [00:00<?, ?it/s]"
      ]
     },
     "metadata": {},
     "output_type": "display_data"
    },
    {
     "name": "stdout",
     "output_type": "stream",
     "text": [
      "Saved new Weights\n",
      "train loss: 1.971050, train accuracy: 25.721785, dev loss: 1.913219, accuracy: 28.87\n",
      "----------\n",
      "Epochs11/100, current lr: 0.00030000000000000014\n"
     ]
    },
    {
     "data": {
      "application/vnd.jupyter.widget-view+json": {
       "model_id": "e9288f98fe9d4ce68d50c5fba5c5bf2d",
       "version_major": 2,
       "version_minor": 0
      },
      "text/plain": [
       "  0%|          | 0/12 [00:00<?, ?it/s]"
      ]
     },
     "metadata": {},
     "output_type": "display_data"
    },
    {
     "data": {
      "application/vnd.jupyter.widget-view+json": {
       "model_id": "d0a95dcc282349358c13ca7a9af8e53c",
       "version_major": 2,
       "version_minor": 0
      },
      "text/plain": [
       "  0%|          | 0/3 [00:00<?, ?it/s]"
      ]
     },
     "metadata": {},
     "output_type": "display_data"
    },
    {
     "name": "stdout",
     "output_type": "stream",
     "text": [
      "Saved new Weights\n",
      "train loss: 1.929295, train accuracy: 27.559055, dev loss: 1.864119, accuracy: 30.84\n",
      "----------\n",
      "Epochs12/100, current lr: 0.0002714480406590549\n"
     ]
    },
    {
     "data": {
      "application/vnd.jupyter.widget-view+json": {
       "model_id": "4ad04ba8c2cc4cb99536a4e0660f9bfa",
       "version_major": 2,
       "version_minor": 0
      },
      "text/plain": [
       "  0%|          | 0/12 [00:00<?, ?it/s]"
      ]
     },
     "metadata": {},
     "output_type": "display_data"
    },
    {
     "data": {
      "application/vnd.jupyter.widget-view+json": {
       "model_id": "0ec1c8f9580d431885f9188558aa9edc",
       "version_major": 2,
       "version_minor": 0
      },
      "text/plain": [
       "  0%|          | 0/3 [00:00<?, ?it/s]"
      ]
     },
     "metadata": {},
     "output_type": "display_data"
    },
    {
     "name": "stdout",
     "output_type": "stream",
     "text": [
      "Saved new Weights\n",
      "train loss: 1.881726, train accuracy: 28.707349, dev loss: 1.809071, accuracy: 32.41\n",
      "----------\n",
      "Epochs13/100, current lr: 0.00019669804065905474\n"
     ]
    },
    {
     "data": {
      "application/vnd.jupyter.widget-view+json": {
       "model_id": "e5f6fa718c9341808c0bf8d02bd89dc3",
       "version_major": 2,
       "version_minor": 0
      },
      "text/plain": [
       "  0%|          | 0/12 [00:00<?, ?it/s]"
      ]
     },
     "metadata": {},
     "output_type": "display_data"
    },
    {
     "data": {
      "application/vnd.jupyter.widget-view+json": {
       "model_id": "16591ebde1c54687bd72d50d1aca43da",
       "version_major": 2,
       "version_minor": 0
      },
      "text/plain": [
       "  0%|          | 0/3 [00:00<?, ?it/s]"
      ]
     },
     "metadata": {},
     "output_type": "display_data"
    },
    {
     "name": "stdout",
     "output_type": "stream",
     "text": [
      "Saved new Weights\n",
      "train loss: 1.850161, train accuracy: 30.347769, dev loss: 1.783747, accuracy: 30.71\n",
      "----------\n",
      "Epochs14/100, current lr: 0.00010430195934094543\n"
     ]
    },
    {
     "data": {
      "application/vnd.jupyter.widget-view+json": {
       "model_id": "a2994684f36f4cd3a2fb5d925b14c810",
       "version_major": 2,
       "version_minor": 0
      },
      "text/plain": [
       "  0%|          | 0/12 [00:00<?, ?it/s]"
      ]
     },
     "metadata": {},
     "output_type": "display_data"
    },
    {
     "data": {
      "application/vnd.jupyter.widget-view+json": {
       "model_id": "c5d22598982f410d8f04048851a40adb",
       "version_major": 2,
       "version_minor": 0
      },
      "text/plain": [
       "  0%|          | 0/3 [00:00<?, ?it/s]"
      ]
     },
     "metadata": {},
     "output_type": "display_data"
    },
    {
     "name": "stdout",
     "output_type": "stream",
     "text": [
      "Saved new Weights\n",
      "train loss: 1.830048, train accuracy: 30.577428, dev loss: 1.778569, accuracy: 32.28\n",
      "----------\n",
      "Epochs15/100, current lr: 2.9551959340945397e-05\n"
     ]
    },
    {
     "data": {
      "application/vnd.jupyter.widget-view+json": {
       "model_id": "ec5eba8b6e74469e94664287838dfe6f",
       "version_major": 2,
       "version_minor": 0
      },
      "text/plain": [
       "  0%|          | 0/12 [00:00<?, ?it/s]"
      ]
     },
     "metadata": {},
     "output_type": "display_data"
    },
    {
     "data": {
      "application/vnd.jupyter.widget-view+json": {
       "model_id": "69cb30451f4f40d48faa9a48201f1ee4",
       "version_major": 2,
       "version_minor": 0
      },
      "text/plain": [
       "  0%|          | 0/3 [00:00<?, ?it/s]"
      ]
     },
     "metadata": {},
     "output_type": "display_data"
    },
    {
     "name": "stdout",
     "output_type": "stream",
     "text": [
      "Saved new Weights\n",
      "train loss: 1.830784, train accuracy: 31.758530, dev loss: 1.767902, accuracy: 32.81\n",
      "----------\n",
      "Epochs16/100, current lr: 1e-06\n"
     ]
    },
    {
     "data": {
      "application/vnd.jupyter.widget-view+json": {
       "model_id": "36d0948427424094bc36525fcbc08c4e",
       "version_major": 2,
       "version_minor": 0
      },
      "text/plain": [
       "  0%|          | 0/12 [00:00<?, ?it/s]"
      ]
     },
     "metadata": {},
     "output_type": "display_data"
    },
    {
     "data": {
      "application/vnd.jupyter.widget-view+json": {
       "model_id": "7506d83854aa40dd8af998d3db86022b",
       "version_major": 2,
       "version_minor": 0
      },
      "text/plain": [
       "  0%|          | 0/3 [00:00<?, ?it/s]"
      ]
     },
     "metadata": {},
     "output_type": "display_data"
    },
    {
     "name": "stdout",
     "output_type": "stream",
     "text": [
      "Saved new Weights\n",
      "train loss: 1.816419, train accuracy: 31.135171, dev loss: 1.767091, accuracy: 32.68\n",
      "----------\n",
      "Epochs17/100, current lr: 2.9551959340945353e-05\n"
     ]
    },
    {
     "data": {
      "application/vnd.jupyter.widget-view+json": {
       "model_id": "160424c0eeb641cc9d1209f5feb5d763",
       "version_major": 2,
       "version_minor": 0
      },
      "text/plain": [
       "  0%|          | 0/12 [00:00<?, ?it/s]"
      ]
     },
     "metadata": {},
     "output_type": "display_data"
    },
    {
     "data": {
      "application/vnd.jupyter.widget-view+json": {
       "model_id": "c8206247b71a4fa4be9d9098472ccdbb",
       "version_major": 2,
       "version_minor": 0
      },
      "text/plain": [
       "  0%|          | 0/3 [00:00<?, ?it/s]"
      ]
     },
     "metadata": {},
     "output_type": "display_data"
    },
    {
     "name": "stdout",
     "output_type": "stream",
     "text": [
      "Saved new Weights\n",
      "train loss: 1.819141, train accuracy: 30.741470, dev loss: 1.763781, accuracy: 32.81\n",
      "----------\n",
      "Epochs18/100, current lr: 0.00010430195934094539\n"
     ]
    },
    {
     "data": {
      "application/vnd.jupyter.widget-view+json": {
       "model_id": "bdc3147423c0476d91406aef89042fe7",
       "version_major": 2,
       "version_minor": 0
      },
      "text/plain": [
       "  0%|          | 0/12 [00:00<?, ?it/s]"
      ]
     },
     "metadata": {},
     "output_type": "display_data"
    },
    {
     "data": {
      "application/vnd.jupyter.widget-view+json": {
       "model_id": "742390dda6a4452290fb966f68d3c2c8",
       "version_major": 2,
       "version_minor": 0
      },
      "text/plain": [
       "  0%|          | 0/3 [00:00<?, ?it/s]"
      ]
     },
     "metadata": {},
     "output_type": "display_data"
    },
    {
     "name": "stdout",
     "output_type": "stream",
     "text": [
      "Saved new Weights\n",
      "train loss: 1.819499, train accuracy: 31.266404, dev loss: 1.763018, accuracy: 33.33\n",
      "----------\n",
      "Epochs19/100, current lr: 0.00019669804065905477\n"
     ]
    },
    {
     "data": {
      "application/vnd.jupyter.widget-view+json": {
       "model_id": "01725386df344b5eaa58d9f2e0fa4a41",
       "version_major": 2,
       "version_minor": 0
      },
      "text/plain": [
       "  0%|          | 0/12 [00:00<?, ?it/s]"
      ]
     },
     "metadata": {},
     "output_type": "display_data"
    },
    {
     "data": {
      "application/vnd.jupyter.widget-view+json": {
       "model_id": "ffa8d139602841eabefa889f4d1c2e86",
       "version_major": 2,
       "version_minor": 0
      },
      "text/plain": [
       "  0%|          | 0/3 [00:00<?, ?it/s]"
      ]
     },
     "metadata": {},
     "output_type": "display_data"
    },
    {
     "name": "stdout",
     "output_type": "stream",
     "text": [
      "train loss: 1.835899, train accuracy: 30.380577, dev loss: 1.763211, accuracy: 33.60\n",
      "----------\n",
      "Epochs20/100, current lr: 0.0002714480406590549\n"
     ]
    },
    {
     "data": {
      "application/vnd.jupyter.widget-view+json": {
       "model_id": "cbf1ad8a9979497ebb04b261b6e8c526",
       "version_major": 2,
       "version_minor": 0
      },
      "text/plain": [
       "  0%|          | 0/12 [00:00<?, ?it/s]"
      ]
     },
     "metadata": {},
     "output_type": "display_data"
    },
    {
     "data": {
      "application/vnd.jupyter.widget-view+json": {
       "model_id": "ce77a44b844b4f8cbc591c0176fe18af",
       "version_major": 2,
       "version_minor": 0
      },
      "text/plain": [
       "  0%|          | 0/3 [00:00<?, ?it/s]"
      ]
     },
     "metadata": {},
     "output_type": "display_data"
    },
    {
     "name": "stdout",
     "output_type": "stream",
     "text": [
      "train loss: 1.857486, train accuracy: 28.641732, dev loss: 1.796725, accuracy: 31.76\n",
      "----------\n",
      "Epochs21/100, current lr: 0.00030000000000000035\n"
     ]
    },
    {
     "data": {
      "application/vnd.jupyter.widget-view+json": {
       "model_id": "11674deea43c443881897a4d95a932cc",
       "version_major": 2,
       "version_minor": 0
      },
      "text/plain": [
       "  0%|          | 0/12 [00:00<?, ?it/s]"
      ]
     },
     "metadata": {},
     "output_type": "display_data"
    },
    {
     "data": {
      "application/vnd.jupyter.widget-view+json": {
       "model_id": "30fa83bae8834fb4b95a8eb06c2fa809",
       "version_major": 2,
       "version_minor": 0
      },
      "text/plain": [
       "  0%|          | 0/3 [00:00<?, ?it/s]"
      ]
     },
     "metadata": {},
     "output_type": "display_data"
    },
    {
     "name": "stdout",
     "output_type": "stream",
     "text": [
      "train loss: 1.837844, train accuracy: 30.347769, dev loss: 1.779475, accuracy: 33.33\n",
      "----------\n",
      "Epochs22/100, current lr: 0.000271448040659055\n"
     ]
    },
    {
     "data": {
      "application/vnd.jupyter.widget-view+json": {
       "model_id": "a03e0fd0c20c44d48b8a84526e7248a5",
       "version_major": 2,
       "version_minor": 0
      },
      "text/plain": [
       "  0%|          | 0/12 [00:00<?, ?it/s]"
      ]
     },
     "metadata": {},
     "output_type": "display_data"
    },
    {
     "data": {
      "application/vnd.jupyter.widget-view+json": {
       "model_id": "fcf1936a41c440cf92702ce2b75491c2",
       "version_major": 2,
       "version_minor": 0
      },
      "text/plain": [
       "  0%|          | 0/3 [00:00<?, ?it/s]"
      ]
     },
     "metadata": {},
     "output_type": "display_data"
    },
    {
     "name": "stdout",
     "output_type": "stream",
     "text": [
      "Saved new Weights\n",
      "train loss: 1.832546, train accuracy: 30.675853, dev loss: 1.755731, accuracy: 33.86\n",
      "----------\n",
      "Epochs23/100, current lr: 0.0001966980406590552\n"
     ]
    },
    {
     "data": {
      "application/vnd.jupyter.widget-view+json": {
       "model_id": "389c25526e6c49698cd7adc5abceab75",
       "version_major": 2,
       "version_minor": 0
      },
      "text/plain": [
       "  0%|          | 0/12 [00:00<?, ?it/s]"
      ]
     },
     "metadata": {},
     "output_type": "display_data"
    },
    {
     "data": {
      "application/vnd.jupyter.widget-view+json": {
       "model_id": "db902a4664874b508cf2f1536b4d0a0c",
       "version_major": 2,
       "version_minor": 0
      },
      "text/plain": [
       "  0%|          | 0/3 [00:00<?, ?it/s]"
      ]
     },
     "metadata": {},
     "output_type": "display_data"
    },
    {
     "name": "stdout",
     "output_type": "stream",
     "text": [
      "Saved new Weights\n",
      "train loss: 1.811018, train accuracy: 31.758530, dev loss: 1.743121, accuracy: 33.20\n",
      "----------\n",
      "Epochs24/100, current lr: 0.00010430195934094555\n"
     ]
    },
    {
     "data": {
      "application/vnd.jupyter.widget-view+json": {
       "model_id": "be309ee6d7634bd58e0a08b0e7175b19",
       "version_major": 2,
       "version_minor": 0
      },
      "text/plain": [
       "  0%|          | 0/12 [00:00<?, ?it/s]"
      ]
     },
     "metadata": {},
     "output_type": "display_data"
    },
    {
     "data": {
      "application/vnd.jupyter.widget-view+json": {
       "model_id": "91105fd82e11476d9fa58e4ed8dfeb31",
       "version_major": 2,
       "version_minor": 0
      },
      "text/plain": [
       "  0%|          | 0/3 [00:00<?, ?it/s]"
      ]
     },
     "metadata": {},
     "output_type": "display_data"
    },
    {
     "name": "stdout",
     "output_type": "stream",
     "text": [
      "Saved new Weights\n",
      "train loss: 1.783231, train accuracy: 31.856955, dev loss: 1.727791, accuracy: 34.78\n",
      "----------\n",
      "Epochs25/100, current lr: 2.955195934094544e-05\n"
     ]
    },
    {
     "data": {
      "application/vnd.jupyter.widget-view+json": {
       "model_id": "95ff7724469e487690bac07b52d48fbc",
       "version_major": 2,
       "version_minor": 0
      },
      "text/plain": [
       "  0%|          | 0/12 [00:00<?, ?it/s]"
      ]
     },
     "metadata": {},
     "output_type": "display_data"
    },
    {
     "data": {
      "application/vnd.jupyter.widget-view+json": {
       "model_id": "093956559cee416985a96251dd37e46c",
       "version_major": 2,
       "version_minor": 0
      },
      "text/plain": [
       "  0%|          | 0/3 [00:00<?, ?it/s]"
      ]
     },
     "metadata": {},
     "output_type": "display_data"
    },
    {
     "name": "stdout",
     "output_type": "stream",
     "text": [
      "Saved new Weights\n",
      "train loss: 1.763962, train accuracy: 34.055118, dev loss: 1.716942, accuracy: 35.96\n",
      "----------\n",
      "Epochs26/100, current lr: 1e-06\n"
     ]
    },
    {
     "data": {
      "application/vnd.jupyter.widget-view+json": {
       "model_id": "2ae65b5645ec4185af1c9820a50547df",
       "version_major": 2,
       "version_minor": 0
      },
      "text/plain": [
       "  0%|          | 0/12 [00:00<?, ?it/s]"
      ]
     },
     "metadata": {},
     "output_type": "display_data"
    },
    {
     "data": {
      "application/vnd.jupyter.widget-view+json": {
       "model_id": "c6339cb5620c4e81a62ca5edeab772c3",
       "version_major": 2,
       "version_minor": 0
      },
      "text/plain": [
       "  0%|          | 0/3 [00:00<?, ?it/s]"
      ]
     },
     "metadata": {},
     "output_type": "display_data"
    },
    {
     "name": "stdout",
     "output_type": "stream",
     "text": [
      "Saved new Weights\n",
      "train loss: 1.765652, train accuracy: 33.038058, dev loss: 1.716328, accuracy: 36.09\n",
      "----------\n",
      "Epochs27/100, current lr: 2.9551959340945353e-05\n"
     ]
    },
    {
     "data": {
      "application/vnd.jupyter.widget-view+json": {
       "model_id": "7329b6fa088846fc8134121b5fd3153d",
       "version_major": 2,
       "version_minor": 0
      },
      "text/plain": [
       "  0%|          | 0/12 [00:00<?, ?it/s]"
      ]
     },
     "metadata": {},
     "output_type": "display_data"
    },
    {
     "data": {
      "application/vnd.jupyter.widget-view+json": {
       "model_id": "ef443e4c72724ca1b6b7031aa91dcd0c",
       "version_major": 2,
       "version_minor": 0
      },
      "text/plain": [
       "  0%|          | 0/3 [00:00<?, ?it/s]"
      ]
     },
     "metadata": {},
     "output_type": "display_data"
    },
    {
     "name": "stdout",
     "output_type": "stream",
     "text": [
      "Saved new Weights\n",
      "train loss: 1.762332, train accuracy: 33.300525, dev loss: 1.714550, accuracy: 35.30\n",
      "----------\n",
      "Epochs28/100, current lr: 0.00010430195934094542\n"
     ]
    },
    {
     "data": {
      "application/vnd.jupyter.widget-view+json": {
       "model_id": "c94e1edf85364de8886a32a3dbb98f68",
       "version_major": 2,
       "version_minor": 0
      },
      "text/plain": [
       "  0%|          | 0/12 [00:00<?, ?it/s]"
      ]
     },
     "metadata": {},
     "output_type": "display_data"
    },
    {
     "data": {
      "application/vnd.jupyter.widget-view+json": {
       "model_id": "c6bef784939c44f1a41f767c618add45",
       "version_major": 2,
       "version_minor": 0
      },
      "text/plain": [
       "  0%|          | 0/3 [00:00<?, ?it/s]"
      ]
     },
     "metadata": {},
     "output_type": "display_data"
    },
    {
     "name": "stdout",
     "output_type": "stream",
     "text": [
      "Saved new Weights\n",
      "train loss: 1.760428, train accuracy: 33.661417, dev loss: 1.712743, accuracy: 36.35\n",
      "----------\n",
      "Epochs29/100, current lr: 0.00019669804065905485\n"
     ]
    },
    {
     "data": {
      "application/vnd.jupyter.widget-view+json": {
       "model_id": "5e4e387f608a4d48ade0ef1aa1ac51d7",
       "version_major": 2,
       "version_minor": 0
      },
      "text/plain": [
       "  0%|          | 0/12 [00:00<?, ?it/s]"
      ]
     },
     "metadata": {},
     "output_type": "display_data"
    },
    {
     "data": {
      "application/vnd.jupyter.widget-view+json": {
       "model_id": "27f6dd366359438e97c822fa39454087",
       "version_major": 2,
       "version_minor": 0
      },
      "text/plain": [
       "  0%|          | 0/3 [00:00<?, ?it/s]"
      ]
     },
     "metadata": {},
     "output_type": "display_data"
    },
    {
     "name": "stdout",
     "output_type": "stream",
     "text": [
      "train loss: 1.757087, train accuracy: 33.169291, dev loss: 1.722902, accuracy: 32.55\n",
      "----------\n",
      "Epochs30/100, current lr: 0.00027144804065905504\n"
     ]
    },
    {
     "data": {
      "application/vnd.jupyter.widget-view+json": {
       "model_id": "7cfa0dd8387f4f218bf7b751d2a165da",
       "version_major": 2,
       "version_minor": 0
      },
      "text/plain": [
       "  0%|          | 0/12 [00:00<?, ?it/s]"
      ]
     },
     "metadata": {},
     "output_type": "display_data"
    },
    {
     "data": {
      "application/vnd.jupyter.widget-view+json": {
       "model_id": "c29080774245405d960e1c78c6f5a035",
       "version_major": 2,
       "version_minor": 0
      },
      "text/plain": [
       "  0%|          | 0/3 [00:00<?, ?it/s]"
      ]
     },
     "metadata": {},
     "output_type": "display_data"
    },
    {
     "name": "stdout",
     "output_type": "stream",
     "text": [
      "Saved new Weights\n",
      "train loss: 1.746770, train accuracy: 34.022310, dev loss: 1.694346, accuracy: 37.53\n",
      "----------\n",
      "Epochs31/100, current lr: 0.0003000000000000005\n"
     ]
    },
    {
     "data": {
      "application/vnd.jupyter.widget-view+json": {
       "model_id": "52be2dda645b4874943a32e409f3184d",
       "version_major": 2,
       "version_minor": 0
      },
      "text/plain": [
       "  0%|          | 0/12 [00:00<?, ?it/s]"
      ]
     },
     "metadata": {},
     "output_type": "display_data"
    },
    {
     "data": {
      "application/vnd.jupyter.widget-view+json": {
       "model_id": "9b936f8948ad44018f48e75ada675a03",
       "version_major": 2,
       "version_minor": 0
      },
      "text/plain": [
       "  0%|          | 0/3 [00:00<?, ?it/s]"
      ]
     },
     "metadata": {},
     "output_type": "display_data"
    },
    {
     "name": "stdout",
     "output_type": "stream",
     "text": [
      "train loss: 1.769508, train accuracy: 33.431759, dev loss: 1.785824, accuracy: 32.02\n",
      "----------\n",
      "Epochs32/100, current lr: 0.0002714480406590552\n"
     ]
    },
    {
     "data": {
      "application/vnd.jupyter.widget-view+json": {
       "model_id": "0703f6624bfb4b0ba0e517901c716426",
       "version_major": 2,
       "version_minor": 0
      },
      "text/plain": [
       "  0%|          | 0/12 [00:00<?, ?it/s]"
      ]
     },
     "metadata": {},
     "output_type": "display_data"
    },
    {
     "data": {
      "application/vnd.jupyter.widget-view+json": {
       "model_id": "56601410320a4e1d81225331337e3b03",
       "version_major": 2,
       "version_minor": 0
      },
      "text/plain": [
       "  0%|          | 0/3 [00:00<?, ?it/s]"
      ]
     },
     "metadata": {},
     "output_type": "display_data"
    },
    {
     "name": "stdout",
     "output_type": "stream",
     "text": [
      "train loss: 1.763731, train accuracy: 33.070866, dev loss: 1.750477, accuracy: 33.60\n",
      "----------\n",
      "Epochs33/100, current lr: 0.00019669804065905507\n"
     ]
    },
    {
     "data": {
      "application/vnd.jupyter.widget-view+json": {
       "model_id": "b55adf3f016d49708934e08491366453",
       "version_major": 2,
       "version_minor": 0
      },
      "text/plain": [
       "  0%|          | 0/12 [00:00<?, ?it/s]"
      ]
     },
     "metadata": {},
     "output_type": "display_data"
    },
    {
     "data": {
      "application/vnd.jupyter.widget-view+json": {
       "model_id": "60daf602b2e34d2891c2d01c90acb304",
       "version_major": 2,
       "version_minor": 0
      },
      "text/plain": [
       "  0%|          | 0/3 [00:00<?, ?it/s]"
      ]
     },
     "metadata": {},
     "output_type": "display_data"
    },
    {
     "name": "stdout",
     "output_type": "stream",
     "text": [
      "train loss: 1.745794, train accuracy: 35.334646, dev loss: 1.725323, accuracy: 36.48\n",
      "----------\n",
      "Epochs34/100, current lr: 0.00010430195934094565\n"
     ]
    },
    {
     "data": {
      "application/vnd.jupyter.widget-view+json": {
       "model_id": "7a09d2d3b6ca426cae490e826e44f84e",
       "version_major": 2,
       "version_minor": 0
      },
      "text/plain": [
       "  0%|          | 0/12 [00:00<?, ?it/s]"
      ]
     },
     "metadata": {},
     "output_type": "display_data"
    },
    {
     "data": {
      "application/vnd.jupyter.widget-view+json": {
       "model_id": "d54db4db32d249d8ba99d81fc1b76218",
       "version_major": 2,
       "version_minor": 0
      },
      "text/plain": [
       "  0%|          | 0/3 [00:00<?, ?it/s]"
      ]
     },
     "metadata": {},
     "output_type": "display_data"
    },
    {
     "name": "stdout",
     "output_type": "stream",
     "text": [
      "Saved new Weights\n",
      "train loss: 1.729681, train accuracy: 35.990814, dev loss: 1.659343, accuracy: 39.90\n",
      "----------\n",
      "Epochs35/100, current lr: 2.955195934094549e-05\n"
     ]
    },
    {
     "data": {
      "application/vnd.jupyter.widget-view+json": {
       "model_id": "81e70b8b7ff7485a8b40e00b3e81558c",
       "version_major": 2,
       "version_minor": 0
      },
      "text/plain": [
       "  0%|          | 0/12 [00:00<?, ?it/s]"
      ]
     },
     "metadata": {},
     "output_type": "display_data"
    },
    {
     "data": {
      "application/vnd.jupyter.widget-view+json": {
       "model_id": "800cad27838b4d67a983a1e7caef3ebf",
       "version_major": 2,
       "version_minor": 0
      },
      "text/plain": [
       "  0%|          | 0/3 [00:00<?, ?it/s]"
      ]
     },
     "metadata": {},
     "output_type": "display_data"
    },
    {
     "name": "stdout",
     "output_type": "stream",
     "text": [
      "Saved new Weights\n",
      "train loss: 1.693245, train accuracy: 37.729659, dev loss: 1.653558, accuracy: 40.94\n",
      "----------\n",
      "Epochs36/100, current lr: 1e-06\n"
     ]
    },
    {
     "data": {
      "application/vnd.jupyter.widget-view+json": {
       "model_id": "a750e7d21a3148ca8aa9ebbc46b3fc8b",
       "version_major": 2,
       "version_minor": 0
      },
      "text/plain": [
       "  0%|          | 0/12 [00:00<?, ?it/s]"
      ]
     },
     "metadata": {},
     "output_type": "display_data"
    },
    {
     "data": {
      "application/vnd.jupyter.widget-view+json": {
       "model_id": "cb3b151457b341a89d97c299aacb7d83",
       "version_major": 2,
       "version_minor": 0
      },
      "text/plain": [
       "  0%|          | 0/3 [00:00<?, ?it/s]"
      ]
     },
     "metadata": {},
     "output_type": "display_data"
    },
    {
     "name": "stdout",
     "output_type": "stream",
     "text": [
      "Saved new Weights\n",
      "train loss: 1.689621, train accuracy: 37.500000, dev loss: 1.652975, accuracy: 40.81\n",
      "----------\n",
      "Epochs37/100, current lr: 2.9551959340945353e-05\n"
     ]
    },
    {
     "data": {
      "application/vnd.jupyter.widget-view+json": {
       "model_id": "ec0f7d44bc0d4f77962ec0a992c1cb5f",
       "version_major": 2,
       "version_minor": 0
      },
      "text/plain": [
       "  0%|          | 0/12 [00:00<?, ?it/s]"
      ]
     },
     "metadata": {},
     "output_type": "display_data"
    },
    {
     "data": {
      "application/vnd.jupyter.widget-view+json": {
       "model_id": "bf78964286b34f20a78be102053e253b",
       "version_major": 2,
       "version_minor": 0
      },
      "text/plain": [
       "  0%|          | 0/3 [00:00<?, ?it/s]"
      ]
     },
     "metadata": {},
     "output_type": "display_data"
    },
    {
     "name": "stdout",
     "output_type": "stream",
     "text": [
      "Saved new Weights\n",
      "train loss: 1.695885, train accuracy: 36.811024, dev loss: 1.647865, accuracy: 40.94\n",
      "----------\n",
      "Epochs38/100, current lr: 0.00010430195934094545\n"
     ]
    },
    {
     "data": {
      "application/vnd.jupyter.widget-view+json": {
       "model_id": "a0de96d10a934caf82a231b18750a502",
       "version_major": 2,
       "version_minor": 0
      },
      "text/plain": [
       "  0%|          | 0/12 [00:00<?, ?it/s]"
      ]
     },
     "metadata": {},
     "output_type": "display_data"
    },
    {
     "data": {
      "application/vnd.jupyter.widget-view+json": {
       "model_id": "93d39c36ec7c487f84091450bcb8f3bc",
       "version_major": 2,
       "version_minor": 0
      },
      "text/plain": [
       "  0%|          | 0/3 [00:00<?, ?it/s]"
      ]
     },
     "metadata": {},
     "output_type": "display_data"
    },
    {
     "name": "stdout",
     "output_type": "stream",
     "text": [
      "train loss: 1.681841, train accuracy: 37.729659, dev loss: 1.648840, accuracy: 40.16\n",
      "----------\n",
      "Epochs39/100, current lr: 0.00019669804065905493\n"
     ]
    },
    {
     "data": {
      "application/vnd.jupyter.widget-view+json": {
       "model_id": "d0fa45e44fb04798bb94798e4745de8e",
       "version_major": 2,
       "version_minor": 0
      },
      "text/plain": [
       "  0%|          | 0/12 [00:00<?, ?it/s]"
      ]
     },
     "metadata": {},
     "output_type": "display_data"
    },
    {
     "data": {
      "application/vnd.jupyter.widget-view+json": {
       "model_id": "037ea5f581be4a0c9547cc3a47105770",
       "version_major": 2,
       "version_minor": 0
      },
      "text/plain": [
       "  0%|          | 0/3 [00:00<?, ?it/s]"
      ]
     },
     "metadata": {},
     "output_type": "display_data"
    },
    {
     "name": "stdout",
     "output_type": "stream",
     "text": [
      "Saved new Weights\n",
      "train loss: 1.674689, train accuracy: 38.123360, dev loss: 1.632444, accuracy: 42.39\n",
      "----------\n",
      "Epochs40/100, current lr: 0.0002714480406590552\n"
     ]
    },
    {
     "data": {
      "application/vnd.jupyter.widget-view+json": {
       "model_id": "bd5392e3ed6a4396b9a5b3c672d51ad0",
       "version_major": 2,
       "version_minor": 0
      },
      "text/plain": [
       "  0%|          | 0/12 [00:00<?, ?it/s]"
      ]
     },
     "metadata": {},
     "output_type": "display_data"
    },
    {
     "data": {
      "application/vnd.jupyter.widget-view+json": {
       "model_id": "5f3b05a9527546c386bd0ab8f9d09403",
       "version_major": 2,
       "version_minor": 0
      },
      "text/plain": [
       "  0%|          | 0/3 [00:00<?, ?it/s]"
      ]
     },
     "metadata": {},
     "output_type": "display_data"
    },
    {
     "name": "stdout",
     "output_type": "stream",
     "text": [
      "train loss: 1.692762, train accuracy: 37.073491, dev loss: 1.653258, accuracy: 41.08\n",
      "----------\n",
      "Epochs41/100, current lr: 0.00030000000000000073\n"
     ]
    },
    {
     "data": {
      "application/vnd.jupyter.widget-view+json": {
       "model_id": "6e3ccc2c52cf4a43b08b159db56f2f07",
       "version_major": 2,
       "version_minor": 0
      },
      "text/plain": [
       "  0%|          | 0/12 [00:00<?, ?it/s]"
      ]
     },
     "metadata": {},
     "output_type": "display_data"
    },
    {
     "data": {
      "application/vnd.jupyter.widget-view+json": {
       "model_id": "48cab8d25f784efaa351a75f843daa27",
       "version_major": 2,
       "version_minor": 0
      },
      "text/plain": [
       "  0%|          | 0/3 [00:00<?, ?it/s]"
      ]
     },
     "metadata": {},
     "output_type": "display_data"
    },
    {
     "name": "stdout",
     "output_type": "stream",
     "text": [
      "Saved new Weights\n",
      "train loss: 1.685977, train accuracy: 37.860892, dev loss: 1.629604, accuracy: 41.47\n",
      "----------\n",
      "Epochs42/100, current lr: 0.0002714480406590557\n"
     ]
    },
    {
     "data": {
      "application/vnd.jupyter.widget-view+json": {
       "model_id": "f502256cf4dc42bfa580249c6ced4227",
       "version_major": 2,
       "version_minor": 0
      },
      "text/plain": [
       "  0%|          | 0/12 [00:00<?, ?it/s]"
      ]
     },
     "metadata": {},
     "output_type": "display_data"
    },
    {
     "data": {
      "application/vnd.jupyter.widget-view+json": {
       "model_id": "def650f8389f40349ecf5625d2aaa492",
       "version_major": 2,
       "version_minor": 0
      },
      "text/plain": [
       "  0%|          | 0/3 [00:00<?, ?it/s]"
      ]
     },
     "metadata": {},
     "output_type": "display_data"
    },
    {
     "name": "stdout",
     "output_type": "stream",
     "text": [
      "Saved new Weights\n",
      "train loss: 1.657831, train accuracy: 39.238845, dev loss: 1.607589, accuracy: 41.99\n",
      "----------\n",
      "Epochs43/100, current lr: 0.00019669804065905523\n"
     ]
    },
    {
     "data": {
      "application/vnd.jupyter.widget-view+json": {
       "model_id": "3dfb839233b342e09dbf8490a47ae917",
       "version_major": 2,
       "version_minor": 0
      },
      "text/plain": [
       "  0%|          | 0/12 [00:00<?, ?it/s]"
      ]
     },
     "metadata": {},
     "output_type": "display_data"
    },
    {
     "data": {
      "application/vnd.jupyter.widget-view+json": {
       "model_id": "9862e59296f7445ca96074e4c635486c",
       "version_major": 2,
       "version_minor": 0
      },
      "text/plain": [
       "  0%|          | 0/3 [00:00<?, ?it/s]"
      ]
     },
     "metadata": {},
     "output_type": "display_data"
    },
    {
     "name": "stdout",
     "output_type": "stream",
     "text": [
      "train loss: 1.643421, train accuracy: 40.321522, dev loss: 1.609795, accuracy: 39.90\n",
      "----------\n",
      "Epochs44/100, current lr: 0.00010430195934094576\n"
     ]
    },
    {
     "data": {
      "application/vnd.jupyter.widget-view+json": {
       "model_id": "95b459ce66504e97be520de0c9935718",
       "version_major": 2,
       "version_minor": 0
      },
      "text/plain": [
       "  0%|          | 0/12 [00:00<?, ?it/s]"
      ]
     },
     "metadata": {},
     "output_type": "display_data"
    },
    {
     "data": {
      "application/vnd.jupyter.widget-view+json": {
       "model_id": "58af55168d0e4aee9ddd891f107157bb",
       "version_major": 2,
       "version_minor": 0
      },
      "text/plain": [
       "  0%|          | 0/3 [00:00<?, ?it/s]"
      ]
     },
     "metadata": {},
     "output_type": "display_data"
    },
    {
     "name": "stdout",
     "output_type": "stream",
     "text": [
      "Saved new Weights\n",
      "train loss: 1.639859, train accuracy: 40.485564, dev loss: 1.567070, accuracy: 43.96\n",
      "----------\n",
      "Epochs45/100, current lr: 2.9551959340945837e-05\n"
     ]
    },
    {
     "data": {
      "application/vnd.jupyter.widget-view+json": {
       "model_id": "506b32eae221495c81dcd7c8977177a2",
       "version_major": 2,
       "version_minor": 0
      },
      "text/plain": [
       "  0%|          | 0/12 [00:00<?, ?it/s]"
      ]
     },
     "metadata": {},
     "output_type": "display_data"
    },
    {
     "data": {
      "application/vnd.jupyter.widget-view+json": {
       "model_id": "e2cb1de2ca1e4358b118d8eb7832bc0a",
       "version_major": 2,
       "version_minor": 0
      },
      "text/plain": [
       "  0%|          | 0/3 [00:00<?, ?it/s]"
      ]
     },
     "metadata": {},
     "output_type": "display_data"
    },
    {
     "name": "stdout",
     "output_type": "stream",
     "text": [
      "train loss: 1.610471, train accuracy: 42.618110, dev loss: 1.571710, accuracy: 43.70\n",
      "----------\n",
      "Epochs46/100, current lr: 1e-06\n"
     ]
    },
    {
     "data": {
      "application/vnd.jupyter.widget-view+json": {
       "model_id": "837a7f5fa3dc467da6d9a5b69b5365d6",
       "version_major": 2,
       "version_minor": 0
      },
      "text/plain": [
       "  0%|          | 0/12 [00:00<?, ?it/s]"
      ]
     },
     "metadata": {},
     "output_type": "display_data"
    },
    {
     "data": {
      "application/vnd.jupyter.widget-view+json": {
       "model_id": "3fe230ba7a01425894e78cd6dba82270",
       "version_major": 2,
       "version_minor": 0
      },
      "text/plain": [
       "  0%|          | 0/3 [00:00<?, ?it/s]"
      ]
     },
     "metadata": {},
     "output_type": "display_data"
    },
    {
     "name": "stdout",
     "output_type": "stream",
     "text": [
      "train loss: 1.609894, train accuracy: 41.666667, dev loss: 1.569979, accuracy: 44.23\n",
      "----------\n",
      "Epochs47/100, current lr: 2.9551959340945353e-05\n"
     ]
    },
    {
     "data": {
      "application/vnd.jupyter.widget-view+json": {
       "model_id": "20a941fb14a24a5ca8627362b6171bb5",
       "version_major": 2,
       "version_minor": 0
      },
      "text/plain": [
       "  0%|          | 0/12 [00:00<?, ?it/s]"
      ]
     },
     "metadata": {},
     "output_type": "display_data"
    },
    {
     "data": {
      "application/vnd.jupyter.widget-view+json": {
       "model_id": "24a1ba47718747898bc7f8d398a1abc4",
       "version_major": 2,
       "version_minor": 0
      },
      "text/plain": [
       "  0%|          | 0/3 [00:00<?, ?it/s]"
      ]
     },
     "metadata": {},
     "output_type": "display_data"
    },
    {
     "name": "stdout",
     "output_type": "stream",
     "text": [
      "Saved new Weights\n",
      "train loss: 1.602892, train accuracy: 41.601050, dev loss: 1.561702, accuracy: 44.88\n",
      "----------\n",
      "Epochs48/100, current lr: 0.00010430195934094605\n"
     ]
    },
    {
     "data": {
      "application/vnd.jupyter.widget-view+json": {
       "model_id": "3f0698f6138648ecbc94c408d9671273",
       "version_major": 2,
       "version_minor": 0
      },
      "text/plain": [
       "  0%|          | 0/12 [00:00<?, ?it/s]"
      ]
     },
     "metadata": {},
     "output_type": "display_data"
    },
    {
     "data": {
      "application/vnd.jupyter.widget-view+json": {
       "model_id": "1cd8f19b3da542e6a05a6fb6232282e0",
       "version_major": 2,
       "version_minor": 0
      },
      "text/plain": [
       "  0%|          | 0/3 [00:00<?, ?it/s]"
      ]
     },
     "metadata": {},
     "output_type": "display_data"
    },
    {
     "name": "stdout",
     "output_type": "stream",
     "text": [
      "train loss: 1.600209, train accuracy: 42.913386, dev loss: 1.575456, accuracy: 43.31\n",
      "----------\n",
      "Epochs49/100, current lr: 0.00019669804065905515\n"
     ]
    },
    {
     "data": {
      "application/vnd.jupyter.widget-view+json": {
       "model_id": "73d21fd917554b718fc1332b9c7aed77",
       "version_major": 2,
       "version_minor": 0
      },
      "text/plain": [
       "  0%|          | 0/12 [00:00<?, ?it/s]"
      ]
     },
     "metadata": {},
     "output_type": "display_data"
    },
    {
     "data": {
      "application/vnd.jupyter.widget-view+json": {
       "model_id": "a720e59b5662432f8e3f52f310320c64",
       "version_major": 2,
       "version_minor": 0
      },
      "text/plain": [
       "  0%|          | 0/3 [00:00<?, ?it/s]"
      ]
     },
     "metadata": {},
     "output_type": "display_data"
    },
    {
     "name": "stdout",
     "output_type": "stream",
     "text": [
      "Saved new Weights\n",
      "train loss: 1.589455, train accuracy: 41.765092, dev loss: 1.540255, accuracy: 46.06\n",
      "----------\n",
      "Epochs50/100, current lr: 0.0002714480406590552\n"
     ]
    },
    {
     "data": {
      "application/vnd.jupyter.widget-view+json": {
       "model_id": "2c7f1dd1507d4e3d97982b13584f6742",
       "version_major": 2,
       "version_minor": 0
      },
      "text/plain": [
       "  0%|          | 0/12 [00:00<?, ?it/s]"
      ]
     },
     "metadata": {},
     "output_type": "display_data"
    },
    {
     "data": {
      "application/vnd.jupyter.widget-view+json": {
       "model_id": "354c3463d7404b01a3e232a1ae63322d",
       "version_major": 2,
       "version_minor": 0
      },
      "text/plain": [
       "  0%|          | 0/3 [00:00<?, ?it/s]"
      ]
     },
     "metadata": {},
     "output_type": "display_data"
    },
    {
     "name": "stdout",
     "output_type": "stream",
     "text": [
      "train loss: 1.608626, train accuracy: 41.896325, dev loss: 1.547597, accuracy: 45.67\n",
      "----------\n",
      "Epochs51/100, current lr: 0.00030000000000000106\n"
     ]
    },
    {
     "data": {
      "application/vnd.jupyter.widget-view+json": {
       "model_id": "697f93e9ff414e13ad960bd098153dd3",
       "version_major": 2,
       "version_minor": 0
      },
      "text/plain": [
       "  0%|          | 0/12 [00:00<?, ?it/s]"
      ]
     },
     "metadata": {},
     "output_type": "display_data"
    },
    {
     "data": {
      "application/vnd.jupyter.widget-view+json": {
       "model_id": "d9bf0baf1be746d8ad55da3d2c28a1b7",
       "version_major": 2,
       "version_minor": 0
      },
      "text/plain": [
       "  0%|          | 0/3 [00:00<?, ?it/s]"
      ]
     },
     "metadata": {},
     "output_type": "display_data"
    },
    {
     "name": "stdout",
     "output_type": "stream",
     "text": [
      "Saved new Weights\n",
      "train loss: 1.590526, train accuracy: 41.633858, dev loss: 1.533275, accuracy: 45.67\n",
      "----------\n",
      "Epochs52/100, current lr: 0.000271448040659056\n"
     ]
    },
    {
     "data": {
      "application/vnd.jupyter.widget-view+json": {
       "model_id": "9ab82b48cf094629812f0c539b86870d",
       "version_major": 2,
       "version_minor": 0
      },
      "text/plain": [
       "  0%|          | 0/12 [00:00<?, ?it/s]"
      ]
     },
     "metadata": {},
     "output_type": "display_data"
    },
    {
     "data": {
      "application/vnd.jupyter.widget-view+json": {
       "model_id": "eeb25b967c5a4e5a87ce9336b5d7044f",
       "version_major": 2,
       "version_minor": 0
      },
      "text/plain": [
       "  0%|          | 0/3 [00:00<?, ?it/s]"
      ]
     },
     "metadata": {},
     "output_type": "display_data"
    },
    {
     "name": "stdout",
     "output_type": "stream",
     "text": [
      "train loss: 1.596174, train accuracy: 42.388451, dev loss: 1.549604, accuracy: 43.57\n",
      "----------\n",
      "Epochs53/100, current lr: 0.00019669804065905547\n"
     ]
    },
    {
     "data": {
      "application/vnd.jupyter.widget-view+json": {
       "model_id": "01ac53830a6b41b2b0ccca11eedf6bb5",
       "version_major": 2,
       "version_minor": 0
      },
      "text/plain": [
       "  0%|          | 0/12 [00:00<?, ?it/s]"
      ]
     },
     "metadata": {},
     "output_type": "display_data"
    },
    {
     "data": {
      "application/vnd.jupyter.widget-view+json": {
       "model_id": "14e426ba4d424213a75046fc2bf64bfd",
       "version_major": 2,
       "version_minor": 0
      },
      "text/plain": [
       "  0%|          | 0/3 [00:00<?, ?it/s]"
      ]
     },
     "metadata": {},
     "output_type": "display_data"
    },
    {
     "name": "stdout",
     "output_type": "stream",
     "text": [
      "Saved new Weights\n",
      "train loss: 1.589198, train accuracy: 42.486877, dev loss: 1.531404, accuracy: 46.19\n",
      "----------\n",
      "Epochs54/100, current lr: 0.00010430195934094539\n"
     ]
    },
    {
     "data": {
      "application/vnd.jupyter.widget-view+json": {
       "model_id": "ff83ff6d68b3423f96e39707109651c4",
       "version_major": 2,
       "version_minor": 0
      },
      "text/plain": [
       "  0%|          | 0/12 [00:00<?, ?it/s]"
      ]
     },
     "metadata": {},
     "output_type": "display_data"
    },
    {
     "data": {
      "application/vnd.jupyter.widget-view+json": {
       "model_id": "8b5930f0f895452a8de7e19cc1eb7e69",
       "version_major": 2,
       "version_minor": 0
      },
      "text/plain": [
       "  0%|          | 0/3 [00:00<?, ?it/s]"
      ]
     },
     "metadata": {},
     "output_type": "display_data"
    },
    {
     "name": "stdout",
     "output_type": "stream",
     "text": [
      "Saved new Weights\n",
      "train loss: 1.564252, train accuracy: 44.619423, dev loss: 1.499947, accuracy: 46.59\n",
      "----------\n",
      "Epochs55/100, current lr: 2.955195934094557e-05\n"
     ]
    },
    {
     "data": {
      "application/vnd.jupyter.widget-view+json": {
       "model_id": "5e8de043dc694b5ab937a363dc94f21a",
       "version_major": 2,
       "version_minor": 0
      },
      "text/plain": [
       "  0%|          | 0/12 [00:00<?, ?it/s]"
      ]
     },
     "metadata": {},
     "output_type": "display_data"
    },
    {
     "data": {
      "application/vnd.jupyter.widget-view+json": {
       "model_id": "1a8d2d7bd2024c7ab9dfd3a61d913e67",
       "version_major": 2,
       "version_minor": 0
      },
      "text/plain": [
       "  0%|          | 0/3 [00:00<?, ?it/s]"
      ]
     },
     "metadata": {},
     "output_type": "display_data"
    },
    {
     "name": "stdout",
     "output_type": "stream",
     "text": [
      "train loss: 1.547354, train accuracy: 44.225722, dev loss: 1.500653, accuracy: 45.54\n",
      "----------\n",
      "Epochs56/100, current lr: 1e-06\n"
     ]
    },
    {
     "data": {
      "application/vnd.jupyter.widget-view+json": {
       "model_id": "daa8be05108a484cb497a6d799356262",
       "version_major": 2,
       "version_minor": 0
      },
      "text/plain": [
       "  0%|          | 0/12 [00:00<?, ?it/s]"
      ]
     },
     "metadata": {},
     "output_type": "display_data"
    },
    {
     "data": {
      "application/vnd.jupyter.widget-view+json": {
       "model_id": "2955624703af4b95a876e18fa82fdd32",
       "version_major": 2,
       "version_minor": 0
      },
      "text/plain": [
       "  0%|          | 0/3 [00:00<?, ?it/s]"
      ]
     },
     "metadata": {},
     "output_type": "display_data"
    },
    {
     "name": "stdout",
     "output_type": "stream",
     "text": [
      "Saved new Weights\n",
      "train loss: 1.537624, train accuracy: 44.980315, dev loss: 1.499769, accuracy: 45.93\n",
      "----------\n",
      "Epochs57/100, current lr: 2.9551959340945353e-05\n"
     ]
    },
    {
     "data": {
      "application/vnd.jupyter.widget-view+json": {
       "model_id": "af2b2cb01f7645c1b8d7b9ceb8fe8686",
       "version_major": 2,
       "version_minor": 0
      },
      "text/plain": [
       "  0%|          | 0/12 [00:00<?, ?it/s]"
      ]
     },
     "metadata": {},
     "output_type": "display_data"
    },
    {
     "data": {
      "application/vnd.jupyter.widget-view+json": {
       "model_id": "fabb899e05594be7849aed21ff371094",
       "version_major": 2,
       "version_minor": 0
      },
      "text/plain": [
       "  0%|          | 0/3 [00:00<?, ?it/s]"
      ]
     },
     "metadata": {},
     "output_type": "display_data"
    },
    {
     "name": "stdout",
     "output_type": "stream",
     "text": [
      "Saved new Weights\n",
      "train loss: 1.536515, train accuracy: 45.144357, dev loss: 1.495100, accuracy: 46.85\n",
      "----------\n",
      "Epochs58/100, current lr: 0.00010430195934094507\n"
     ]
    },
    {
     "data": {
      "application/vnd.jupyter.widget-view+json": {
       "model_id": "c669f86f366e45108fcdd1a548ee8507",
       "version_major": 2,
       "version_minor": 0
      },
      "text/plain": [
       "  0%|          | 0/12 [00:00<?, ?it/s]"
      ]
     },
     "metadata": {},
     "output_type": "display_data"
    },
    {
     "data": {
      "application/vnd.jupyter.widget-view+json": {
       "model_id": "37fc80ccacb844e1aa0ed49c59728a8d",
       "version_major": 2,
       "version_minor": 0
      },
      "text/plain": [
       "  0%|          | 0/3 [00:00<?, ?it/s]"
      ]
     },
     "metadata": {},
     "output_type": "display_data"
    },
    {
     "name": "stdout",
     "output_type": "stream",
     "text": [
      "train loss: 1.546606, train accuracy: 44.816273, dev loss: 1.501773, accuracy: 47.11\n",
      "----------\n",
      "Epochs59/100, current lr: 0.00019669804065905523\n"
     ]
    },
    {
     "data": {
      "application/vnd.jupyter.widget-view+json": {
       "model_id": "797c6fdd94f64cb38f6f6607504aaf79",
       "version_major": 2,
       "version_minor": 0
      },
      "text/plain": [
       "  0%|          | 0/12 [00:00<?, ?it/s]"
      ]
     },
     "metadata": {},
     "output_type": "display_data"
    },
    {
     "data": {
      "application/vnd.jupyter.widget-view+json": {
       "model_id": "5f880919383b4c6bbabcb19b31bca454",
       "version_major": 2,
       "version_minor": 0
      },
      "text/plain": [
       "  0%|          | 0/3 [00:00<?, ?it/s]"
      ]
     },
     "metadata": {},
     "output_type": "display_data"
    },
    {
     "name": "stdout",
     "output_type": "stream",
     "text": [
      "train loss: 1.535318, train accuracy: 44.652231, dev loss: 1.516509, accuracy: 46.06\n",
      "----------\n",
      "Epochs60/100, current lr: 0.0002714480406590553\n"
     ]
    },
    {
     "data": {
      "application/vnd.jupyter.widget-view+json": {
       "model_id": "a55a81b396ba41ecb30bab3719582de6",
       "version_major": 2,
       "version_minor": 0
      },
      "text/plain": [
       "  0%|          | 0/12 [00:00<?, ?it/s]"
      ]
     },
     "metadata": {},
     "output_type": "display_data"
    },
    {
     "data": {
      "application/vnd.jupyter.widget-view+json": {
       "model_id": "39738f6c0be045e692547ed68b84f05a",
       "version_major": 2,
       "version_minor": 0
      },
      "text/plain": [
       "  0%|          | 0/3 [00:00<?, ?it/s]"
      ]
     },
     "metadata": {},
     "output_type": "display_data"
    },
    {
     "name": "stdout",
     "output_type": "stream",
     "text": [
      "train loss: 1.549532, train accuracy: 44.422572, dev loss: 1.551362, accuracy: 43.44\n",
      "----------\n",
      "Epochs61/100, current lr: 0.0003000000000000013\n"
     ]
    },
    {
     "data": {
      "application/vnd.jupyter.widget-view+json": {
       "model_id": "22d9bc0f42e840898278b14ee735ed04",
       "version_major": 2,
       "version_minor": 0
      },
      "text/plain": [
       "  0%|          | 0/12 [00:00<?, ?it/s]"
      ]
     },
     "metadata": {},
     "output_type": "display_data"
    },
    {
     "data": {
      "application/vnd.jupyter.widget-view+json": {
       "model_id": "080d54c5619a42dc952c0df2d04db7b1",
       "version_major": 2,
       "version_minor": 0
      },
      "text/plain": [
       "  0%|          | 0/3 [00:00<?, ?it/s]"
      ]
     },
     "metadata": {},
     "output_type": "display_data"
    },
    {
     "name": "stdout",
     "output_type": "stream",
     "text": [
      "train loss: 1.554382, train accuracy: 45.603675, dev loss: 1.500295, accuracy: 46.06\n",
      "----------\n",
      "Epochs62/100, current lr: 0.0002714480406590556\n"
     ]
    },
    {
     "data": {
      "application/vnd.jupyter.widget-view+json": {
       "model_id": "40bcbb5b65e64233a151d06815269a57",
       "version_major": 2,
       "version_minor": 0
      },
      "text/plain": [
       "  0%|          | 0/12 [00:00<?, ?it/s]"
      ]
     },
     "metadata": {},
     "output_type": "display_data"
    },
    {
     "data": {
      "application/vnd.jupyter.widget-view+json": {
       "model_id": "9ea22208a055418591c7f6dbd2cc846b",
       "version_major": 2,
       "version_minor": 0
      },
      "text/plain": [
       "  0%|          | 0/3 [00:00<?, ?it/s]"
      ]
     },
     "metadata": {},
     "output_type": "display_data"
    },
    {
     "name": "stdout",
     "output_type": "stream",
     "text": [
      "Saved new Weights\n",
      "train loss: 1.531544, train accuracy: 44.291339, dev loss: 1.483939, accuracy: 46.98\n",
      "----------\n",
      "Epochs63/100, current lr: 0.00019669804065905566\n"
     ]
    },
    {
     "data": {
      "application/vnd.jupyter.widget-view+json": {
       "model_id": "3cc39bac14854887967fd5aa4313fe27",
       "version_major": 2,
       "version_minor": 0
      },
      "text/plain": [
       "  0%|          | 0/12 [00:00<?, ?it/s]"
      ]
     },
     "metadata": {},
     "output_type": "display_data"
    },
    {
     "data": {
      "application/vnd.jupyter.widget-view+json": {
       "model_id": "ccdfb91b9bd54309b3d074cdb12f99f5",
       "version_major": 2,
       "version_minor": 0
      },
      "text/plain": [
       "  0%|          | 0/3 [00:00<?, ?it/s]"
      ]
     },
     "metadata": {},
     "output_type": "display_data"
    },
    {
     "name": "stdout",
     "output_type": "stream",
     "text": [
      "Saved new Weights\n",
      "train loss: 1.528152, train accuracy: 45.045932, dev loss: 1.458972, accuracy: 48.56\n",
      "----------\n",
      "Epochs64/100, current lr: 0.00010430195934094551\n"
     ]
    },
    {
     "data": {
      "application/vnd.jupyter.widget-view+json": {
       "model_id": "e792ef89bcf14ee7a0b079a57a88074f",
       "version_major": 2,
       "version_minor": 0
      },
      "text/plain": [
       "  0%|          | 0/12 [00:00<?, ?it/s]"
      ]
     },
     "metadata": {},
     "output_type": "display_data"
    },
    {
     "data": {
      "application/vnd.jupyter.widget-view+json": {
       "model_id": "c32dcac44c664c70bdaaf23e64f43147",
       "version_major": 2,
       "version_minor": 0
      },
      "text/plain": [
       "  0%|          | 0/3 [00:00<?, ?it/s]"
      ]
     },
     "metadata": {},
     "output_type": "display_data"
    },
    {
     "name": "stdout",
     "output_type": "stream",
     "text": [
      "train loss: 1.518266, train accuracy: 45.997375, dev loss: 1.465248, accuracy: 48.03\n",
      "----------\n",
      "Epochs65/100, current lr: 2.955195934094563e-05\n"
     ]
    },
    {
     "data": {
      "application/vnd.jupyter.widget-view+json": {
       "model_id": "4ad0eeef55e9414581ecfd9c0d2c95ff",
       "version_major": 2,
       "version_minor": 0
      },
      "text/plain": [
       "  0%|          | 0/12 [00:00<?, ?it/s]"
      ]
     },
     "metadata": {},
     "output_type": "display_data"
    },
    {
     "data": {
      "application/vnd.jupyter.widget-view+json": {
       "model_id": "a75d63b3d85a43bdad71077f91c61052",
       "version_major": 2,
       "version_minor": 0
      },
      "text/plain": [
       "  0%|          | 0/3 [00:00<?, ?it/s]"
      ]
     },
     "metadata": {},
     "output_type": "display_data"
    },
    {
     "name": "stdout",
     "output_type": "stream",
     "text": [
      "Saved new Weights\n",
      "train loss: 1.506395, train accuracy: 46.292651, dev loss: 1.452913, accuracy: 48.56\n",
      "----------\n",
      "Epochs66/100, current lr: 1e-06\n"
     ]
    },
    {
     "data": {
      "application/vnd.jupyter.widget-view+json": {
       "model_id": "f0a362b8a40247198bbd89c22780fa52",
       "version_major": 2,
       "version_minor": 0
      },
      "text/plain": [
       "  0%|          | 0/12 [00:00<?, ?it/s]"
      ]
     },
     "metadata": {},
     "output_type": "display_data"
    },
    {
     "data": {
      "application/vnd.jupyter.widget-view+json": {
       "model_id": "169e76cd09eb4e979db66b41a0ebdb03",
       "version_major": 2,
       "version_minor": 0
      },
      "text/plain": [
       "  0%|          | 0/3 [00:00<?, ?it/s]"
      ]
     },
     "metadata": {},
     "output_type": "display_data"
    },
    {
     "name": "stdout",
     "output_type": "stream",
     "text": [
      "Saved new Weights\n",
      "train loss: 1.493273, train accuracy: 46.751969, dev loss: 1.452792, accuracy: 48.56\n",
      "----------\n",
      "Epochs67/100, current lr: 2.9551959340945353e-05\n"
     ]
    },
    {
     "data": {
      "application/vnd.jupyter.widget-view+json": {
       "model_id": "52b33474fc4e432a8d8a96bb9956252f",
       "version_major": 2,
       "version_minor": 0
      },
      "text/plain": [
       "  0%|          | 0/12 [00:00<?, ?it/s]"
      ]
     },
     "metadata": {},
     "output_type": "display_data"
    },
    {
     "data": {
      "application/vnd.jupyter.widget-view+json": {
       "model_id": "cfff9a5efdd942b9a68b040d1dc7c86a",
       "version_major": 2,
       "version_minor": 0
      },
      "text/plain": [
       "  0%|          | 0/3 [00:00<?, ?it/s]"
      ]
     },
     "metadata": {},
     "output_type": "display_data"
    },
    {
     "name": "stdout",
     "output_type": "stream",
     "text": [
      "Saved new Weights\n",
      "train loss: 1.491907, train accuracy: 46.095801, dev loss: 1.450614, accuracy: 48.82\n",
      "----------\n",
      "Epochs68/100, current lr: 0.00010430195934094509\n"
     ]
    },
    {
     "data": {
      "application/vnd.jupyter.widget-view+json": {
       "model_id": "48d6b1e24d3547d1bd99cbebe7a8875d",
       "version_major": 2,
       "version_minor": 0
      },
      "text/plain": [
       "  0%|          | 0/12 [00:00<?, ?it/s]"
      ]
     },
     "metadata": {},
     "output_type": "display_data"
    },
    {
     "data": {
      "application/vnd.jupyter.widget-view+json": {
       "model_id": "05fe02972bb6407c9968e014be8b91ae",
       "version_major": 2,
       "version_minor": 0
      },
      "text/plain": [
       "  0%|          | 0/3 [00:00<?, ?it/s]"
      ]
     },
     "metadata": {},
     "output_type": "display_data"
    },
    {
     "name": "stdout",
     "output_type": "stream",
     "text": [
      "Saved new Weights\n",
      "train loss: 1.507685, train accuracy: 46.555118, dev loss: 1.446678, accuracy: 48.95\n",
      "----------\n",
      "Epochs69/100, current lr: 0.00019669804065905528\n"
     ]
    },
    {
     "data": {
      "application/vnd.jupyter.widget-view+json": {
       "model_id": "ff6bf600ed7444fba4fb7215020bd37e",
       "version_major": 2,
       "version_minor": 0
      },
      "text/plain": [
       "  0%|          | 0/12 [00:00<?, ?it/s]"
      ]
     },
     "metadata": {},
     "output_type": "display_data"
    },
    {
     "data": {
      "application/vnd.jupyter.widget-view+json": {
       "model_id": "39961d164789411c8496d5553a8d9567",
       "version_major": 2,
       "version_minor": 0
      },
      "text/plain": [
       "  0%|          | 0/3 [00:00<?, ?it/s]"
      ]
     },
     "metadata": {},
     "output_type": "display_data"
    },
    {
     "name": "stdout",
     "output_type": "stream",
     "text": [
      "train loss: 1.531453, train accuracy: 45.144357, dev loss: 1.463709, accuracy: 47.38\n",
      "----------\n",
      "Epochs70/100, current lr: 0.000271448040659056\n"
     ]
    },
    {
     "data": {
      "application/vnd.jupyter.widget-view+json": {
       "model_id": "035bddc84b4a4c6188a879fb95c7e0bb",
       "version_major": 2,
       "version_minor": 0
      },
      "text/plain": [
       "  0%|          | 0/12 [00:00<?, ?it/s]"
      ]
     },
     "metadata": {},
     "output_type": "display_data"
    },
    {
     "data": {
      "application/vnd.jupyter.widget-view+json": {
       "model_id": "fe80c0ea9a1c420f893993828f332f62",
       "version_major": 2,
       "version_minor": 0
      },
      "text/plain": [
       "  0%|          | 0/3 [00:00<?, ?it/s]"
      ]
     },
     "metadata": {},
     "output_type": "display_data"
    },
    {
     "name": "stdout",
     "output_type": "stream",
     "text": [
      "train loss: 1.495892, train accuracy: 46.653543, dev loss: 1.453942, accuracy: 48.56\n",
      "----------\n",
      "Epochs71/100, current lr: 0.00030000000000000133\n"
     ]
    },
    {
     "data": {
      "application/vnd.jupyter.widget-view+json": {
       "model_id": "2fa43101c7c3461d8fdf715c794e187d",
       "version_major": 2,
       "version_minor": 0
      },
      "text/plain": [
       "  0%|          | 0/12 [00:00<?, ?it/s]"
      ]
     },
     "metadata": {},
     "output_type": "display_data"
    },
    {
     "data": {
      "application/vnd.jupyter.widget-view+json": {
       "model_id": "797fbbaebe8448e1b78e9bb99a48073b",
       "version_major": 2,
       "version_minor": 0
      },
      "text/plain": [
       "  0%|          | 0/3 [00:00<?, ?it/s]"
      ]
     },
     "metadata": {},
     "output_type": "display_data"
    },
    {
     "name": "stdout",
     "output_type": "stream",
     "text": [
      "train loss: 1.505356, train accuracy: 45.406824, dev loss: 1.502132, accuracy: 45.28\n",
      "----------\n",
      "Epochs72/100, current lr: 0.0002714480406590557\n"
     ]
    },
    {
     "data": {
      "application/vnd.jupyter.widget-view+json": {
       "model_id": "ed1879d4609143c2bb476f1f717252cd",
       "version_major": 2,
       "version_minor": 0
      },
      "text/plain": [
       "  0%|          | 0/12 [00:00<?, ?it/s]"
      ]
     },
     "metadata": {},
     "output_type": "display_data"
    },
    {
     "data": {
      "application/vnd.jupyter.widget-view+json": {
       "model_id": "d31e2762003d4739af44638264ca12e8",
       "version_major": 2,
       "version_minor": 0
      },
      "text/plain": [
       "  0%|          | 0/3 [00:00<?, ?it/s]"
      ]
     },
     "metadata": {},
     "output_type": "display_data"
    },
    {
     "name": "stdout",
     "output_type": "stream",
     "text": [
      "train loss: 1.505523, train accuracy: 45.538058, dev loss: 1.481398, accuracy: 46.33\n",
      "----------\n",
      "Epochs73/100, current lr: 0.00019669804065905577\n"
     ]
    },
    {
     "data": {
      "application/vnd.jupyter.widget-view+json": {
       "model_id": "9deb6979347d471c92e63a97e9c4b1a1",
       "version_major": 2,
       "version_minor": 0
      },
      "text/plain": [
       "  0%|          | 0/12 [00:00<?, ?it/s]"
      ]
     },
     "metadata": {},
     "output_type": "display_data"
    },
    {
     "data": {
      "application/vnd.jupyter.widget-view+json": {
       "model_id": "be929c7c347e49c9a586379bca2cf8a6",
       "version_major": 2,
       "version_minor": 0
      },
      "text/plain": [
       "  0%|          | 0/3 [00:00<?, ?it/s]"
      ]
     },
     "metadata": {},
     "output_type": "display_data"
    },
    {
     "name": "stdout",
     "output_type": "stream",
     "text": [
      "Saved new Weights\n",
      "train loss: 1.479204, train accuracy: 47.309711, dev loss: 1.443879, accuracy: 49.48\n",
      "----------\n",
      "Epochs74/100, current lr: 0.00010430195934094657\n"
     ]
    },
    {
     "data": {
      "application/vnd.jupyter.widget-view+json": {
       "model_id": "91f3d2fee42a4b17840a907f84c7c911",
       "version_major": 2,
       "version_minor": 0
      },
      "text/plain": [
       "  0%|          | 0/12 [00:00<?, ?it/s]"
      ]
     },
     "metadata": {},
     "output_type": "display_data"
    },
    {
     "data": {
      "application/vnd.jupyter.widget-view+json": {
       "model_id": "3e0f2bbf2e1345a0a9586198f33600ef",
       "version_major": 2,
       "version_minor": 0
      },
      "text/plain": [
       "  0%|          | 0/3 [00:00<?, ?it/s]"
      ]
     },
     "metadata": {},
     "output_type": "display_data"
    },
    {
     "name": "stdout",
     "output_type": "stream",
     "text": [
      "Saved new Weights\n",
      "train loss: 1.477557, train accuracy: 46.981627, dev loss: 1.414043, accuracy: 49.87\n",
      "----------\n",
      "Epochs75/100, current lr: 2.9551959340945648e-05\n"
     ]
    },
    {
     "data": {
      "application/vnd.jupyter.widget-view+json": {
       "model_id": "a4655d70cbdd440dac9cdd73645c7e18",
       "version_major": 2,
       "version_minor": 0
      },
      "text/plain": [
       "  0%|          | 0/12 [00:00<?, ?it/s]"
      ]
     },
     "metadata": {},
     "output_type": "display_data"
    },
    {
     "data": {
      "application/vnd.jupyter.widget-view+json": {
       "model_id": "1c6e7de06b4d4f47adcaf63454b8e59e",
       "version_major": 2,
       "version_minor": 0
      },
      "text/plain": [
       "  0%|          | 0/3 [00:00<?, ?it/s]"
      ]
     },
     "metadata": {},
     "output_type": "display_data"
    },
    {
     "name": "stdout",
     "output_type": "stream",
     "text": [
      "Saved new Weights\n",
      "train loss: 1.454170, train accuracy: 48.228346, dev loss: 1.409899, accuracy: 50.92\n",
      "----------\n",
      "Epochs76/100, current lr: 1e-06\n"
     ]
    },
    {
     "data": {
      "application/vnd.jupyter.widget-view+json": {
       "model_id": "7cec1205ae794e7180ccb6467700f55e",
       "version_major": 2,
       "version_minor": 0
      },
      "text/plain": [
       "  0%|          | 0/12 [00:00<?, ?it/s]"
      ]
     },
     "metadata": {},
     "output_type": "display_data"
    },
    {
     "data": {
      "application/vnd.jupyter.widget-view+json": {
       "model_id": "648498afd9ce4988a4f717740e7efdc0",
       "version_major": 2,
       "version_minor": 0
      },
      "text/plain": [
       "  0%|          | 0/3 [00:00<?, ?it/s]"
      ]
     },
     "metadata": {},
     "output_type": "display_data"
    },
    {
     "name": "stdout",
     "output_type": "stream",
     "text": [
      "Saved new Weights\n",
      "train loss: 1.461418, train accuracy: 48.195538, dev loss: 1.409831, accuracy: 50.92\n",
      "----------\n",
      "Epochs77/100, current lr: 2.9551959340945353e-05\n"
     ]
    },
    {
     "data": {
      "application/vnd.jupyter.widget-view+json": {
       "model_id": "2dbdd30ae3434d74abf0b22ac5454687",
       "version_major": 2,
       "version_minor": 0
      },
      "text/plain": [
       "  0%|          | 0/12 [00:00<?, ?it/s]"
      ]
     },
     "metadata": {},
     "output_type": "display_data"
    },
    {
     "data": {
      "application/vnd.jupyter.widget-view+json": {
       "model_id": "9f9ab7a7469b406f869c04e76a36fcfd",
       "version_major": 2,
       "version_minor": 0
      },
      "text/plain": [
       "  0%|          | 0/3 [00:00<?, ?it/s]"
      ]
     },
     "metadata": {},
     "output_type": "display_data"
    },
    {
     "name": "stdout",
     "output_type": "stream",
     "text": [
      "train loss: 1.458630, train accuracy: 48.261155, dev loss: 1.418949, accuracy: 48.69\n",
      "----------\n",
      "Epochs78/100, current lr: 0.00010430195934094616\n"
     ]
    },
    {
     "data": {
      "application/vnd.jupyter.widget-view+json": {
       "model_id": "c1fba8f43d314dac8a83bf03de5f1bec",
       "version_major": 2,
       "version_minor": 0
      },
      "text/plain": [
       "  0%|          | 0/12 [00:00<?, ?it/s]"
      ]
     },
     "metadata": {},
     "output_type": "display_data"
    },
    {
     "data": {
      "application/vnd.jupyter.widget-view+json": {
       "model_id": "4a1f275481e74df58e5a621f630b2748",
       "version_major": 2,
       "version_minor": 0
      },
      "text/plain": [
       "  0%|          | 0/3 [00:00<?, ?it/s]"
      ]
     },
     "metadata": {},
     "output_type": "display_data"
    },
    {
     "name": "stdout",
     "output_type": "stream",
     "text": [
      "Saved new Weights\n",
      "train loss: 1.458146, train accuracy: 47.965879, dev loss: 1.409581, accuracy: 50.13\n",
      "----------\n",
      "Epochs79/100, current lr: 0.00019669804065905547\n"
     ]
    },
    {
     "data": {
      "application/vnd.jupyter.widget-view+json": {
       "model_id": "0db7a3f1d6774043a9771e6d04b4bdb2",
       "version_major": 2,
       "version_minor": 0
      },
      "text/plain": [
       "  0%|          | 0/12 [00:00<?, ?it/s]"
      ]
     },
     "metadata": {},
     "output_type": "display_data"
    },
    {
     "data": {
      "application/vnd.jupyter.widget-view+json": {
       "model_id": "bb55bb09c3ab4ed2bacb293bd4fae260",
       "version_major": 2,
       "version_minor": 0
      },
      "text/plain": [
       "  0%|          | 0/3 [00:00<?, ?it/s]"
      ]
     },
     "metadata": {},
     "output_type": "display_data"
    },
    {
     "name": "stdout",
     "output_type": "stream",
     "text": [
      "Saved new Weights\n",
      "train loss: 1.471781, train accuracy: 47.047244, dev loss: 1.402895, accuracy: 50.79\n",
      "----------\n",
      "Epochs80/100, current lr: 0.00027144804065905634\n"
     ]
    },
    {
     "data": {
      "application/vnd.jupyter.widget-view+json": {
       "model_id": "af654f758b3a405ba33b6f4f9b47e566",
       "version_major": 2,
       "version_minor": 0
      },
      "text/plain": [
       "  0%|          | 0/12 [00:00<?, ?it/s]"
      ]
     },
     "metadata": {},
     "output_type": "display_data"
    },
    {
     "data": {
      "application/vnd.jupyter.widget-view+json": {
       "model_id": "d626353409ca4761b42be2a9d1f4b9cc",
       "version_major": 2,
       "version_minor": 0
      },
      "text/plain": [
       "  0%|          | 0/3 [00:00<?, ?it/s]"
      ]
     },
     "metadata": {},
     "output_type": "display_data"
    },
    {
     "name": "stdout",
     "output_type": "stream",
     "text": [
      "train loss: 1.487122, train accuracy: 46.325459, dev loss: 1.405005, accuracy: 50.39\n",
      "----------\n",
      "Epochs81/100, current lr: 0.00030000000000000176\n"
     ]
    },
    {
     "data": {
      "application/vnd.jupyter.widget-view+json": {
       "model_id": "c251eb73bb5b4991a643832b9a3bbebf",
       "version_major": 2,
       "version_minor": 0
      },
      "text/plain": [
       "  0%|          | 0/12 [00:00<?, ?it/s]"
      ]
     },
     "metadata": {},
     "output_type": "display_data"
    },
    {
     "data": {
      "application/vnd.jupyter.widget-view+json": {
       "model_id": "807f8a223f6545aba6199f33d70d991a",
       "version_major": 2,
       "version_minor": 0
      },
      "text/plain": [
       "  0%|          | 0/3 [00:00<?, ?it/s]"
      ]
     },
     "metadata": {},
     "output_type": "display_data"
    },
    {
     "name": "stdout",
     "output_type": "stream",
     "text": [
      "train loss: 1.528174, train accuracy: 45.275591, dev loss: 1.437899, accuracy: 49.74\n",
      "----------\n",
      "Epochs82/100, current lr: 0.0002714480406590567\n"
     ]
    },
    {
     "data": {
      "application/vnd.jupyter.widget-view+json": {
       "model_id": "071b2d0f2c7c473ca6337829254337a8",
       "version_major": 2,
       "version_minor": 0
      },
      "text/plain": [
       "  0%|          | 0/12 [00:00<?, ?it/s]"
      ]
     },
     "metadata": {},
     "output_type": "display_data"
    },
    {
     "data": {
      "application/vnd.jupyter.widget-view+json": {
       "model_id": "9ec047c0b41f42dcae070375be589dc7",
       "version_major": 2,
       "version_minor": 0
      },
      "text/plain": [
       "  0%|          | 0/3 [00:00<?, ?it/s]"
      ]
     },
     "metadata": {},
     "output_type": "display_data"
    },
    {
     "name": "stdout",
     "output_type": "stream",
     "text": [
      "train loss: 1.481991, train accuracy: 46.555118, dev loss: 1.426241, accuracy: 46.85\n",
      "----------\n",
      "Epochs83/100, current lr: 0.00019669804065905707\n"
     ]
    },
    {
     "data": {
      "application/vnd.jupyter.widget-view+json": {
       "model_id": "2c1b7c09659f4869aa84ddfd56652270",
       "version_major": 2,
       "version_minor": 0
      },
      "text/plain": [
       "  0%|          | 0/12 [00:00<?, ?it/s]"
      ]
     },
     "metadata": {},
     "output_type": "display_data"
    },
    {
     "data": {
      "application/vnd.jupyter.widget-view+json": {
       "model_id": "9cd3588659be4752a81eb3e4c184ecd9",
       "version_major": 2,
       "version_minor": 0
      },
      "text/plain": [
       "  0%|          | 0/3 [00:00<?, ?it/s]"
      ]
     },
     "metadata": {},
     "output_type": "display_data"
    },
    {
     "name": "stdout",
     "output_type": "stream",
     "text": [
      "train loss: 1.459101, train accuracy: 48.064304, dev loss: 1.413546, accuracy: 48.16\n",
      "----------\n",
      "Epochs84/100, current lr: 0.00010430195934094573\n"
     ]
    },
    {
     "data": {
      "application/vnd.jupyter.widget-view+json": {
       "model_id": "18666e38490e486a8ebe73e7dc5dd72f",
       "version_major": 2,
       "version_minor": 0
      },
      "text/plain": [
       "  0%|          | 0/12 [00:00<?, ?it/s]"
      ]
     },
     "metadata": {},
     "output_type": "display_data"
    },
    {
     "data": {
      "application/vnd.jupyter.widget-view+json": {
       "model_id": "d913cd5a65c94e7db8bcebdcce7bd25e",
       "version_major": 2,
       "version_minor": 0
      },
      "text/plain": [
       "  0%|          | 0/3 [00:00<?, ?it/s]"
      ]
     },
     "metadata": {},
     "output_type": "display_data"
    },
    {
     "name": "stdout",
     "output_type": "stream",
     "text": [
      "Saved new Weights\n",
      "train loss: 1.447318, train accuracy: 48.162730, dev loss: 1.395533, accuracy: 49.87\n",
      "----------\n",
      "Epochs85/100, current lr: 2.9551959340945702e-05\n"
     ]
    },
    {
     "data": {
      "application/vnd.jupyter.widget-view+json": {
       "model_id": "32ada1bb632547f29c1d335f3748c1f8",
       "version_major": 2,
       "version_minor": 0
      },
      "text/plain": [
       "  0%|          | 0/12 [00:00<?, ?it/s]"
      ]
     },
     "metadata": {},
     "output_type": "display_data"
    },
    {
     "data": {
      "application/vnd.jupyter.widget-view+json": {
       "model_id": "8730c8fb390f408e9681575ef7cc2cc8",
       "version_major": 2,
       "version_minor": 0
      },
      "text/plain": [
       "  0%|          | 0/3 [00:00<?, ?it/s]"
      ]
     },
     "metadata": {},
     "output_type": "display_data"
    },
    {
     "name": "stdout",
     "output_type": "stream",
     "text": [
      "Saved new Weights\n",
      "train loss: 1.441963, train accuracy: 48.359580, dev loss: 1.386785, accuracy: 50.92\n",
      "----------\n",
      "Epochs86/100, current lr: 1e-06\n"
     ]
    },
    {
     "data": {
      "application/vnd.jupyter.widget-view+json": {
       "model_id": "4561415e83cb4e4a9345a6c2ed58b32d",
       "version_major": 2,
       "version_minor": 0
      },
      "text/plain": [
       "  0%|          | 0/12 [00:00<?, ?it/s]"
      ]
     },
     "metadata": {},
     "output_type": "display_data"
    },
    {
     "data": {
      "application/vnd.jupyter.widget-view+json": {
       "model_id": "0a8d9b530ec34b8d8e84e83088a77388",
       "version_major": 2,
       "version_minor": 0
      },
      "text/plain": [
       "  0%|          | 0/3 [00:00<?, ?it/s]"
      ]
     },
     "metadata": {},
     "output_type": "display_data"
    },
    {
     "name": "stdout",
     "output_type": "stream",
     "text": [
      "train loss: 1.422795, train accuracy: 48.687664, dev loss: 1.386811, accuracy: 50.92\n",
      "----------\n",
      "Epochs87/100, current lr: 2.9551959340945353e-05\n"
     ]
    },
    {
     "data": {
      "application/vnd.jupyter.widget-view+json": {
       "model_id": "87aad4d5ed554438ad0d57950ec85448",
       "version_major": 2,
       "version_minor": 0
      },
      "text/plain": [
       "  0%|          | 0/12 [00:00<?, ?it/s]"
      ]
     },
     "metadata": {},
     "output_type": "display_data"
    },
    {
     "data": {
      "application/vnd.jupyter.widget-view+json": {
       "model_id": "b087944986c94d36914a82c70d9c89ea",
       "version_major": 2,
       "version_minor": 0
      },
      "text/plain": [
       "  0%|          | 0/3 [00:00<?, ?it/s]"
      ]
     },
     "metadata": {},
     "output_type": "display_data"
    },
    {
     "name": "stdout",
     "output_type": "stream",
     "text": [
      "Saved new Weights\n",
      "train loss: 1.425434, train accuracy: 48.720472, dev loss: 1.384748, accuracy: 51.31\n",
      "----------\n",
      "Epochs88/100, current lr: 0.0001043019593409452\n"
     ]
    },
    {
     "data": {
      "application/vnd.jupyter.widget-view+json": {
       "model_id": "2c5ad8e0cc7b4ef49afaffede0e8ba30",
       "version_major": 2,
       "version_minor": 0
      },
      "text/plain": [
       "  0%|          | 0/12 [00:00<?, ?it/s]"
      ]
     },
     "metadata": {},
     "output_type": "display_data"
    },
    {
     "data": {
      "application/vnd.jupyter.widget-view+json": {
       "model_id": "c1a165b7ac19472d9e87056b8a20e7f3",
       "version_major": 2,
       "version_minor": 0
      },
      "text/plain": [
       "  0%|          | 0/3 [00:00<?, ?it/s]"
      ]
     },
     "metadata": {},
     "output_type": "display_data"
    },
    {
     "name": "stdout",
     "output_type": "stream",
     "text": [
      "train loss: 1.430732, train accuracy: 48.687664, dev loss: 1.386258, accuracy: 50.26\n",
      "----------\n",
      "Epochs89/100, current lr: 0.00019669804065905453\n"
     ]
    },
    {
     "data": {
      "application/vnd.jupyter.widget-view+json": {
       "model_id": "68a3c54d66f04fa7a84846f6f506b336",
       "version_major": 2,
       "version_minor": 0
      },
      "text/plain": [
       "  0%|          | 0/12 [00:00<?, ?it/s]"
      ]
     },
     "metadata": {},
     "output_type": "display_data"
    },
    {
     "data": {
      "application/vnd.jupyter.widget-view+json": {
       "model_id": "9ccca1e95d394c2f8eeec1569127df0c",
       "version_major": 2,
       "version_minor": 0
      },
      "text/plain": [
       "  0%|          | 0/3 [00:00<?, ?it/s]"
      ]
     },
     "metadata": {},
     "output_type": "display_data"
    },
    {
     "name": "stdout",
     "output_type": "stream",
     "text": [
      "train loss: 1.431506, train accuracy: 48.458005, dev loss: 1.390594, accuracy: 50.13\n",
      "----------\n",
      "Epochs90/100, current lr: 0.00027144804065905645\n"
     ]
    },
    {
     "data": {
      "application/vnd.jupyter.widget-view+json": {
       "model_id": "87c85f6c27b945f6a2f857bde3b6a5c3",
       "version_major": 2,
       "version_minor": 0
      },
      "text/plain": [
       "  0%|          | 0/12 [00:00<?, ?it/s]"
      ]
     },
     "metadata": {},
     "output_type": "display_data"
    },
    {
     "data": {
      "application/vnd.jupyter.widget-view+json": {
       "model_id": "3243635eecbb40ca9c5e57bc27cb0bc9",
       "version_major": 2,
       "version_minor": 0
      },
      "text/plain": [
       "  0%|          | 0/3 [00:00<?, ?it/s]"
      ]
     },
     "metadata": {},
     "output_type": "display_data"
    },
    {
     "name": "stdout",
     "output_type": "stream",
     "text": [
      "Saved new Weights\n",
      "train loss: 1.438708, train accuracy: 48.425197, dev loss: 1.382737, accuracy: 51.31\n",
      "----------\n",
      "Epochs91/100, current lr: 0.00030000000000000187\n"
     ]
    },
    {
     "data": {
      "application/vnd.jupyter.widget-view+json": {
       "model_id": "b541f252067a4202a477a87937265810",
       "version_major": 2,
       "version_minor": 0
      },
      "text/plain": [
       "  0%|          | 0/12 [00:00<?, ?it/s]"
      ]
     },
     "metadata": {},
     "output_type": "display_data"
    },
    {
     "data": {
      "application/vnd.jupyter.widget-view+json": {
       "model_id": "28f54e35f33243aba6478cb96cbf93d3",
       "version_major": 2,
       "version_minor": 0
      },
      "text/plain": [
       "  0%|          | 0/3 [00:00<?, ?it/s]"
      ]
     },
     "metadata": {},
     "output_type": "display_data"
    },
    {
     "name": "stdout",
     "output_type": "stream",
     "text": [
      "train loss: 1.450828, train accuracy: 48.359580, dev loss: 1.383017, accuracy: 51.71\n",
      "----------\n",
      "Epochs92/100, current lr: 0.00027144804065905683\n"
     ]
    },
    {
     "data": {
      "application/vnd.jupyter.widget-view+json": {
       "model_id": "94e01037e2f6407381bf1316ff79ae91",
       "version_major": 2,
       "version_minor": 0
      },
      "text/plain": [
       "  0%|          | 0/12 [00:00<?, ?it/s]"
      ]
     },
     "metadata": {},
     "output_type": "display_data"
    },
    {
     "data": {
      "application/vnd.jupyter.widget-view+json": {
       "model_id": "8e3483f7b3884bb6a1153f4436963185",
       "version_major": 2,
       "version_minor": 0
      },
      "text/plain": [
       "  0%|          | 0/3 [00:00<?, ?it/s]"
      ]
     },
     "metadata": {},
     "output_type": "display_data"
    },
    {
     "name": "stdout",
     "output_type": "stream",
     "text": [
      "train loss: 1.430901, train accuracy: 49.179790, dev loss: 1.383122, accuracy: 51.97\n",
      "----------\n",
      "Epochs93/100, current lr: 0.00019669804065905615\n"
     ]
    },
    {
     "data": {
      "application/vnd.jupyter.widget-view+json": {
       "model_id": "2d24b1bc8aa94c1598677177c29eef7b",
       "version_major": 2,
       "version_minor": 0
      },
      "text/plain": [
       "  0%|          | 0/12 [00:00<?, ?it/s]"
      ]
     },
     "metadata": {},
     "output_type": "display_data"
    },
    {
     "data": {
      "application/vnd.jupyter.widget-view+json": {
       "model_id": "3c9ce0fd2b1d4121942221c8a8a58607",
       "version_major": 2,
       "version_minor": 0
      },
      "text/plain": [
       "  0%|          | 0/3 [00:00<?, ?it/s]"
      ]
     },
     "metadata": {},
     "output_type": "display_data"
    },
    {
     "name": "stdout",
     "output_type": "stream",
     "text": [
      "Saved new Weights\n",
      "train loss: 1.430684, train accuracy: 48.490814, dev loss: 1.375975, accuracy: 51.05\n",
      "----------\n",
      "Epochs94/100, current lr: 0.00010430195934094681\n"
     ]
    },
    {
     "data": {
      "application/vnd.jupyter.widget-view+json": {
       "model_id": "03098dfaf9104ad3a2ee4a9be9f24141",
       "version_major": 2,
       "version_minor": 0
      },
      "text/plain": [
       "  0%|          | 0/12 [00:00<?, ?it/s]"
      ]
     },
     "metadata": {},
     "output_type": "display_data"
    },
    {
     "data": {
      "application/vnd.jupyter.widget-view+json": {
       "model_id": "b82a267f20ce48d7a40dc70154d8422f",
       "version_major": 2,
       "version_minor": 0
      },
      "text/plain": [
       "  0%|          | 0/3 [00:00<?, ?it/s]"
      ]
     },
     "metadata": {},
     "output_type": "display_data"
    },
    {
     "name": "stdout",
     "output_type": "stream",
     "text": [
      "Saved new Weights\n",
      "train loss: 1.408487, train accuracy: 49.212598, dev loss: 1.374991, accuracy: 50.39\n",
      "----------\n",
      "Epochs95/100, current lr: 2.955195934094512e-05\n"
     ]
    },
    {
     "data": {
      "application/vnd.jupyter.widget-view+json": {
       "model_id": "e75128281e3d4639b356c24534dca01d",
       "version_major": 2,
       "version_minor": 0
      },
      "text/plain": [
       "  0%|          | 0/12 [00:00<?, ?it/s]"
      ]
     },
     "metadata": {},
     "output_type": "display_data"
    },
    {
     "data": {
      "application/vnd.jupyter.widget-view+json": {
       "model_id": "42998d9d249a4a65a38222c1f0646090",
       "version_major": 2,
       "version_minor": 0
      },
      "text/plain": [
       "  0%|          | 0/3 [00:00<?, ?it/s]"
      ]
     },
     "metadata": {},
     "output_type": "display_data"
    },
    {
     "name": "stdout",
     "output_type": "stream",
     "text": [
      "Saved new Weights\n",
      "train loss: 1.400753, train accuracy: 49.868766, dev loss: 1.360911, accuracy: 52.10\n",
      "----------\n",
      "Epochs96/100, current lr: 1e-06\n"
     ]
    },
    {
     "data": {
      "application/vnd.jupyter.widget-view+json": {
       "model_id": "b4a040f8a7e94af8b7ebcc5ed83dad14",
       "version_major": 2,
       "version_minor": 0
      },
      "text/plain": [
       "  0%|          | 0/12 [00:00<?, ?it/s]"
      ]
     },
     "metadata": {},
     "output_type": "display_data"
    },
    {
     "data": {
      "application/vnd.jupyter.widget-view+json": {
       "model_id": "adbd17bf6e4e46fdb0dd1a7e5632044c",
       "version_major": 2,
       "version_minor": 0
      },
      "text/plain": [
       "  0%|          | 0/3 [00:00<?, ?it/s]"
      ]
     },
     "metadata": {},
     "output_type": "display_data"
    },
    {
     "name": "stdout",
     "output_type": "stream",
     "text": [
      "Saved new Weights\n",
      "train loss: 1.400551, train accuracy: 48.950131, dev loss: 1.360594, accuracy: 52.23\n",
      "----------\n",
      "Epochs97/100, current lr: 2.9551959340945353e-05\n"
     ]
    },
    {
     "data": {
      "application/vnd.jupyter.widget-view+json": {
       "model_id": "243f61c2a1e848438161bead6caba009",
       "version_major": 2,
       "version_minor": 0
      },
      "text/plain": [
       "  0%|          | 0/12 [00:00<?, ?it/s]"
      ]
     },
     "metadata": {},
     "output_type": "display_data"
    },
    {
     "data": {
      "application/vnd.jupyter.widget-view+json": {
       "model_id": "567001b52cc34014be1029549c2322c4",
       "version_major": 2,
       "version_minor": 0
      },
      "text/plain": [
       "  0%|          | 0/3 [00:00<?, ?it/s]"
      ]
     },
     "metadata": {},
     "output_type": "display_data"
    },
    {
     "name": "stdout",
     "output_type": "stream",
     "text": [
      "train loss: 1.401355, train accuracy: 49.606299, dev loss: 1.360844, accuracy: 52.36\n",
      "----------\n",
      "Epochs98/100, current lr: 0.00010430195934094523\n"
     ]
    },
    {
     "data": {
      "application/vnd.jupyter.widget-view+json": {
       "model_id": "699a3a662cfa4591b1493a5bf3bcc492",
       "version_major": 2,
       "version_minor": 0
      },
      "text/plain": [
       "  0%|          | 0/12 [00:00<?, ?it/s]"
      ]
     },
     "metadata": {},
     "output_type": "display_data"
    },
    {
     "data": {
      "application/vnd.jupyter.widget-view+json": {
       "model_id": "8097f5c7712e45529beab9884873f31c",
       "version_major": 2,
       "version_minor": 0
      },
      "text/plain": [
       "  0%|          | 0/3 [00:00<?, ?it/s]"
      ]
     },
     "metadata": {},
     "output_type": "display_data"
    },
    {
     "name": "stdout",
     "output_type": "stream",
     "text": [
      "train loss: 1.400294, train accuracy: 49.409449, dev loss: 1.365663, accuracy: 52.10\n",
      "----------\n",
      "Epochs99/100, current lr: 0.0001966980406590546\n"
     ]
    },
    {
     "data": {
      "application/vnd.jupyter.widget-view+json": {
       "model_id": "f0fb89ae2f104aa99c3ff9c1e3d2e255",
       "version_major": 2,
       "version_minor": 0
      },
      "text/plain": [
       "  0%|          | 0/12 [00:00<?, ?it/s]"
      ]
     },
     "metadata": {},
     "output_type": "display_data"
    },
    {
     "data": {
      "application/vnd.jupyter.widget-view+json": {
       "model_id": "5459db5c65d542deb1d409c43a9de2e5",
       "version_major": 2,
       "version_minor": 0
      },
      "text/plain": [
       "  0%|          | 0/3 [00:00<?, ?it/s]"
      ]
     },
     "metadata": {},
     "output_type": "display_data"
    },
    {
     "name": "stdout",
     "output_type": "stream",
     "text": [
      "train loss: 1.405377, train accuracy: 49.409449, dev loss: 1.395066, accuracy: 50.52\n",
      "----------\n",
      "Epochs100/100, current lr: 0.0002714480406590566\n"
     ]
    },
    {
     "data": {
      "application/vnd.jupyter.widget-view+json": {
       "model_id": "c2339695facd447d9d2ac5bce49b63ee",
       "version_major": 2,
       "version_minor": 0
      },
      "text/plain": [
       "  0%|          | 0/12 [00:00<?, ?it/s]"
      ]
     },
     "metadata": {},
     "output_type": "display_data"
    },
    {
     "data": {
      "application/vnd.jupyter.widget-view+json": {
       "model_id": "63acc01f16294381a10e219d40fa3a68",
       "version_major": 2,
       "version_minor": 0
      },
      "text/plain": [
       "  0%|          | 0/3 [00:00<?, ?it/s]"
      ]
     },
     "metadata": {},
     "output_type": "display_data"
    },
    {
     "name": "stdout",
     "output_type": "stream",
     "text": [
      "train loss: 1.404172, train accuracy: 49.409449, dev loss: 1.368846, accuracy: 51.84\n",
      "----------\n"
     ]
    }
   ],
   "source": [
    "model_trained, loss_hist, metric_hist = train_val(cnn_model, params_train)"
   ]
  },
  {
   "cell_type": "code",
   "execution_count": 43,
   "metadata": {
    "execution": {
     "iopub.execute_input": "2021-05-29T17:26:41.409238Z",
     "iopub.status.busy": "2021-05-29T17:26:41.408902Z",
     "iopub.status.idle": "2021-05-29T17:26:41.557961Z",
     "shell.execute_reply": "2021-05-29T17:26:41.557131Z",
     "shell.execute_reply.started": "2021-05-29T17:26:41.409201Z"
    }
   },
   "outputs": [
    {
     "data": {
      "image/png": "[encoded data removed]",
      "text/plain": [
       "<Figure size 432x288 with 1 Axes>"
      ]
     },
     "metadata": {
      "needs_background": "light"
     },
     "output_type": "display_data"
    }
   ],
   "source": [
    "num_epochs=params_train[\"num_epochs\"]\n",
    "plt.title(\"Train-Val Loss\")\n",
    "plt.plot(range(1,num_epochs+1),loss_hist[\"train\"],label=\"train\")\n",
    "plt.plot(range(1,num_epochs+1),loss_hist[\"val\"],label=\"val\")\n",
    "plt.ylabel(\"Loss\")\n",
    "plt.xlabel(\"Training Epochs\")\n",
    "plt.legend()\n",
    "plt.show()"
   ]
  },
  {
   "cell_type": "code",
   "execution_count": 44,
   "metadata": {
    "execution": {
     "iopub.execute_input": "2021-05-29T17:26:41.559536Z",
     "iopub.status.busy": "2021-05-29T17:26:41.559174Z",
     "iopub.status.idle": "2021-05-29T17:26:41.704674Z",
     "shell.execute_reply": "2021-05-29T17:26:41.703737Z",
     "shell.execute_reply.started": "2021-05-29T17:26:41.559497Z"
    }
   },
   "outputs": [
    {
     "data": {
      "image/png": "[encoded data removed]",
      "text/plain": [
       "<Figure size 432x288 with 1 Axes>"
      ]
     },
     "metadata": {
      "needs_background": "light"
     },
     "output_type": "display_data"
    }
   ],
   "source": [
    "plt.title(\"Train-Val Accuracy\")\n",
    "plt.plot(range(1,num_epochs+1),metric_hist[\"train\"],label=\"train\")\n",
    "plt.plot(range(1,num_epochs+1),metric_hist[\"val\"],label=\"val\")\n",
    "plt.ylabel(\"Accuracy\")\n",
    "plt.xlabel(\"Training Epochs\")\n",
    "plt.legend()\n",
    "plt.show()"
   ]
  }
 ],
 "metadata": {
  "kernelspec": {
   "display_name": "Python 3",
   "language": "python",
   "name": "python3"
  },
  "language_info": {
   "codemirror_mode": {
    "name": "ipython",
    "version": 3
   },
   "file_extension": ".py",
   "mimetype": "text/x-python",
   "name": "python",
   "nbconvert_exporter": "python",
   "pygments_lexer": "ipython3",
   "version": "3.7.3"
  }
 },
 "nbformat": 4,
 "nbformat_minor": 4
}
