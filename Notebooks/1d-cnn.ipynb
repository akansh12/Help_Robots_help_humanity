{
 "cells": [
  {
   "cell_type": "code",
   "execution_count": 1,
   "metadata": {
    "_cell_guid": "b1076dfc-b9ad-4769-8c92-a6c4dae69d19",
    "_uuid": "8f2839f25d086af736a60e9eeb907d3b93b6e0e5",
    "execution": {
     "iopub.execute_input": "2021-05-31T12:05:08.130309Z",
     "iopub.status.busy": "2021-05-31T12:05:08.129937Z",
     "iopub.status.idle": "2021-05-31T12:05:08.155442Z",
     "shell.execute_reply": "2021-05-31T12:05:08.154527Z",
     "shell.execute_reply.started": "2021-05-31T12:05:08.130231Z"
    }
   },
   "outputs": [
    {
     "name": "stdout",
     "output_type": "stream",
     "text": [
      "/kaggle/input/career-con-2019/sample_submission.csv\n",
      "/kaggle/input/career-con-2019/X_test.csv\n",
      "/kaggle/input/career-con-2019/y_train.csv\n",
      "/kaggle/input/career-con-2019/X_train.csv\n",
      "/kaggle/input/career-con-2019-preprocessed-data/encoder.model\n",
      "/kaggle/input/career-con-2019-preprocessed-data/feat.npy\n",
      "/kaggle/input/career-con-2019-preprocessed-data/feat_fft.npy\n",
      "/kaggle/input/career-con-2019-preprocessed-data/target.npy\n"
     ]
    }
   ],
   "source": [
    "\n",
    "import numpy as np # linear algebra\n",
    "import pandas as pd \n",
    "\n",
    "import os\n",
    "for dirname, _, filenames in os.walk('/kaggle/input'):\n",
    "    for filename in filenames:\n",
    "        print(os.path.join(dirname, filename))"
   ]
  },
  {
   "cell_type": "code",
   "execution_count": 2,
   "metadata": {
    "execution": {
     "iopub.execute_input": "2021-05-31T12:05:08.157601Z",
     "iopub.status.busy": "2021-05-31T12:05:08.157073Z",
     "iopub.status.idle": "2021-05-31T12:05:10.250948Z",
     "shell.execute_reply": "2021-05-31T12:05:10.250090Z",
     "shell.execute_reply.started": "2021-05-31T12:05:08.157556Z"
    }
   },
   "outputs": [],
   "source": [
    "X_train = pd.read_csv('../input/career-con-2019/X_train.csv')\n",
    "y_train = pd.read_csv('../input/career-con-2019/y_train.csv')\n",
    "X_train = pd.merge(X_train,y_train,on='series_id')\n",
    "from sklearn.preprocessing import LabelEncoder\n",
    "le = LabelEncoder()\n",
    "X_train['surface'] = le.fit_transform(X_train['surface'])"
   ]
  },
  {
   "cell_type": "code",
   "execution_count": 3,
   "metadata": {
    "execution": {
     "iopub.execute_input": "2021-05-31T12:05:10.253082Z",
     "iopub.status.busy": "2021-05-31T12:05:10.252727Z",
     "iopub.status.idle": "2021-05-31T12:05:10.258211Z",
     "shell.execute_reply": "2021-05-31T12:05:10.257372Z",
     "shell.execute_reply.started": "2021-05-31T12:05:10.253044Z"
    }
   },
   "outputs": [
    {
     "name": "stdout",
     "output_type": "stream",
     "text": [
      "['row_id', 'series_id', 'measurement_number', 'orientation_W', 'orientation_X', 'orientation_Y', 'orientation_Z', 'angular_velocity_X', 'angular_velocity_Y', 'angular_velocity_Z', 'linear_acceleration_X', 'linear_acceleration_Y', 'linear_acceleration_Z', 'group_id', 'surface']\n"
     ]
    }
   ],
   "source": [
    "cols = list(X_train.columns.values)\n",
    "cols.remove('orientation_W')\n",
    "cols.insert(3,'orientation_W')\n",
    "print(cols)"
   ]
  },
  {
   "cell_type": "code",
   "execution_count": 4,
   "metadata": {
    "execution": {
     "iopub.execute_input": "2021-05-31T12:05:10.260459Z",
     "iopub.status.busy": "2021-05-31T12:05:10.259897Z",
     "iopub.status.idle": "2021-05-31T12:05:10.288513Z",
     "shell.execute_reply": "2021-05-31T12:05:10.287467Z",
     "shell.execute_reply.started": "2021-05-31T12:05:10.260421Z"
    }
   },
   "outputs": [
    {
     "data": {
      "text/html": [
       "<div>\n",
       "<style scoped>\n",
       "    .dataframe tbody tr th:only-of-type {\n",
       "        vertical-align: middle;\n",
       "    }\n",
       "\n",
       "    .dataframe tbody tr th {\n",
       "        vertical-align: top;\n",
       "    }\n",
       "\n",
       "    .dataframe thead th {\n",
       "        text-align: right;\n",
       "    }\n",
       "</style>\n",
       "<table border=\"1\" class=\"dataframe\">\n",
       "  <thead>\n",
       "    <tr style=\"text-align: right;\">\n",
       "      <th></th>\n",
       "      <th>row_id</th>\n",
       "      <th>series_id</th>\n",
       "      <th>measurement_number</th>\n",
       "      <th>orientation_X</th>\n",
       "      <th>orientation_Y</th>\n",
       "      <th>orientation_Z</th>\n",
       "      <th>orientation_W</th>\n",
       "      <th>angular_velocity_X</th>\n",
       "      <th>angular_velocity_Y</th>\n",
       "      <th>angular_velocity_Z</th>\n",
       "      <th>linear_acceleration_X</th>\n",
       "      <th>linear_acceleration_Y</th>\n",
       "      <th>linear_acceleration_Z</th>\n",
       "      <th>group_id</th>\n",
       "      <th>surface</th>\n",
       "    </tr>\n",
       "  </thead>\n",
       "  <tbody>\n",
       "    <tr>\n",
       "      <th>0</th>\n",
       "      <td>0_0</td>\n",
       "      <td>0</td>\n",
       "      <td>0</td>\n",
       "      <td>-0.75853</td>\n",
       "      <td>-0.63435</td>\n",
       "      <td>-0.10488</td>\n",
       "      <td>-0.10597</td>\n",
       "      <td>0.107650</td>\n",
       "      <td>0.017561</td>\n",
       "      <td>0.000767</td>\n",
       "      <td>-0.74857</td>\n",
       "      <td>2.1030</td>\n",
       "      <td>-9.7532</td>\n",
       "      <td>13</td>\n",
       "      <td>2</td>\n",
       "    </tr>\n",
       "    <tr>\n",
       "      <th>1</th>\n",
       "      <td>0_1</td>\n",
       "      <td>0</td>\n",
       "      <td>1</td>\n",
       "      <td>-0.75853</td>\n",
       "      <td>-0.63434</td>\n",
       "      <td>-0.10490</td>\n",
       "      <td>-0.10600</td>\n",
       "      <td>0.067851</td>\n",
       "      <td>0.029939</td>\n",
       "      <td>0.003385</td>\n",
       "      <td>0.33995</td>\n",
       "      <td>1.5064</td>\n",
       "      <td>-9.4128</td>\n",
       "      <td>13</td>\n",
       "      <td>2</td>\n",
       "    </tr>\n",
       "    <tr>\n",
       "      <th>2</th>\n",
       "      <td>0_2</td>\n",
       "      <td>0</td>\n",
       "      <td>2</td>\n",
       "      <td>-0.75853</td>\n",
       "      <td>-0.63435</td>\n",
       "      <td>-0.10492</td>\n",
       "      <td>-0.10597</td>\n",
       "      <td>0.007275</td>\n",
       "      <td>0.028934</td>\n",
       "      <td>-0.005978</td>\n",
       "      <td>-0.26429</td>\n",
       "      <td>1.5922</td>\n",
       "      <td>-8.7267</td>\n",
       "      <td>13</td>\n",
       "      <td>2</td>\n",
       "    </tr>\n",
       "    <tr>\n",
       "      <th>3</th>\n",
       "      <td>0_3</td>\n",
       "      <td>0</td>\n",
       "      <td>3</td>\n",
       "      <td>-0.75852</td>\n",
       "      <td>-0.63436</td>\n",
       "      <td>-0.10495</td>\n",
       "      <td>-0.10597</td>\n",
       "      <td>-0.013053</td>\n",
       "      <td>0.019448</td>\n",
       "      <td>-0.008974</td>\n",
       "      <td>0.42684</td>\n",
       "      <td>1.0993</td>\n",
       "      <td>-10.0960</td>\n",
       "      <td>13</td>\n",
       "      <td>2</td>\n",
       "    </tr>\n",
       "    <tr>\n",
       "      <th>4</th>\n",
       "      <td>0_4</td>\n",
       "      <td>0</td>\n",
       "      <td>4</td>\n",
       "      <td>-0.75852</td>\n",
       "      <td>-0.63435</td>\n",
       "      <td>-0.10495</td>\n",
       "      <td>-0.10596</td>\n",
       "      <td>0.005135</td>\n",
       "      <td>0.007652</td>\n",
       "      <td>0.005245</td>\n",
       "      <td>-0.50969</td>\n",
       "      <td>1.4689</td>\n",
       "      <td>-10.4410</td>\n",
       "      <td>13</td>\n",
       "      <td>2</td>\n",
       "    </tr>\n",
       "  </tbody>\n",
       "</table>\n",
       "</div>"
      ],
      "text/plain": [
       "  row_id  series_id  measurement_number  orientation_X  orientation_Y  \\\n",
       "0    0_0          0                   0       -0.75853       -0.63435   \n",
       "1    0_1          0                   1       -0.75853       -0.63434   \n",
       "2    0_2          0                   2       -0.75853       -0.63435   \n",
       "3    0_3          0                   3       -0.75852       -0.63436   \n",
       "4    0_4          0                   4       -0.75852       -0.63435   \n",
       "\n",
       "   orientation_Z  orientation_W  angular_velocity_X  angular_velocity_Y  \\\n",
       "0       -0.10488       -0.10597            0.107650            0.017561   \n",
       "1       -0.10490       -0.10600            0.067851            0.029939   \n",
       "2       -0.10492       -0.10597            0.007275            0.028934   \n",
       "3       -0.10495       -0.10597           -0.013053            0.019448   \n",
       "4       -0.10495       -0.10596            0.005135            0.007652   \n",
       "\n",
       "   angular_velocity_Z  linear_acceleration_X  linear_acceleration_Y  \\\n",
       "0            0.000767               -0.74857                 2.1030   \n",
       "1            0.003385                0.33995                 1.5064   \n",
       "2           -0.005978               -0.26429                 1.5922   \n",
       "3           -0.008974                0.42684                 1.0993   \n",
       "4            0.005245               -0.50969                 1.4689   \n",
       "\n",
       "   linear_acceleration_Z  group_id  surface  \n",
       "0                -9.7532        13        2  \n",
       "1                -9.4128        13        2  \n",
       "2                -8.7267        13        2  \n",
       "3               -10.0960        13        2  \n",
       "4               -10.4410        13        2  "
      ]
     },
     "execution_count": 4,
     "metadata": {},
     "output_type": "execute_result"
    }
   ],
   "source": [
    "X_train.head()"
   ]
  },
  {
   "cell_type": "code",
   "execution_count": 5,
   "metadata": {
    "execution": {
     "iopub.execute_input": "2021-05-31T12:05:10.290239Z",
     "iopub.status.busy": "2021-05-31T12:05:10.289820Z",
     "iopub.status.idle": "2021-05-31T12:05:10.330517Z",
     "shell.execute_reply": "2021-05-31T12:05:10.329604Z",
     "shell.execute_reply.started": "2021-05-31T12:05:10.290199Z"
    }
   },
   "outputs": [],
   "source": [
    "X_train = X_train[cols]"
   ]
  },
  {
   "cell_type": "code",
   "execution_count": 6,
   "metadata": {
    "execution": {
     "iopub.execute_input": "2021-05-31T12:05:10.332272Z",
     "iopub.status.busy": "2021-05-31T12:05:10.331750Z",
     "iopub.status.idle": "2021-05-31T12:05:10.349797Z",
     "shell.execute_reply": "2021-05-31T12:05:10.348541Z",
     "shell.execute_reply.started": "2021-05-31T12:05:10.332230Z"
    }
   },
   "outputs": [
    {
     "data": {
      "text/html": [
       "<div>\n",
       "<style scoped>\n",
       "    .dataframe tbody tr th:only-of-type {\n",
       "        vertical-align: middle;\n",
       "    }\n",
       "\n",
       "    .dataframe tbody tr th {\n",
       "        vertical-align: top;\n",
       "    }\n",
       "\n",
       "    .dataframe thead th {\n",
       "        text-align: right;\n",
       "    }\n",
       "</style>\n",
       "<table border=\"1\" class=\"dataframe\">\n",
       "  <thead>\n",
       "    <tr style=\"text-align: right;\">\n",
       "      <th></th>\n",
       "      <th>row_id</th>\n",
       "      <th>series_id</th>\n",
       "      <th>measurement_number</th>\n",
       "      <th>orientation_W</th>\n",
       "      <th>orientation_X</th>\n",
       "      <th>orientation_Y</th>\n",
       "      <th>orientation_Z</th>\n",
       "      <th>angular_velocity_X</th>\n",
       "      <th>angular_velocity_Y</th>\n",
       "      <th>angular_velocity_Z</th>\n",
       "      <th>linear_acceleration_X</th>\n",
       "      <th>linear_acceleration_Y</th>\n",
       "      <th>linear_acceleration_Z</th>\n",
       "      <th>group_id</th>\n",
       "      <th>surface</th>\n",
       "    </tr>\n",
       "  </thead>\n",
       "  <tbody>\n",
       "    <tr>\n",
       "      <th>0</th>\n",
       "      <td>0_0</td>\n",
       "      <td>0</td>\n",
       "      <td>0</td>\n",
       "      <td>-0.10597</td>\n",
       "      <td>-0.75853</td>\n",
       "      <td>-0.63435</td>\n",
       "      <td>-0.10488</td>\n",
       "      <td>0.107650</td>\n",
       "      <td>0.017561</td>\n",
       "      <td>0.000767</td>\n",
       "      <td>-0.74857</td>\n",
       "      <td>2.1030</td>\n",
       "      <td>-9.7532</td>\n",
       "      <td>13</td>\n",
       "      <td>2</td>\n",
       "    </tr>\n",
       "    <tr>\n",
       "      <th>1</th>\n",
       "      <td>0_1</td>\n",
       "      <td>0</td>\n",
       "      <td>1</td>\n",
       "      <td>-0.10600</td>\n",
       "      <td>-0.75853</td>\n",
       "      <td>-0.63434</td>\n",
       "      <td>-0.10490</td>\n",
       "      <td>0.067851</td>\n",
       "      <td>0.029939</td>\n",
       "      <td>0.003385</td>\n",
       "      <td>0.33995</td>\n",
       "      <td>1.5064</td>\n",
       "      <td>-9.4128</td>\n",
       "      <td>13</td>\n",
       "      <td>2</td>\n",
       "    </tr>\n",
       "    <tr>\n",
       "      <th>2</th>\n",
       "      <td>0_2</td>\n",
       "      <td>0</td>\n",
       "      <td>2</td>\n",
       "      <td>-0.10597</td>\n",
       "      <td>-0.75853</td>\n",
       "      <td>-0.63435</td>\n",
       "      <td>-0.10492</td>\n",
       "      <td>0.007275</td>\n",
       "      <td>0.028934</td>\n",
       "      <td>-0.005978</td>\n",
       "      <td>-0.26429</td>\n",
       "      <td>1.5922</td>\n",
       "      <td>-8.7267</td>\n",
       "      <td>13</td>\n",
       "      <td>2</td>\n",
       "    </tr>\n",
       "    <tr>\n",
       "      <th>3</th>\n",
       "      <td>0_3</td>\n",
       "      <td>0</td>\n",
       "      <td>3</td>\n",
       "      <td>-0.10597</td>\n",
       "      <td>-0.75852</td>\n",
       "      <td>-0.63436</td>\n",
       "      <td>-0.10495</td>\n",
       "      <td>-0.013053</td>\n",
       "      <td>0.019448</td>\n",
       "      <td>-0.008974</td>\n",
       "      <td>0.42684</td>\n",
       "      <td>1.0993</td>\n",
       "      <td>-10.0960</td>\n",
       "      <td>13</td>\n",
       "      <td>2</td>\n",
       "    </tr>\n",
       "    <tr>\n",
       "      <th>4</th>\n",
       "      <td>0_4</td>\n",
       "      <td>0</td>\n",
       "      <td>4</td>\n",
       "      <td>-0.10596</td>\n",
       "      <td>-0.75852</td>\n",
       "      <td>-0.63435</td>\n",
       "      <td>-0.10495</td>\n",
       "      <td>0.005135</td>\n",
       "      <td>0.007652</td>\n",
       "      <td>0.005245</td>\n",
       "      <td>-0.50969</td>\n",
       "      <td>1.4689</td>\n",
       "      <td>-10.4410</td>\n",
       "      <td>13</td>\n",
       "      <td>2</td>\n",
       "    </tr>\n",
       "  </tbody>\n",
       "</table>\n",
       "</div>"
      ],
      "text/plain": [
       "  row_id  series_id  measurement_number  orientation_W  orientation_X  \\\n",
       "0    0_0          0                   0       -0.10597       -0.75853   \n",
       "1    0_1          0                   1       -0.10600       -0.75853   \n",
       "2    0_2          0                   2       -0.10597       -0.75853   \n",
       "3    0_3          0                   3       -0.10597       -0.75852   \n",
       "4    0_4          0                   4       -0.10596       -0.75852   \n",
       "\n",
       "   orientation_Y  orientation_Z  angular_velocity_X  angular_velocity_Y  \\\n",
       "0       -0.63435       -0.10488            0.107650            0.017561   \n",
       "1       -0.63434       -0.10490            0.067851            0.029939   \n",
       "2       -0.63435       -0.10492            0.007275            0.028934   \n",
       "3       -0.63436       -0.10495           -0.013053            0.019448   \n",
       "4       -0.63435       -0.10495            0.005135            0.007652   \n",
       "\n",
       "   angular_velocity_Z  linear_acceleration_X  linear_acceleration_Y  \\\n",
       "0            0.000767               -0.74857                 2.1030   \n",
       "1            0.003385                0.33995                 1.5064   \n",
       "2           -0.005978               -0.26429                 1.5922   \n",
       "3           -0.008974                0.42684                 1.0993   \n",
       "4            0.005245               -0.50969                 1.4689   \n",
       "\n",
       "   linear_acceleration_Z  group_id  surface  \n",
       "0                -9.7532        13        2  \n",
       "1                -9.4128        13        2  \n",
       "2                -8.7267        13        2  \n",
       "3               -10.0960        13        2  \n",
       "4               -10.4410        13        2  "
      ]
     },
     "execution_count": 6,
     "metadata": {},
     "output_type": "execute_result"
    }
   ],
   "source": [
    "X_train.head()"
   ]
  },
  {
   "cell_type": "code",
   "execution_count": 7,
   "metadata": {
    "execution": {
     "iopub.execute_input": "2021-05-31T12:05:10.352220Z",
     "iopub.status.busy": "2021-05-31T12:05:10.351759Z",
     "iopub.status.idle": "2021-05-31T12:05:10.367366Z",
     "shell.execute_reply": "2021-05-31T12:05:10.365883Z",
     "shell.execute_reply.started": "2021-05-31T12:05:10.352177Z"
    }
   },
   "outputs": [
    {
     "name": "stdout",
     "output_type": "stream",
     "text": [
      "128 3810\n"
     ]
    }
   ],
   "source": [
    "num_meas = 128\n",
    "num_series = X_train['series_id'].nunique()\n",
    "print(num_meas,num_series)"
   ]
  },
  {
   "cell_type": "code",
   "execution_count": 8,
   "metadata": {
    "execution": {
     "iopub.execute_input": "2021-05-31T12:05:10.370839Z",
     "iopub.status.busy": "2021-05-31T12:05:10.370514Z",
     "iopub.status.idle": "2021-05-31T12:05:21.717586Z",
     "shell.execute_reply": "2021-05-31T12:05:21.716714Z",
     "shell.execute_reply.started": "2021-05-31T12:05:10.370805Z"
    }
   },
   "outputs": [],
   "source": [
    "\n",
    "\n",
    "def q_to_angle(q_val):\n",
    "    #We assume q_val is in this format: [qw, q1, q2, q3]\n",
    "    #And the quaternion is normalized\n",
    "    roll = np.arctan2(2*(q_val[0]*q_val[1] + q_val[2]*q_val[3]),1 - 2*(q_val[1]*q_val[1] + q_val[2]*q_val[2]))\n",
    "    pitch = np.arcsin(2*(q_val[0]*q_val[2] - q_val[3]*q_val[1]))\n",
    "    yaw = np.arctan2(2*(q_val[0]*q_val[3] + q_val[1]*q_val[2]),1 - 2*(q_val[2]*q_val[2] + q_val[3]*q_val[3]))\n",
    "    return np.array([roll, pitch, yaw])\n",
    "\n",
    "\n",
    "quat_arr = np.array(X_train[['orientation_W','orientation_X','orientation_Y','orientation_Z']])\n",
    "\n",
    "euler_arr = np.zeros([quat_arr.shape[0],3])\n",
    "for n,arr in enumerate(quat_arr):\n",
    "    euler_arr[n] = q_to_angle(arr)\n",
    "\n",
    "X_train['roll'] = euler_arr[:,0]\n",
    "X_train['pitch'] = euler_arr[:,1]\n",
    "X_train['yaw'] = euler_arr[:,2]"
   ]
  },
  {
   "cell_type": "code",
   "execution_count": 9,
   "metadata": {
    "execution": {
     "iopub.execute_input": "2021-05-31T12:05:21.719766Z",
     "iopub.status.busy": "2021-05-31T12:05:21.719418Z",
     "iopub.status.idle": "2021-05-31T12:05:21.788100Z",
     "shell.execute_reply": "2021-05-31T12:05:21.787256Z",
     "shell.execute_reply.started": "2021-05-31T12:05:21.719731Z"
    }
   },
   "outputs": [],
   "source": [
    "cols = list(X_train.columns.values)\n",
    "cols.remove('group_id')\n",
    "cols.append('group_id')\n",
    "cols.remove('surface')\n",
    "cols.append('surface')\n",
    "X_train = X_train[cols]"
   ]
  },
  {
   "cell_type": "code",
   "execution_count": 10,
   "metadata": {
    "execution": {
     "iopub.execute_input": "2021-05-31T12:05:21.789833Z",
     "iopub.status.busy": "2021-05-31T12:05:21.789469Z",
     "iopub.status.idle": "2021-05-31T12:05:21.829400Z",
     "shell.execute_reply": "2021-05-31T12:05:21.828570Z",
     "shell.execute_reply.started": "2021-05-31T12:05:21.789796Z"
    }
   },
   "outputs": [],
   "source": [
    "feat_cols = ['roll','pitch','yaw','angular_velocity_X','angular_velocity_Y','angular_velocity_Z','linear_acceleration_X','linear_acceleration_Y','linear_acceleration_Z']\n",
    "feat_array = np.array(X_train[feat_cols])\n",
    "feat_array = np.reshape(feat_array,[num_series,128,len(feat_cols)])\n",
    "group_array = np.array(X_train['group_id'])\n",
    "group_array = np.reshape(group_array,[num_series,128])\n",
    "group_array = group_array[:,0]\n",
    "target_array = np.array(X_train['surface'])\n",
    "target_array = np.reshape(target_array,[num_series,128])\n",
    "target_array = target_array[:,0]\n"
   ]
  },
  {
   "cell_type": "code",
   "execution_count": 11,
   "metadata": {
    "execution": {
     "iopub.execute_input": "2021-05-31T12:05:21.831265Z",
     "iopub.status.busy": "2021-05-31T12:05:21.830884Z",
     "iopub.status.idle": "2021-05-31T12:05:21.861552Z",
     "shell.execute_reply": "2021-05-31T12:05:21.860687Z",
     "shell.execute_reply.started": "2021-05-31T12:05:21.831225Z"
    }
   },
   "outputs": [],
   "source": [
    "#Normalize each 128-pt sample to ensure there is no group related information left in the samples\n",
    "norm_cols = ['linear_acceleration_X','linear_acceleration_Y','linear_acceleration_Z','angular_velocity_X','angular_velocity_Y','angular_velocity_Z']\n",
    "for norm in norm_cols:\n",
    "    iia = feat_cols.index(norm)\n",
    "    np_arr = feat_array[:,:,iia]\n",
    "    mean_arr = np.mean(np_arr,1)\n",
    "    mean_arr = np.expand_dims(mean_arr,1)\n",
    "    mean_arr = np.repeat(mean_arr,num_meas,1)\n",
    "    np_arr = np_arr - mean_arr\n",
    "    feat_array[:,:,iia] = np_arr"
   ]
  },
  {
   "cell_type": "code",
   "execution_count": 12,
   "metadata": {
    "execution": {
     "iopub.execute_input": "2021-05-31T12:05:21.863271Z",
     "iopub.status.busy": "2021-05-31T12:05:21.862925Z",
     "iopub.status.idle": "2021-05-31T12:05:22.162261Z",
     "shell.execute_reply": "2021-05-31T12:05:22.161280Z",
     "shell.execute_reply.started": "2021-05-31T12:05:21.863233Z"
    }
   },
   "outputs": [],
   "source": [
    "def absfft(x):\n",
    "    return np.abs(np.fft.rfft(x))\n",
    "\n",
    "feat_fft_array = np.copy(feat_array[:,:,3:])\n",
    "feat_fft_array = np.apply_along_axis(absfft,1,feat_fft_array)"
   ]
  },
  {
   "cell_type": "code",
   "execution_count": 13,
   "metadata": {
    "execution": {
     "iopub.execute_input": "2021-05-31T12:05:22.165854Z",
     "iopub.status.busy": "2021-05-31T12:05:22.165479Z",
     "iopub.status.idle": "2021-05-31T12:05:22.231096Z",
     "shell.execute_reply": "2021-05-31T12:05:22.229753Z",
     "shell.execute_reply.started": "2021-05-31T12:05:22.165819Z"
    }
   },
   "outputs": [],
   "source": [
    "num_sensor = feat_array.shape[2]\n",
    "for i in range(num_sensor):\n",
    "    mean_s = np.mean(feat_array[:,:,i])\n",
    "    sd_s = np.std(feat_array[:,:,i])\n",
    "    feat_array[:,:,i] = (feat_array[:,:,i]-mean_s)/sd_s\n",
    "\n",
    "num_sensor_fft = feat_fft_array.shape[2]\n",
    "for i in range(num_sensor_fft):\n",
    "    mean_s = np.mean(feat_fft_array[:,:,i])\n",
    "    sd_s = np.std(feat_fft_array[:,:,i])\n",
    "    feat_fft_array[:,:,i] = (feat_fft_array[:,:,i]-mean_s)/sd_s"
   ]
  },
  {
   "cell_type": "code",
   "execution_count": 14,
   "metadata": {
    "execution": {
     "iopub.execute_input": "2021-05-31T12:05:22.232959Z",
     "iopub.status.busy": "2021-05-31T12:05:22.232617Z",
     "iopub.status.idle": "2021-05-31T12:05:24.777955Z",
     "shell.execute_reply": "2021-05-31T12:05:24.777028Z",
     "shell.execute_reply.started": "2021-05-31T12:05:22.232925Z"
    }
   },
   "outputs": [
    {
     "name": "stdout",
     "output_type": "stream",
     "text": [
      "\n",
      "Dataset shapes:\n",
      "    raw: (7626, 9, 128)\n",
      "    fft: (7626, 6, 65)\n",
      "    target: (7626,)\n",
      "\n"
     ]
    }
   ],
   "source": [
    "from pathlib import Path\n",
    "# from sklearn.externals import joblib\n",
    "from textwrap import dedent\n",
    "\n",
    "ROOT = Path.cwd().parent/'input'/'career-con-2019-preprocessed-data'\n",
    "# enc = joblib.load(ROOT/'encoder.model')\n",
    "raw_arr = np.load(ROOT/'feat.npy').transpose(0, 2, 1)\n",
    "fft_arr = np.load(ROOT/'feat_fft.npy').transpose(0, 2, 1)\n",
    "target = np.load(ROOT/'target.npy')\n",
    "print(dedent(f'''\n",
    "Dataset shapes:\n",
    "    raw: {raw_arr.shape}\n",
    "    fft: {fft_arr.shape}\n",
    "    target: {target.shape}\n",
    "'''))"
   ]
  },
  {
   "cell_type": "code",
   "execution_count": 15,
   "metadata": {
    "execution": {
     "iopub.execute_input": "2021-05-31T12:05:24.779743Z",
     "iopub.status.busy": "2021-05-31T12:05:24.779234Z",
     "iopub.status.idle": "2021-05-31T12:05:26.110337Z",
     "shell.execute_reply": "2021-05-31T12:05:26.109292Z",
     "shell.execute_reply.started": "2021-05-31T12:05:24.779704Z"
    }
   },
   "outputs": [],
   "source": [
    "from sklearn.model_selection import train_test_split\n",
    "from sklearn.preprocessing import LabelEncoder, StandardScaler\n",
    "import torch\n",
    "from torch import nn\n",
    "from torch import optim\n",
    "from torch.nn import functional as F\n",
    "from torch.optim.lr_scheduler import _LRScheduler\n",
    "from torch.utils.data import TensorDataset, DataLoader"
   ]
  },
  {
   "cell_type": "code",
   "execution_count": 16,
   "metadata": {
    "execution": {
     "iopub.execute_input": "2021-05-31T12:05:26.111957Z",
     "iopub.status.busy": "2021-05-31T12:05:26.111600Z",
     "iopub.status.idle": "2021-05-31T12:05:26.123330Z",
     "shell.execute_reply": "2021-05-31T12:05:26.122248Z",
     "shell.execute_reply.started": "2021-05-31T12:05:26.111921Z"
    }
   },
   "outputs": [],
   "source": [
    "def create_datasets(data, target, train_size, valid_pct=0.1, seed=None):\n",
    "    raw, fft = data\n",
    "    sz = train_size\n",
    "    idx = np.arange(sz)\n",
    "    trn_idx, val_idx = train_test_split(\n",
    "        idx, test_size=valid_pct, random_state=seed)\n",
    "    trn_ds = TensorDataset(\n",
    "        torch.tensor(raw[:sz][trn_idx]).float(), \n",
    "        torch.tensor(fft[:sz][trn_idx]).float(), \n",
    "        torch.tensor(target[:sz][trn_idx]).long())\n",
    "    val_ds = TensorDataset(\n",
    "        torch.tensor(raw[:sz][val_idx]).float(), \n",
    "        torch.tensor(fft[:sz][val_idx]).float(), \n",
    "        torch.tensor(target[:sz][val_idx]).long())\n",
    "    tst_ds = TensorDataset(\n",
    "        torch.tensor(raw[sz:]).float(), \n",
    "        torch.tensor(fft[sz:]).float(), \n",
    "        torch.tensor(target[sz:]).long())\n",
    "    return trn_ds, val_ds, tst_ds"
   ]
  },
  {
   "cell_type": "code",
   "execution_count": 17,
   "metadata": {
    "execution": {
     "iopub.execute_input": "2021-05-31T12:05:26.125194Z",
     "iopub.status.busy": "2021-05-31T12:05:26.124764Z",
     "iopub.status.idle": "2021-05-31T12:05:26.137934Z",
     "shell.execute_reply": "2021-05-31T12:05:26.137054Z",
     "shell.execute_reply.started": "2021-05-31T12:05:26.125155Z"
    }
   },
   "outputs": [],
   "source": [
    "def create_loaders(data, bs=128, jobs=0):    \n",
    "    trn_ds, val_ds, tst_ds = data\n",
    "    trn_dl = DataLoader(trn_ds, batch_size=bs, shuffle=True, num_workers=jobs)\n",
    "    val_dl = DataLoader(val_ds, batch_size=bs, shuffle=False, num_workers=jobs)\n",
    "    tst_dl = DataLoader(tst_ds, batch_size=bs, shuffle=False, num_workers=jobs)\n",
    "    return trn_dl, val_dl, tst_dl"
   ]
  },
  {
   "cell_type": "code",
   "execution_count": 18,
   "metadata": {
    "execution": {
     "iopub.execute_input": "2021-05-31T12:05:26.139847Z",
     "iopub.status.busy": "2021-05-31T12:05:26.139223Z",
     "iopub.status.idle": "2021-05-31T12:05:26.149114Z",
     "shell.execute_reply": "2021-05-31T12:05:26.148298Z",
     "shell.execute_reply.started": "2021-05-31T12:05:26.139806Z"
    }
   },
   "outputs": [],
   "source": [
    "class _SepConv1d(nn.Module):\n",
    "    def __init__(self, ni, no, kernel, stride, pad):\n",
    "        super().__init__()\n",
    "        self.depthwise = nn.Conv1d(ni, ni, kernel, stride, padding=pad, groups=ni)\n",
    "        self.pointwise = nn.Conv1d(ni, no, kernel_size=1)\n",
    "\n",
    "    def forward(self, x):\n",
    "        return self.pointwise(self.depthwise(x))"
   ]
  },
  {
   "cell_type": "code",
   "execution_count": 19,
   "metadata": {
    "execution": {
     "iopub.execute_input": "2021-05-31T12:05:26.152369Z",
     "iopub.status.busy": "2021-05-31T12:05:26.152123Z",
     "iopub.status.idle": "2021-05-31T12:05:26.161013Z",
     "shell.execute_reply": "2021-05-31T12:05:26.160270Z",
     "shell.execute_reply.started": "2021-05-31T12:05:26.152345Z"
    }
   },
   "outputs": [],
   "source": [
    "class SepConv1d(nn.Module):\n",
    "    def __init__(self, ni, no, kernel, stride, pad, drop=None,\n",
    "                 activ=lambda: nn.ReLU(inplace=True)):\n",
    "    \n",
    "        super().__init__()\n",
    "        assert drop is None or (0.0 < drop < 1.0)\n",
    "        layers = [_SepConv1d(ni, no, kernel, stride, pad)]\n",
    "        if activ:\n",
    "            layers.append(activ())\n",
    "        if drop is not None:\n",
    "            layers.append(nn.Dropout(drop))\n",
    "        self.layers = nn.Sequential(*layers)\n",
    "        \n",
    "    def forward(self, x): \n",
    "        return self.layers(x)"
   ]
  },
  {
   "cell_type": "code",
   "execution_count": 20,
   "metadata": {
    "execution": {
     "iopub.execute_input": "2021-05-31T12:05:26.162887Z",
     "iopub.status.busy": "2021-05-31T12:05:26.162302Z",
     "iopub.status.idle": "2021-05-31T12:05:26.175041Z",
     "shell.execute_reply": "2021-05-31T12:05:26.174265Z",
     "shell.execute_reply.started": "2021-05-31T12:05:26.162847Z"
    }
   },
   "outputs": [],
   "source": [
    "class Flatten(nn.Module):\n",
    "    def __init__(self, keep_batch_dim=True):\n",
    "        super().__init__()\n",
    "        self.keep_batch_dim = keep_batch_dim\n",
    "\n",
    "    def forward(self, x):\n",
    "        if self.keep_batch_dim:\n",
    "            return x.view(x.size(0), -1)\n",
    "        return x.view(-1)"
   ]
  },
  {
   "cell_type": "code",
   "execution_count": 21,
   "metadata": {
    "execution": {
     "iopub.execute_input": "2021-05-31T12:05:26.177767Z",
     "iopub.status.busy": "2021-05-31T12:05:26.177456Z",
     "iopub.status.idle": "2021-05-31T12:05:26.192125Z",
     "shell.execute_reply": "2021-05-31T12:05:26.191226Z",
     "shell.execute_reply.started": "2021-05-31T12:05:26.177740Z"
    }
   },
   "outputs": [],
   "source": [
    "class Classifier(nn.Module):\n",
    "    def __init__(self, raw_ni, fft_ni, no, drop=.5):\n",
    "        super().__init__()\n",
    "        \n",
    "        self.raw = nn.Sequential(\n",
    "            SepConv1d(raw_ni,  32, 8, 2, 3, drop=drop),\n",
    "            SepConv1d(    32,  64, 8, 4, 2, drop=drop),\n",
    "            SepConv1d(    64, 128, 8, 4, 2, drop=drop),\n",
    "            SepConv1d(   128, 256, 8, 4, 2),\n",
    "            Flatten(),\n",
    "            nn.Dropout(drop), nn.Linear(256, 64), nn.ReLU(inplace=True),\n",
    "            nn.Dropout(drop), nn.Linear( 64, 64), nn.ReLU(inplace=True))\n",
    "        \n",
    "        self.fft = nn.Sequential(\n",
    "            SepConv1d(fft_ni,  32, 8, 2, 4, drop=drop),\n",
    "            SepConv1d(    32,  64, 8, 2, 4, drop=drop),\n",
    "            SepConv1d(    64, 128, 8, 4, 4, drop=drop),\n",
    "            SepConv1d(   128, 128, 8, 4, 4, drop=drop),\n",
    "            SepConv1d(   128, 256, 8, 2, 3),\n",
    "            Flatten(),\n",
    "            nn.Dropout(drop), nn.Linear(256, 64), nn.ReLU(inplace=True),\n",
    "            nn.Dropout(drop), nn.Linear( 64, 64), nn.ReLU(inplace=True))\n",
    "        \n",
    "        self.out = nn.Sequential(\n",
    "            nn.Linear(128, 64), nn.ReLU(inplace=True), nn.Linear(64, no))\n",
    "        \n",
    "    def forward(self, t_raw, t_fft):\n",
    "        raw_out = self.raw(t_raw)\n",
    "        fft_out = self.fft(t_fft)\n",
    "        t_in = torch.cat([raw_out, fft_out], dim=1)\n",
    "        out = self.out(t_in)\n",
    "        return out"
   ]
  },
  {
   "cell_type": "code",
   "execution_count": 22,
   "metadata": {
    "execution": {
     "iopub.execute_input": "2021-05-31T12:05:26.193887Z",
     "iopub.status.busy": "2021-05-31T12:05:26.193436Z",
     "iopub.status.idle": "2021-05-31T12:05:26.205237Z",
     "shell.execute_reply": "2021-05-31T12:05:26.204371Z",
     "shell.execute_reply.started": "2021-05-31T12:05:26.193850Z"
    }
   },
   "outputs": [],
   "source": [
    "trn_sz = 3810"
   ]
  },
  {
   "cell_type": "code",
   "execution_count": 23,
   "metadata": {
    "execution": {
     "iopub.execute_input": "2021-05-31T12:05:26.210237Z",
     "iopub.status.busy": "2021-05-31T12:05:26.209904Z",
     "iopub.status.idle": "2021-05-31T12:05:26.323758Z",
     "shell.execute_reply": "2021-05-31T12:05:26.322918Z",
     "shell.execute_reply.started": "2021-05-31T12:05:26.210212Z"
    }
   },
   "outputs": [],
   "source": [
    "datasets = create_datasets((raw_arr, fft_arr), target, trn_sz, seed=np.random.seed(1))"
   ]
  },
  {
   "cell_type": "code",
   "execution_count": 24,
   "metadata": {
    "execution": {
     "iopub.execute_input": "2021-05-31T12:05:26.327327Z",
     "iopub.status.busy": "2021-05-31T12:05:26.327059Z",
     "iopub.status.idle": "2021-05-31T12:05:26.395021Z",
     "shell.execute_reply": "2021-05-31T12:05:26.394007Z",
     "shell.execute_reply.started": "2021-05-31T12:05:26.327299Z"
    }
   },
   "outputs": [],
   "source": [
    "device = torch.device('cuda:0' if torch.cuda.is_available() else 'cpu')"
   ]
  },
  {
   "cell_type": "code",
   "execution_count": 28,
   "metadata": {
    "execution": {
     "iopub.execute_input": "2021-05-31T12:10:15.308507Z",
     "iopub.status.busy": "2021-05-31T12:10:15.308155Z",
     "iopub.status.idle": "2021-05-31T12:24:00.305358Z",
     "shell.execute_reply": "2021-05-31T12:24:00.304465Z",
     "shell.execute_reply.started": "2021-05-31T12:10:15.308461Z"
    }
   },
   "outputs": [
    {
     "name": "stdout",
     "output_type": "stream",
     "text": [
      "Start model training\n",
      "Epoch:   1. Loss: 1.9173. Acc.: 16.54%\n",
      "Epoch 1 best model saved with accuracy: 16.54%\n",
      "Epoch:   2. Loss: 1.8410. Acc.: 19.69%\n",
      "Epoch 2 best model saved with accuracy: 19.69%\n",
      "Epoch:   4. Loss: 1.8109. Acc.: 19.69%\n",
      "Epoch:   8. Loss: 1.8106. Acc.: 19.69%\n",
      "Epoch 9 best model saved with accuracy: 23.36%\n",
      "Epoch 12 best model saved with accuracy: 33.33%\n",
      "Epoch 14 best model saved with accuracy: 34.38%\n",
      "Epoch:  16. Loss: 1.5151. Acc.: 30.45%\n",
      "Epoch 19 best model saved with accuracy: 35.17%\n",
      "Epoch 20 best model saved with accuracy: 37.01%\n",
      "Epoch 22 best model saved with accuracy: 38.32%\n",
      "Epoch 27 best model saved with accuracy: 40.42%\n",
      "Epoch 28 best model saved with accuracy: 43.31%\n",
      "Epoch:  32. Loss: 1.3041. Acc.: 42.26%\n",
      "Epoch 38 best model saved with accuracy: 44.62%\n",
      "Epoch 39 best model saved with accuracy: 45.67%\n",
      "Epoch 41 best model saved with accuracy: 52.23%\n",
      "Epoch 45 best model saved with accuracy: 52.76%\n",
      "Epoch 46 best model saved with accuracy: 53.81%\n",
      "Epoch 47 best model saved with accuracy: 58.79%\n",
      "Epoch 50 best model saved with accuracy: 59.06%\n",
      "Epoch 52 best model saved with accuracy: 64.57%\n",
      "Epoch 57 best model saved with accuracy: 65.35%\n",
      "Epoch:  64. Loss: 0.9056. Acc.: 64.30%\n",
      "Epoch 66 best model saved with accuracy: 66.14%\n",
      "Epoch 83 best model saved with accuracy: 67.19%\n",
      "Epoch 99 best model saved with accuracy: 67.45%\n",
      "Epoch 100 best model saved with accuracy: 68.77%\n",
      "Epoch 109 best model saved with accuracy: 69.29%\n",
      "Epoch 111 best model saved with accuracy: 69.55%\n",
      "Epoch 116 best model saved with accuracy: 70.60%\n",
      "Epoch: 128. Loss: 0.7489. Acc.: 70.60%\n",
      "Epoch 132 best model saved with accuracy: 71.13%\n",
      "Epoch 152 best model saved with accuracy: 71.92%\n",
      "Epoch 167 best model saved with accuracy: 72.44%\n",
      "Epoch 172 best model saved with accuracy: 72.70%\n",
      "Epoch 182 best model saved with accuracy: 73.75%\n",
      "Epoch 213 best model saved with accuracy: 75.07%\n",
      "Epoch: 256. Loss: 0.6533. Acc.: 73.75%\n",
      "Epoch 299 best model saved with accuracy: 75.85%\n",
      "Epoch 304 best model saved with accuracy: 76.12%\n",
      "Epoch 412 best model saved with accuracy: 76.38%\n",
      "Epoch 449 best model saved with accuracy: 76.64%\n",
      "Epoch: 512. Loss: 0.5625. Acc.: 73.23%\n",
      "Epoch 580 best model saved with accuracy: 76.90%\n",
      "Epoch 601 best model saved with accuracy: 77.17%\n",
      "Epoch 603 best model saved with accuracy: 77.43%\n",
      "Epoch 764 best model saved with accuracy: 78.22%\n",
      "Epoch 900 best model saved with accuracy: 79.00%\n",
      "Epoch 1009 best model saved with accuracy: 79.27%\n",
      "Epoch: 1024. Loss: 0.4633. Acc.: 76.38%\n",
      "Epoch 1087 best model saved with accuracy: 79.79%\n",
      "Epoch 1167 best model saved with accuracy: 80.05%\n",
      "Epoch 1340 best model saved with accuracy: 80.58%\n",
      "Epoch 1508 best model saved with accuracy: 80.84%\n",
      "Epoch 1968 best model saved with accuracy: 81.36%\n",
      "Epoch 1974 best model saved with accuracy: 81.89%\n",
      "Epoch: 2048. Loss: 0.3904. Acc.: 77.69%\n",
      "Early stopping on epoch 2474\n",
      "Done!\n"
     ]
    }
   ],
   "source": [
    "raw_feat = raw_arr.shape[1]\n",
    "fft_feat = fft_arr.shape[1]\n",
    "\n",
    "trn_dl, val_dl, tst_dl = create_loaders(datasets, bs=256)\n",
    "\n",
    "lr = 0.001\n",
    "n_epochs = 3000\n",
    "iterations_per_epoch = len(trn_dl)\n",
    "num_classes = 9\n",
    "best_acc = 0\n",
    "patience, trials = 500, 0\n",
    "base = 1\n",
    "step = 2\n",
    "loss_history = {\"train\": [], \"test\": []}\n",
    "acc_history = {\"train\": [], \"test\": []}\n",
    "\n",
    "model = Classifier(raw_feat, fft_feat, num_classes).to(device)\n",
    "criterion = nn.CrossEntropyLoss(reduction='sum')\n",
    "opt = optim.Adam(model.parameters(), lr=lr)\n",
    "\n",
    "print('Start model training')\n",
    "\n",
    "for epoch in range(1, n_epochs + 1):\n",
    "    \n",
    "    model.train()\n",
    "    correct, total = 0, 0\n",
    "    epoch_loss = 0\n",
    "    for i, batch in enumerate(trn_dl):\n",
    "        x_raw, x_fft, y_batch = [t.to(device) for t in batch]\n",
    "        opt.zero_grad()\n",
    "        out = model(x_raw, x_fft)\n",
    "        loss = criterion(out, y_batch)\n",
    "        preds = F.log_softmax(out, dim=1).argmax(dim=1)\n",
    "        total += y_batch.size(0)\n",
    "        correct += (preds == y_batch).sum().item()\n",
    "        epoch_loss += loss.item()\n",
    "        loss.backward()\n",
    "        opt.step()\n",
    "        \n",
    "    epoch_loss /= trn_sz\n",
    "    acc = correct / total\n",
    "    loss_history['train'].append(loss.item())\n",
    "    acc_history[\"train\"].append(acc)\n",
    "    \n",
    "    model.eval()\n",
    "    correct, total = 0, 0\n",
    "    for batch in val_dl:\n",
    "        x_raw, x_fft, y_batch = [t.to(device) for t in batch]\n",
    "        out = model(x_raw, x_fft)\n",
    "        loss = criterion(out, y_batch)\n",
    "        preds = F.log_softmax(out, dim=1).argmax(dim=1)\n",
    "        total += y_batch.size(0)\n",
    "        correct += (preds == y_batch).sum().item()\n",
    "    \n",
    "    acc = correct / total\n",
    "    loss_history['test'].append(loss.item())\n",
    "    acc_history[\"test\"].append(acc)\n",
    "\n",
    "    if epoch % base == 0:\n",
    "        print(f'Epoch: {epoch:3d}. Loss: {epoch_loss:.4f}. Acc.: {acc:2.2%}')\n",
    "        base *= step\n",
    "\n",
    "    if acc > best_acc:\n",
    "        trials = 0\n",
    "        best_acc = acc\n",
    "        torch.save(model.state_dict(), 'best.pth')\n",
    "        print(f'Epoch {epoch} best model saved with accuracy: {best_acc:2.2%}')\n",
    "    else:\n",
    "        trials += 1\n",
    "        if trials >= patience:\n",
    "            print(f'Early stopping on epoch {epoch}')\n",
    "            break\n",
    "            \n",
    "print('Done!')"
   ]
  },
  {
   "cell_type": "code",
   "execution_count": 30,
   "metadata": {
    "execution": {
     "iopub.execute_input": "2021-05-31T12:25:25.821244Z",
     "iopub.status.busy": "2021-05-31T12:25:25.820909Z",
     "iopub.status.idle": "2021-05-31T12:25:25.824974Z",
     "shell.execute_reply": "2021-05-31T12:25:25.823926Z",
     "shell.execute_reply.started": "2021-05-31T12:25:25.821215Z"
    }
   },
   "outputs": [],
   "source": [
    "import matplotlib.pyplot as plt"
   ]
  },
  {
   "cell_type": "code",
   "execution_count": 38,
   "metadata": {
    "execution": {
     "iopub.execute_input": "2021-05-31T12:29:04.300073Z",
     "iopub.status.busy": "2021-05-31T12:29:04.299730Z",
     "iopub.status.idle": "2021-05-31T12:29:04.454056Z",
     "shell.execute_reply": "2021-05-31T12:29:04.452988Z",
     "shell.execute_reply.started": "2021-05-31T12:29:04.300040Z"
    }
   },
   "outputs": [
    {
     "data": {
      "image/png": "[encoded data removed]",
      "text/plain": [
       "<Figure size 432x288 with 1 Axes>"
      ]
     },
     "metadata": {
      "needs_background": "light"
     },
     "output_type": "display_data"
    }
   ],
   "source": [
    "# num_epochs=n_epochs\n",
    "plt.title(\"Train-Val Loss\")\n",
    "plt.plot(range(1,len(loss_history[\"train\"]) + 1),loss_history[\"train\"],label=\"train\")\n",
    "plt.plot(range(1,len(loss_history[\"train\"]) + 1),loss_history[\"test\"],label=\"test\")\n",
    "plt.ylabel(\"Loss\")\n",
    "plt.xlabel(\"Training Epochs\")\n",
    "plt.legend()\n",
    "plt.show()"
   ]
  },
  {
   "cell_type": "code",
   "execution_count": 39,
   "metadata": {
    "execution": {
     "iopub.execute_input": "2021-05-31T12:29:07.120062Z",
     "iopub.status.busy": "2021-05-31T12:29:07.119743Z",
     "iopub.status.idle": "2021-05-31T12:29:07.285884Z",
     "shell.execute_reply": "2021-05-31T12:29:07.285100Z",
     "shell.execute_reply.started": "2021-05-31T12:29:07.120031Z"
    }
   },
   "outputs": [
    {
     "data": {
      "image/png": "[encoded data removed]",
      "text/plain": [
       "<Figure size 432x288 with 1 Axes>"
      ]
     },
     "metadata": {
      "needs_background": "light"
     },
     "output_type": "display_data"
    }
   ],
   "source": [
    "plt.title(\"Train-Val Accuracy\")\n",
    "plt.plot(range(1,len(acc_history[\"train\"]) + 1),acc_history[\"train\"],label=\"train\")\n",
    "plt.plot(range(1,len(acc_history[\"test\"]) + 1),acc_history[\"test\"],label=\"test\")\n",
    "plt.ylabel(\"Accuracy\")\n",
    "plt.xlabel(\"Training Epochs\")\n",
    "plt.legend()\n",
    "plt.show()"
   ]
  },
  {
   "cell_type": "code",
   "execution_count": null,
   "metadata": {},
   "outputs": [],
   "source": []
  },
  {
   "cell_type": "code",
   "execution_count": null,
   "metadata": {},
   "outputs": [],
   "source": []
  }
 ],
 "metadata": {
  "kernelspec": {
   "display_name": "Python 3",
   "language": "python",
   "name": "python3"
  },
  "language_info": {
   "codemirror_mode": {
    "name": "ipython",
    "version": 3
   },
   "file_extension": ".py",
   "mimetype": "text/x-python",
   "name": "python",
   "nbconvert_exporter": "python",
   "pygments_lexer": "ipython3",
   "version": "3.7.3"
  }
 },
 "nbformat": 4,
 "nbformat_minor": 4
}
